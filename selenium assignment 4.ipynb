{
 "cells": [
  {
   "cell_type": "code",
   "execution_count": 1,
   "id": "b544404b",
   "metadata": {},
   "outputs": [
    {
     "name": "stdout",
     "output_type": "stream",
     "text": [
      "Requirement already satisfied: selenium in c:\\users\\ashlie\\anaconda3\\lib\\site-packages (4.18.1)\n",
      "Requirement already satisfied: urllib3[socks]<3,>=1.26 in c:\\users\\ashlie\\anaconda3\\lib\\site-packages (from selenium) (1.26.16)\n",
      "Requirement already satisfied: trio~=0.17 in c:\\users\\ashlie\\anaconda3\\lib\\site-packages (from selenium) (0.24.0)\n",
      "Requirement already satisfied: trio-websocket~=0.9 in c:\\users\\ashlie\\anaconda3\\lib\\site-packages (from selenium) (0.11.1)\n",
      "Requirement already satisfied: certifi>=2021.10.8 in c:\\users\\ashlie\\anaconda3\\lib\\site-packages (from selenium) (2023.7.22)\n",
      "Requirement already satisfied: typing_extensions>=4.9.0 in c:\\users\\ashlie\\anaconda3\\lib\\site-packages (from selenium) (4.10.0)\n",
      "Requirement already satisfied: attrs>=20.1.0 in c:\\users\\ashlie\\anaconda3\\lib\\site-packages (from trio~=0.17->selenium) (22.1.0)\n",
      "Requirement already satisfied: sortedcontainers in c:\\users\\ashlie\\anaconda3\\lib\\site-packages (from trio~=0.17->selenium) (2.4.0)\n",
      "Requirement already satisfied: idna in c:\\users\\ashlie\\anaconda3\\lib\\site-packages (from trio~=0.17->selenium) (3.4)\n",
      "Requirement already satisfied: outcome in c:\\users\\ashlie\\anaconda3\\lib\\site-packages (from trio~=0.17->selenium) (1.3.0.post0)\n",
      "Requirement already satisfied: sniffio>=1.3.0 in c:\\users\\ashlie\\anaconda3\\lib\\site-packages (from trio~=0.17->selenium) (1.3.1)\n",
      "Requirement already satisfied: cffi>=1.14 in c:\\users\\ashlie\\anaconda3\\lib\\site-packages (from trio~=0.17->selenium) (1.15.1)\n",
      "Requirement already satisfied: wsproto>=0.14 in c:\\users\\ashlie\\anaconda3\\lib\\site-packages (from trio-websocket~=0.9->selenium) (1.2.0)\n",
      "Requirement already satisfied: PySocks!=1.5.7,<2.0,>=1.5.6 in c:\\users\\ashlie\\anaconda3\\lib\\site-packages (from urllib3[socks]<3,>=1.26->selenium) (1.7.1)\n",
      "Requirement already satisfied: pycparser in c:\\users\\ashlie\\anaconda3\\lib\\site-packages (from cffi>=1.14->trio~=0.17->selenium) (2.21)\n",
      "Requirement already satisfied: h11<1,>=0.9.0 in c:\\users\\ashlie\\anaconda3\\lib\\site-packages (from wsproto>=0.14->trio-websocket~=0.9->selenium) (0.14.0)\n",
      "Requirement already satisfied: webdriver_manager in c:\\users\\ashlie\\anaconda3\\lib\\site-packages (4.0.1)\n",
      "Requirement already satisfied: requests in c:\\users\\ashlie\\anaconda3\\lib\\site-packages (from webdriver_manager) (2.31.0)\n",
      "Requirement already satisfied: python-dotenv in c:\\users\\ashlie\\anaconda3\\lib\\site-packages (from webdriver_manager) (1.0.1)\n",
      "Requirement already satisfied: packaging in c:\\users\\ashlie\\anaconda3\\lib\\site-packages (from webdriver_manager) (23.0)\n",
      "Requirement already satisfied: charset-normalizer<4,>=2 in c:\\users\\ashlie\\anaconda3\\lib\\site-packages (from requests->webdriver_manager) (2.0.4)\n",
      "Requirement already satisfied: idna<4,>=2.5 in c:\\users\\ashlie\\anaconda3\\lib\\site-packages (from requests->webdriver_manager) (3.4)\n",
      "Requirement already satisfied: urllib3<3,>=1.21.1 in c:\\users\\ashlie\\anaconda3\\lib\\site-packages (from requests->webdriver_manager) (1.26.16)\n",
      "Requirement already satisfied: certifi>=2017.4.17 in c:\\users\\ashlie\\anaconda3\\lib\\site-packages (from requests->webdriver_manager) (2023.7.22)\n"
     ]
    }
   ],
   "source": [
    "!pip install selenium\n",
    "!pip install webdriver_manager\n",
    "import warnings\n",
    "import selenium\n",
    "import pandas as pd\n",
    "import time\n",
    "from bs4 import BeautifulSoup\n",
    "from selenium import webdriver\n",
    "from selenium.common.exceptions import StaleElementReferenceException, NoSuchElementException\n",
    "import requests\n",
    "from selenium.webdriver.common.by import By\n",
    "from selenium.webdriver.support.ui import WebDriverWait\n",
    "import warnings\n",
    "warnings.filterwarnings('ignore')\n",
    "from selenium.webdriver.support import expected_conditions as EC\n",
    "from selenium.webdriver.common.keys import Keys"
   ]
  },
  {
   "cell_type": "code",
   "execution_count": 2,
   "id": "759b16a7",
   "metadata": {},
   "outputs": [],
   "source": [
    "from webdriver_manager.chrome import ChromeDriverManager\n",
    "from selenium.webdriver.chrome.service import Service"
   ]
  },
  {
   "cell_type": "code",
   "execution_count": 3,
   "id": "4f509392",
   "metadata": {},
   "outputs": [],
   "source": [
    "driver=webdriver.Chrome(service=Service(ChromeDriverManager().install()))"
   ]
  },
  {
   "cell_type": "code",
   "execution_count": 4,
   "id": "5be7a907",
   "metadata": {},
   "outputs": [],
   "source": [
    "driver=webdriver.Chrome()"
   ]
  },
  {
   "cell_type": "code",
   "execution_count": 191,
   "id": "a322e2e1",
   "metadata": {},
   "outputs": [],
   "source": [
    "#question no 1\n",
    "driver.get('https://en.wikipedia.org/wiki/List_of_most-viewed_YouTube_videos')"
   ]
  },
  {
   "cell_type": "code",
   "execution_count": 192,
   "id": "28af1004",
   "metadata": {},
   "outputs": [],
   "source": [
    "videos=driver.find_element(By.XPATH,'/html/body')\n",
    "videos.send_keys(\"most viewed Youtub videos\")"
   ]
  },
  {
   "cell_type": "code",
   "execution_count": 193,
   "id": "bd8ebf81",
   "metadata": {},
   "outputs": [],
   "source": [
    "search=driver.find_element(By.XPATH,'/html/body')\n",
    "search.click()"
   ]
  },
  {
   "cell_type": "code",
   "execution_count": 211,
   "id": "f6249ea5",
   "metadata": {},
   "outputs": [],
   "source": [
    "song=[]\n",
    "s=driver.find_elements(By.XPATH,'//a[@class=\"mw-redirect\"]')\n",
    "for i in s:\n",
    "    song.append(i.text)"
   ]
  },
  {
   "cell_type": "code",
   "execution_count": 229,
   "id": "063c2d49",
   "metadata": {},
   "outputs": [],
   "source": [
    "Artist=[]\n",
    "art=driver.find_elements(By.XPATH,'//a[@title=\"Pinkfong\"]')\n",
    "for i in art:\n",
    "    Artist.append(i.text)"
   ]
  },
  {
   "cell_type": "code",
   "execution_count": 217,
   "id": "e6360549",
   "metadata": {},
   "outputs": [],
   "source": [
    "Upload_date=[]\n",
    "upload=driver.find_elements(By.XPATH,'/html/body/div[2]/div/div[3]/main/div[3]/div[3]/div[1]/table[3]/tbody/tr[1]/td[4]')\n",
    "for i in upload:\n",
    "    Upload_date.append(i.text)"
   ]
  },
  {
   "cell_type": "code",
   "execution_count": 215,
   "id": "2ff5680c",
   "metadata": {},
   "outputs": [],
   "source": [
    "Views=[]\n",
    "view=driver.find_elements(By.XPATH,'//td[@align=\"right\"]')\n",
    "for i in view:\n",
    "    Views.append(i.text)"
   ]
  },
  {
   "cell_type": "code",
   "execution_count": 181,
   "id": "7243992c",
   "metadata": {},
   "outputs": [],
   "source": [
    "#question no 2\n",
    "driver.get('https://www.bcci.tv/')"
   ]
  },
  {
   "cell_type": "code",
   "execution_count": 182,
   "id": "696a91d4",
   "metadata": {},
   "outputs": [],
   "source": [
    "team=driver.find_element(By.XPATH,'/html/body/header/div[3]/div[2]/ul/div[1]/a[2]')\n",
    "team.click()"
   ]
  },
  {
   "cell_type": "code",
   "execution_count": 183,
   "id": "c10bb9a7",
   "metadata": {},
   "outputs": [],
   "source": [
    "Series=[]\n",
    "series_tag=driver.find_elements(By.XPATH,'//h5[@class=\"match-tournament-name ng-binding\"]')\n",
    "for i in series_tag:\n",
    "    Series.append(i.text)"
   ]
  },
  {
   "cell_type": "code",
   "execution_count": 185,
   "id": "2f73695f",
   "metadata": {},
   "outputs": [],
   "source": [
    "Place=[]\n",
    "place_tag=driver.find_elements(By.XPATH,'//span[@class=\"ng-binding ng-scope\"]')\n",
    "for i in place_tag:\n",
    "    Place.append(i.text)"
   ]
  },
  {
   "cell_type": "code",
   "execution_count": 186,
   "id": "0c32c545",
   "metadata": {},
   "outputs": [],
   "source": [
    "Date=[]\n",
    "date_tag=driver.find_elements(By.XPATH,'//div[@class=\"match-dates ng-binding\"]')\n",
    "for i in date_tag:\n",
    "    Date.append(i.text)"
   ]
  },
  {
   "cell_type": "code",
   "execution_count": 187,
   "id": "027ffa08",
   "metadata": {},
   "outputs": [],
   "source": [
    "Time=[]\n",
    "time_tag=driver.find_elements(By.XPATH,'//div[@class=\"match-time no-margin ng-binding\"]')\n",
    "for i in time_tag:\n",
    "    Time.append(i.text)"
   ]
  },
  {
   "cell_type": "code",
   "execution_count": 149,
   "id": "9abede74",
   "metadata": {},
   "outputs": [],
   "source": [
    "#question no 3\n",
    "driver.get('https://www.statisticstimes.com/')"
   ]
  },
  {
   "cell_type": "code",
   "execution_count": 159,
   "id": "468132c4",
   "metadata": {},
   "outputs": [],
   "source": [
    "eco=driver.find_element(By.XPATH,'/html/body')\n",
    "eco.click()\n"
   ]
  },
  {
   "cell_type": "code",
   "execution_count": 156,
   "id": "5584bab0",
   "metadata": {},
   "outputs": [],
   "source": [
    "search=driver.find_element(By.XPATH,'/html/body/div[2]/div[2]/div[2]/ul/li[1]/a')\n",
    "search.click()"
   ]
  },
  {
   "cell_type": "code",
   "execution_count": 160,
   "id": "27755ad3",
   "metadata": {},
   "outputs": [],
   "source": [
    "Rank=[]\n",
    "rank=driver.find_elements(By.XPATH,'//td[@class=\"data1\"]')\n",
    "for i in rank:\n",
    "    Rank.append(i.text)"
   ]
  },
  {
   "cell_type": "code",
   "execution_count": 179,
   "id": "09b2ab82",
   "metadata": {},
   "outputs": [],
   "source": [
    "State=[]\n",
    "state=driver.find_elements(By.XPATH,'//tr[@class=\"odd\"]/td[2]')\n",
    "for i in state:\n",
    "    State.append(i.text)"
   ]
  },
  {
   "cell_type": "code",
   "execution_count": 169,
   "id": "fa572865",
   "metadata": {},
   "outputs": [],
   "source": [
    "GSDP_2021=[]\n",
    "gsdp=driver.find_elements(By.XPATH,'//tr[@class=\"odd\"]/td[4]')\n",
    "for i in gsdp:\n",
    "    GSDP_2021.append(i.text)"
   ]
  },
  {
   "cell_type": "code",
   "execution_count": 171,
   "id": "2e899aa3",
   "metadata": {},
   "outputs": [],
   "source": [
    "GSDP_2023=[]\n",
    "gsdp_=driver.find_elements(By.XPATH,'//tr[@class=\"odd\"]/td[3]')\n",
    "for i in gsdp_:\n",
    "    GSDP_2023.append(i.text)"
   ]
  },
  {
   "cell_type": "code",
   "execution_count": 176,
   "id": "ac5e1059",
   "metadata": {},
   "outputs": [],
   "source": [
    "Share=[]\n",
    "share=driver.find_elements(By.XPATH,'//tr[@class=\"odd\"]/td[5]')\n",
    "for i in share:\n",
    "    Share.append(i.text)"
   ]
  },
  {
   "cell_type": "code",
   "execution_count": 178,
   "id": "1bfef19c",
   "metadata": {},
   "outputs": [],
   "source": [
    "GDP=[]\n",
    "gdp=driver.find_elements(By.XPATH,'//tr[@class=\"odd\"]/td[6]')\n",
    "for i in gdp:\n",
    "    GDP.append(i.text)"
   ]
  },
  {
   "cell_type": "code",
   "execution_count": 129,
   "id": "38376783",
   "metadata": {},
   "outputs": [],
   "source": [
    "#question no 4\n",
    "driver.get('https://github.com/')"
   ]
  },
  {
   "cell_type": "code",
   "execution_count": 136,
   "id": "20dc976a",
   "metadata": {},
   "outputs": [],
   "source": [
    "trending=driver.find_element(By.XPATH,'/html/body/div[1]/div[1]/header/div/div[2]/div/nav/ul/li[3]/div/div[3]/ul/li[2]/a')\n",
    "trending.click()"
   ]
  },
  {
   "cell_type": "code",
   "execution_count": 137,
   "id": "059ce764",
   "metadata": {},
   "outputs": [],
   "source": [
    "repository_title=[]\n",
    "repository=driver.find_elements(By.XPATH,'//h2[@class=\"h3 lh-condensed\"]')\n",
    "for i in repository:\n",
    "    repository_title.append(i.text)"
   ]
  },
  {
   "cell_type": "code",
   "execution_count": 139,
   "id": "d68af8a6",
   "metadata": {},
   "outputs": [],
   "source": [
    "repository_description=[]\n",
    "repository=driver.find_elements(By.XPATH,'//p[@class=\"col-9 color-fg-muted my-1 pr-4\"]')\n",
    "for i in repository:\n",
    "    repository_description.append(i.text)"
   ]
  },
  {
   "cell_type": "code",
   "execution_count": 143,
   "id": "85348b3b",
   "metadata": {},
   "outputs": [],
   "source": [
    "contributor_count=[]\n",
    "contributor=driver.find_elements(By.XPATH,'//div[@class=\"f6 color-fg-muted mt-2\"]/a[2]')\n",
    "for i in contributor:\n",
    "    contributor_count.append(i.text)"
   ]
  },
  {
   "cell_type": "code",
   "execution_count": 147,
   "id": "7b72be80",
   "metadata": {},
   "outputs": [],
   "source": [
    "language_used=[]\n",
    "language=driver.find_elements(By.XPATH,'//span[@itemprop=\"programmingLanguage\"]')\n",
    "for i in language:\n",
    "    language_used.append(i.text)"
   ]
  },
  {
   "cell_type": "code",
   "execution_count": 104,
   "id": "f90c54f3",
   "metadata": {},
   "outputs": [],
   "source": [
    "#question no 5\n",
    "driver.get('https://www.billboard.com/')"
   ]
  },
  {
   "cell_type": "code",
   "execution_count": 108,
   "id": "ac6fb50c",
   "metadata": {},
   "outputs": [],
   "source": [
    "hot_100=driver.find_element(By.CLASS_NAME,'c-label')\n",
    "hot_100.click()"
   ]
  },
  {
   "cell_type": "code",
   "execution_count": 109,
   "id": "b4490b39",
   "metadata": {},
   "outputs": [],
   "source": [
    "song_name=[]\n",
    "song=driver.find_elements(By.XPATH,'//h3[@class=\"c-title  a-no-trucate a-font-primary-bold-s u-letter-spacing-0021 lrv-u-font-size-18@tablet lrv-u-font-size-16 u-line-height-125 u-line-height-normal@mobile-max a-truncate-ellipsis u-max-width-330 u-max-width-230@tablet-only\"]')\n",
    "for i in song:\n",
    "    song_name.append(i.text)"
   ]
  },
  {
   "cell_type": "code",
   "execution_count": 111,
   "id": "8ebb3fc7",
   "metadata": {},
   "outputs": [],
   "source": [
    "artist_name=[]\n",
    "artist=driver.find_elements(By.XPATH,'//span[@class=\"c-label  a-no-trucate a-font-primary-s lrv-u-font-size-14@mobile-max u-line-height-normal@mobile-max u-letter-spacing-0021 lrv-u-display-block a-truncate-ellipsis-2line u-max-width-330 u-max-width-230@tablet-only\"]')\n",
    "for i in artist:\n",
    "    artist_name.append(i.text)"
   ]
  },
  {
   "cell_type": "code",
   "execution_count": 124,
   "id": "98972f4b",
   "metadata": {},
   "outputs": [],
   "source": [
    "lastweeks_rank=[]\n",
    "rank=driver.find_elements(By.XPATH,'//li[@class=\"lrv-u-width-100p\"]/ul/li[4]')\n",
    "for i in rank:\n",
    "    lastweeks_rank.append(i.text)"
   ]
  },
  {
   "cell_type": "code",
   "execution_count": 123,
   "id": "32d799bf",
   "metadata": {},
   "outputs": [],
   "source": [
    "peak_rank=[]\n",
    "peak=driver.find_elements(By.XPATH,'//li[@class=\"lrv-u-width-100p\"]/ul/li[5]')\n",
    "for i in peak:\n",
    "    peak_rank.append(i.text)"
   ]
  },
  {
   "cell_type": "code",
   "execution_count": 122,
   "id": "44194f15",
   "metadata": {},
   "outputs": [],
   "source": [
    "weekson_board=[]\n",
    "onboard=driver.find_elements(By.XPATH,'//li[@class=\"lrv-u-width-100p\"]/ul/li[6]')\n",
    "for i in onboard:\n",
    "    weekson_board.append(i.text)"
   ]
  },
  {
   "cell_type": "code",
   "execution_count": 6,
   "id": "5806fc9e",
   "metadata": {},
   "outputs": [],
   "source": [
    "#question no 6\n",
    "driver.get(' https://www.theguardian.com/news/datablog/2012/aug/09/best-selling-books-all-time-fifty-shades-grey-compare')"
   ]
  },
  {
   "cell_type": "code",
   "execution_count": 63,
   "id": "714fdbb1",
   "metadata": {},
   "outputs": [],
   "source": [
    "book_name=[]\n",
    "book=driver.find_elements(By.XPATH,'//tr[@class=\"odd\"]/td[2]')\n",
    "for i in book:\n",
    "    book_name.append(i.text)"
   ]
  },
  {
   "cell_type": "code",
   "execution_count": 66,
   "id": "b8811947",
   "metadata": {},
   "outputs": [],
   "source": [
    "author_name=[]\n",
    "author=driver.find_elements(By.XPATH,'//tr[@class=\"odd\"]/td[3]')\n",
    "for i in author:\n",
    "    author_name.append(i.text)"
   ]
  },
  {
   "cell_type": "code",
   "execution_count": 68,
   "id": "de7e0613",
   "metadata": {},
   "outputs": [],
   "source": [
    "volumes_sold=[]\n",
    "volumes=driver.find_elements(By.XPATH,'//tr[@class=\"odd\"]/td[4]')\n",
    "for i in volumes:\n",
    "    volumes_sold.append(i.text)"
   ]
  },
  {
   "cell_type": "code",
   "execution_count": 69,
   "id": "9be54ef5",
   "metadata": {},
   "outputs": [],
   "source": [
    "publisher=[]\n",
    "publish=driver.find_elements(By.XPATH,'//tr[@class=\"odd\"]/td[5]')\n",
    "for i in publish:\n",
    "    publisher.append(i.text)"
   ]
  },
  {
   "cell_type": "code",
   "execution_count": 50,
   "id": "b73223d1",
   "metadata": {},
   "outputs": [],
   "source": [
    "genre=[]\n",
    "gen=driver.find_elements(By.XPATH,'//td[@class=\"last left\"]')\n",
    "for i in gen:\n",
    "    genre.append(i.text)"
   ]
  },
  {
   "cell_type": "code",
   "execution_count": 71,
   "id": "509edd5d",
   "metadata": {},
   "outputs": [],
   "source": [
    "#question no 8\n",
    "driver.get('https://archive.ics.uci.edu/')"
   ]
  },
  {
   "cell_type": "code",
   "execution_count": 75,
   "id": "6f0826af",
   "metadata": {},
   "outputs": [],
   "source": [
    "data=driver.find_element(By.XPATH,'/html/body/div/div[1]/div[1]/main/div/div[1]/div/div/div/a[1]')\n",
    "data.click()"
   ]
  },
  {
   "cell_type": "code",
   "execution_count": 88,
   "id": "65f6c96e",
   "metadata": {},
   "outputs": [],
   "source": [
    "datasets_name=[]\n",
    "data=driver.find_elements(By.XPATH,'/html/body/div/div[1]/div[1]/main/div/div[2]/div[2]/div[1]/div[2]/div/table/thead/tr/th[2]/div/span')\n",
    "for i in data:\n",
    "    datasets_name.append(i.text)"
   ]
  },
  {
   "cell_type": "code",
   "execution_count": 78,
   "id": "918e648e",
   "metadata": {},
   "outputs": [],
   "source": [
    "data_type=[]\n",
    "types=driver.find_elements(By.XPATH,'//div[@class=\"my-2 hidden gap-4 md:grid grid-cols-12\"]/div[2]')\n",
    "for i in types:\n",
    "    data_type.append(i.text)"
   ]
  },
  {
   "cell_type": "code",
   "execution_count": 85,
   "id": "33872d55",
   "metadata": {},
   "outputs": [],
   "source": [
    "task=[]\n",
    "sk=driver.find_elements(By.XPATH,'//div[@class=\"my-2 hidden gap-4 md:grid grid-cols-12\"]/div[1]')\n",
    "for i in sk:\n",
    "    task.append(i.text)"
   ]
  },
  {
   "cell_type": "code",
   "execution_count": 97,
   "id": "61fda852",
   "metadata": {},
   "outputs": [],
   "source": [
    "attribute_type=[]\n",
    "attribute=driver.find_elements(By.XPATH,'//tbody[@class=\"border\"]/tr/td[2]')\n",
    "for i in attribute:\n",
    "    attribute_type.append(i.text)"
   ]
  },
  {
   "cell_type": "code",
   "execution_count": 82,
   "id": "0a5be4d3",
   "metadata": {},
   "outputs": [],
   "source": [
    "no_instances=[]\n",
    "instance=driver.find_elements(By.XPATH,'//div[@class=\"my-2 hidden gap-4 md:grid grid-cols-12\"]/div[3]')\n",
    "for i in instance:\n",
    "    no_instances.append(i.text)"
   ]
  },
  {
   "cell_type": "code",
   "execution_count": 81,
   "id": "9e1849bf",
   "metadata": {},
   "outputs": [],
   "source": [
    "no_attribute=[]\n",
    "attri=driver.find_elements(By.XPATH,'//div[@class=\"my-2 hidden gap-4 md:grid grid-cols-12\"]/div[4]')\n",
    "for i in attri:\n",
    "    no_attribute.append(i.text)"
   ]
  },
  {
   "cell_type": "code",
   "execution_count": 102,
   "id": "f501cb16",
   "metadata": {},
   "outputs": [],
   "source": [
    "year=[]\n",
    "yr=driver.find_elements(By.XPATH,'//tbody[@class=\"border\"]/tr/td[3]')\n",
    "for i in yr:\n",
    "    year.append(i.text)"
   ]
  },
  {
   "cell_type": "code",
   "execution_count": null,
   "id": "5ed64664",
   "metadata": {},
   "outputs": [],
   "source": []
  }
 ],
 "metadata": {
  "kernelspec": {
   "display_name": "Python 3 (ipykernel)",
   "language": "python",
   "name": "python3"
  },
  "language_info": {
   "codemirror_mode": {
    "name": "ipython",
    "version": 3
   },
   "file_extension": ".py",
   "mimetype": "text/x-python",
   "name": "python",
   "nbconvert_exporter": "python",
   "pygments_lexer": "ipython3",
   "version": "3.11.4"
  }
 },
 "nbformat": 4,
 "nbformat_minor": 5
}
