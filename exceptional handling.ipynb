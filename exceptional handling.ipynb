{
 "cells": [
  {
   "cell_type": "code",
   "execution_count": 212,
   "id": "06232ba4",
   "metadata": {},
   "outputs": [
    {
     "name": "stdout",
     "output_type": "stream",
     "text": [
      "Requirement already satisfied: selenium in c:\\users\\ashlie\\anaconda3\\lib\\site-packages (4.18.1)\n",
      "Requirement already satisfied: urllib3[socks]<3,>=1.26 in c:\\users\\ashlie\\anaconda3\\lib\\site-packages (from selenium) (1.26.16)\n",
      "Requirement already satisfied: trio~=0.17 in c:\\users\\ashlie\\anaconda3\\lib\\site-packages (from selenium) (0.24.0)\n",
      "Requirement already satisfied: trio-websocket~=0.9 in c:\\users\\ashlie\\anaconda3\\lib\\site-packages (from selenium) (0.11.1)\n",
      "Requirement already satisfied: certifi>=2021.10.8 in c:\\users\\ashlie\\anaconda3\\lib\\site-packages (from selenium) (2023.7.22)\n",
      "Requirement already satisfied: typing_extensions>=4.9.0 in c:\\users\\ashlie\\anaconda3\\lib\\site-packages (from selenium) (4.10.0)\n",
      "Requirement already satisfied: attrs>=20.1.0 in c:\\users\\ashlie\\anaconda3\\lib\\site-packages (from trio~=0.17->selenium) (22.1.0)\n",
      "Requirement already satisfied: sortedcontainers in c:\\users\\ashlie\\anaconda3\\lib\\site-packages (from trio~=0.17->selenium) (2.4.0)\n",
      "Requirement already satisfied: idna in c:\\users\\ashlie\\anaconda3\\lib\\site-packages (from trio~=0.17->selenium) (3.4)\n",
      "Requirement already satisfied: outcome in c:\\users\\ashlie\\anaconda3\\lib\\site-packages (from trio~=0.17->selenium) (1.3.0.post0)\n",
      "Requirement already satisfied: sniffio>=1.3.0 in c:\\users\\ashlie\\anaconda3\\lib\\site-packages (from trio~=0.17->selenium) (1.3.1)\n",
      "Requirement already satisfied: cffi>=1.14 in c:\\users\\ashlie\\anaconda3\\lib\\site-packages (from trio~=0.17->selenium) (1.15.1)\n",
      "Requirement already satisfied: wsproto>=0.14 in c:\\users\\ashlie\\anaconda3\\lib\\site-packages (from trio-websocket~=0.9->selenium) (1.2.0)\n",
      "Requirement already satisfied: PySocks!=1.5.7,<2.0,>=1.5.6 in c:\\users\\ashlie\\anaconda3\\lib\\site-packages (from urllib3[socks]<3,>=1.26->selenium) (1.7.1)\n",
      "Requirement already satisfied: pycparser in c:\\users\\ashlie\\anaconda3\\lib\\site-packages (from cffi>=1.14->trio~=0.17->selenium) (2.21)\n",
      "Requirement already satisfied: h11<1,>=0.9.0 in c:\\users\\ashlie\\anaconda3\\lib\\site-packages (from wsproto>=0.14->trio-websocket~=0.9->selenium) (0.14.0)\n",
      "Requirement already satisfied: webdriver_manager in c:\\users\\ashlie\\anaconda3\\lib\\site-packages (4.0.1)\n",
      "Requirement already satisfied: requests in c:\\users\\ashlie\\anaconda3\\lib\\site-packages (from webdriver_manager) (2.31.0)\n",
      "Requirement already satisfied: python-dotenv in c:\\users\\ashlie\\anaconda3\\lib\\site-packages (from webdriver_manager) (1.0.1)\n",
      "Requirement already satisfied: packaging in c:\\users\\ashlie\\anaconda3\\lib\\site-packages (from webdriver_manager) (23.0)\n",
      "Requirement already satisfied: charset-normalizer<4,>=2 in c:\\users\\ashlie\\anaconda3\\lib\\site-packages (from requests->webdriver_manager) (2.0.4)\n",
      "Requirement already satisfied: idna<4,>=2.5 in c:\\users\\ashlie\\anaconda3\\lib\\site-packages (from requests->webdriver_manager) (3.4)\n",
      "Requirement already satisfied: urllib3<3,>=1.21.1 in c:\\users\\ashlie\\anaconda3\\lib\\site-packages (from requests->webdriver_manager) (1.26.16)\n",
      "Requirement already satisfied: certifi>=2017.4.17 in c:\\users\\ashlie\\anaconda3\\lib\\site-packages (from requests->webdriver_manager) (2023.7.22)\n"
     ]
    }
   ],
   "source": [
    "!pip install selenium\n",
    "!pip install webdriver_manager\n",
    "import warnings\n",
    "import selenium\n",
    "import pandas as pd\n",
    "import time\n",
    "from bs4 import BeautifulSoup\n",
    "from selenium import webdriver\n",
    "from selenium.common.exceptions import StaleElementReferenceException, NoSuchElementException\n",
    "import requests\n",
    "from selenium.webdriver.common.by import By\n",
    "from selenium.webdriver.support.ui import WebDriverWait\n",
    "import warnings\n",
    "warnings.filterwarnings('ignore')\n",
    "from selenium.webdriver.support import expected_conditions as EC\n",
    "from selenium.webdriver.common.keys import Keys"
   ]
  },
  {
   "cell_type": "code",
   "execution_count": 128,
   "id": "620bb91a",
   "metadata": {},
   "outputs": [],
   "source": [
    "from webdriver_manager.chrome import ChromeDriverManager\n",
    "from selenium.webdriver.chrome.service import Service"
   ]
  },
  {
   "cell_type": "code",
   "execution_count": 129,
   "id": "58ce29f0",
   "metadata": {},
   "outputs": [],
   "source": [
    "driver=webdriver.Chrome(service=Service(ChromeDriverManager().install()))"
   ]
  },
  {
   "cell_type": "code",
   "execution_count": 130,
   "id": "1e38ae2c",
   "metadata": {},
   "outputs": [],
   "source": [
    "driver=webdriver.Chrome()"
   ]
  },
  {
   "cell_type": "code",
   "execution_count": 5,
   "id": "802538ed",
   "metadata": {},
   "outputs": [
    {
     "name": "stdout",
     "output_type": "stream",
     "text": [
      "enter your item guitar\n"
     ]
    }
   ],
   "source": [
    "#question no 1\n",
    "val=input('enter your item ')"
   ]
  },
  {
   "cell_type": "code",
   "execution_count": 6,
   "id": "271fad5b",
   "metadata": {},
   "outputs": [],
   "source": [
    "#question no1\n",
    "driver.get('https://www.amazon.in/')"
   ]
  },
  {
   "cell_type": "code",
   "execution_count": 7,
   "id": "61e9104d",
   "metadata": {},
   "outputs": [],
   "source": [
    "product=driver.find_element(By.XPATH,'/html/body/div[1]/header/div/div[1]/div[2]/div/form/div[2]/div[1]/input')\n",
    "product.send_keys(\"Guitar\")\n"
   ]
  },
  {
   "cell_type": "code",
   "execution_count": 8,
   "id": "31afe276",
   "metadata": {},
   "outputs": [],
   "source": [
    "Search=driver.find_element(By.XPATH,'/html/body/div[1]/header/div/div[1]/div[2]/div/form/div[3]/div/span/input')\n",
    "Search.click()"
   ]
  },
  {
   "cell_type": "code",
   "execution_count": 9,
   "id": "7843f4a7",
   "metadata": {},
   "outputs": [],
   "source": [
    "#question no-2\n",
    "Brand_url=[]\n",
    "start=0\n",
    "end=3\n",
    "for page in range(start,end):\n",
    "    url=driver.find_elements(By.XPATH,'//a[@class=\"a-link-normal s-underline-text s-underline-link-text s-link-style a-text-normal\"]')\n",
    "    for i in url:\n",
    "        Brand_url.append(i.get_attribute('href'))\n",
    "    next_button=driver.find_elements(By.XPATH,'/html/body/div[1]/div[1]/div[1]/div[1]/div/span[1]/div[1]/div[69]/div/div/span/ul/li[4]/span/a')\n",
    "    time.sleep(2)"
   ]
  },
  {
   "cell_type": "code",
   "execution_count": 10,
   "id": "975f00a0",
   "metadata": {},
   "outputs": [
    {
     "data": {
      "text/plain": [
       "213"
      ]
     },
     "execution_count": 10,
     "metadata": {},
     "output_type": "execute_result"
    }
   ],
   "source": [
    "len(Brand_url)"
   ]
  },
  {
   "cell_type": "code",
   "execution_count": 11,
   "id": "bc3ab436",
   "metadata": {},
   "outputs": [
    {
     "data": {
      "text/plain": [
       "['https://www.amazon.in/sspa/click?ie=UTF8&spc=MToyOTQ4NzQ2NzEwNDE4MDg3OjE3MTE1ODQ2ODE6c3BfYXRmOjIwMDk2NjA4NzUwNDk4OjowOjo&url=%2FKadence-Frontier-Acoustic-Guitar-Strings%2Fdp%2FB01GDZ46AA%2Fref%3Dsr_1_1_sspa%3Fcrid%3D1570UROUGX04%26dib%3DeyJ2IjoiMSJ9.wTmZbjEKHhyWxxfGK0FysKpyq5ESDlKtrk8PpwqXEN31EvXlFfPGE1koeqdIZFsmefWaY2IVCymofQ8ZDT3I_UsbNN-BwJVicACOlEbOE8ycbJ1rcAq6FEum_02uKi1h-quQ4AnIQaFI-L8Lef3f9bzvduZg2FS5HzwlyG5AwBuboONoBDsCXTDOYVZD71Iw_cJ3Zm8GRdvPmgj9PBrHhv2XoxCkuhdJFIlREZeNDdL4sAOM5M_X5_eHc8Dv1Mlzh50BS5KEbWU0I449IIiiwagdPQR1PKZdqYDDwkL61K0.8dZ9fJa0OqTVv6WPIFPdktIDpdzVh5gDfMfDsO6KOyI%26dib_tag%3Dse%26keywords%3DGuitar%26qid%3D1711584681%26sprefix%3Dguit%252Caps%252C281%26sr%3D8-1-spons%26sp_csd%3Dd2lkZ2V0TmFtZT1zcF9hdGY%26psc%3D1',\n",
       " 'https://www.amazon.in/sspa/click?ie=UTF8&spc=MToyOTQ4NzQ2NzEwNDE4MDg3OjE3MTE1ODQ2ODE6c3BfYXRmOjMwMDAxNTUzNzk3OTIzMjo6MDo6&url=%2FKadence-Frontier-Acoustic-Guitar-Strings%2Fdp%2FB078GTJP5Y%2Fref%3Dsr_1_2_sspa%3Fcrid%3D1570UROUGX04%26dib%3DeyJ2IjoiMSJ9.wTmZbjEKHhyWxxfGK0FysKpyq5ESDlKtrk8PpwqXEN31EvXlFfPGE1koeqdIZFsmefWaY2IVCymofQ8ZDT3I_UsbNN-BwJVicACOlEbOE8ycbJ1rcAq6FEum_02uKi1h-quQ4AnIQaFI-L8Lef3f9bzvduZg2FS5HzwlyG5AwBuboONoBDsCXTDOYVZD71Iw_cJ3Zm8GRdvPmgj9PBrHhv2XoxCkuhdJFIlREZeNDdL4sAOM5M_X5_eHc8Dv1Mlzh50BS5KEbWU0I449IIiiwagdPQR1PKZdqYDDwkL61K0.8dZ9fJa0OqTVv6WPIFPdktIDpdzVh5gDfMfDsO6KOyI%26dib_tag%3Dse%26keywords%3DGuitar%26qid%3D1711584681%26sprefix%3Dguit%252Caps%252C281%26sr%3D8-2-spons%26sp_csd%3Dd2lkZ2V0TmFtZT1zcF9hdGY%26psc%3D1',\n",
       " 'https://www.amazon.in/sspa/click?ie=UTF8&spc=MToyOTQ4NzQ2NzEwNDE4MDg3OjE3MTE1ODQ2ODE6c3BfYXRmOjIwMDg4NDY1ODE5NDA0OjowOjo&url=%2FHenrix-Acoustic-Guitar-Die-cast-Dual-action%2Fdp%2FB07VNDW6QF%2Fref%3Dsr_1_3_sspa%3Fcrid%3D1570UROUGX04%26dib%3DeyJ2IjoiMSJ9.wTmZbjEKHhyWxxfGK0FysKpyq5ESDlKtrk8PpwqXEN31EvXlFfPGE1koeqdIZFsmefWaY2IVCymofQ8ZDT3I_UsbNN-BwJVicACOlEbOE8ycbJ1rcAq6FEum_02uKi1h-quQ4AnIQaFI-L8Lef3f9bzvduZg2FS5HzwlyG5AwBuboONoBDsCXTDOYVZD71Iw_cJ3Zm8GRdvPmgj9PBrHhv2XoxCkuhdJFIlREZeNDdL4sAOM5M_X5_eHc8Dv1Mlzh50BS5KEbWU0I449IIiiwagdPQR1PKZdqYDDwkL61K0.8dZ9fJa0OqTVv6WPIFPdktIDpdzVh5gDfMfDsO6KOyI%26dib_tag%3Dse%26keywords%3DGuitar%26qid%3D1711584681%26sprefix%3Dguit%252Caps%252C281%26sr%3D8-3-spons%26sp_csd%3Dd2lkZ2V0TmFtZT1zcF9hdGY%26psc%3D1',\n",
       " 'https://www.amazon.in/sspa/click?ie=UTF8&spc=MToyOTQ4NzQ2NzEwNDE4MDg3OjE3MTE1ODQ2ODE6c3BfYXRmOjMwMDE0OTU0MTg1ODkzMjo6MDo6&url=%2FMOCKING-BIRD-Beginners-Instruments-Accessories%2Fdp%2FB0CMXDNCDN%2Fref%3Dsr_1_4_sspa%3Fcrid%3D1570UROUGX04%26dib%3DeyJ2IjoiMSJ9.wTmZbjEKHhyWxxfGK0FysKpyq5ESDlKtrk8PpwqXEN31EvXlFfPGE1koeqdIZFsmefWaY2IVCymofQ8ZDT3I_UsbNN-BwJVicACOlEbOE8ycbJ1rcAq6FEum_02uKi1h-quQ4AnIQaFI-L8Lef3f9bzvduZg2FS5HzwlyG5AwBuboONoBDsCXTDOYVZD71Iw_cJ3Zm8GRdvPmgj9PBrHhv2XoxCkuhdJFIlREZeNDdL4sAOM5M_X5_eHc8Dv1Mlzh50BS5KEbWU0I449IIiiwagdPQR1PKZdqYDDwkL61K0.8dZ9fJa0OqTVv6WPIFPdktIDpdzVh5gDfMfDsO6KOyI%26dib_tag%3Dse%26keywords%3DGuitar%26qid%3D1711584681%26sprefix%3Dguit%252Caps%252C281%26sr%3D8-4-spons%26sp_csd%3Dd2lkZ2V0TmFtZT1zcF9hdGY%26psc%3D1',\n",
       " 'https://www.amazon.in/Juarez-Acoustic-Cutaway-038C-Strings/dp/B017NPCSLI/ref=sr_1_5?crid=1570UROUGX04&dib=eyJ2IjoiMSJ9.wTmZbjEKHhyWxxfGK0FysKpyq5ESDlKtrk8PpwqXEN31EvXlFfPGE1koeqdIZFsmefWaY2IVCymofQ8ZDT3I_UsbNN-BwJVicACOlEbOE8ycbJ1rcAq6FEum_02uKi1h-quQ4AnIQaFI-L8Lef3f9bzvduZg2FS5HzwlyG5AwBuboONoBDsCXTDOYVZD71Iw_cJ3Zm8GRdvPmgj9PBrHhv2XoxCkuhdJFIlREZeNDdL4sAOM5M_X5_eHc8Dv1Mlzh50BS5KEbWU0I449IIiiwagdPQR1PKZdqYDDwkL61K0.8dZ9fJa0OqTVv6WPIFPdktIDpdzVh5gDfMfDsO6KOyI&dib_tag=se&keywords=Guitar&qid=1711584681&sprefix=guit%2Caps%2C281&sr=8-5',\n",
       " 'https://www.amazon.in/Juarez-JRZ38C-ASH-Strings-Acoustic/dp/B072JTPNZC/ref=sr_1_6?crid=1570UROUGX04&dib=eyJ2IjoiMSJ9.wTmZbjEKHhyWxxfGK0FysKpyq5ESDlKtrk8PpwqXEN31EvXlFfPGE1koeqdIZFsmefWaY2IVCymofQ8ZDT3I_UsbNN-BwJVicACOlEbOE8ycbJ1rcAq6FEum_02uKi1h-quQ4AnIQaFI-L8Lef3f9bzvduZg2FS5HzwlyG5AwBuboONoBDsCXTDOYVZD71Iw_cJ3Zm8GRdvPmgj9PBrHhv2XoxCkuhdJFIlREZeNDdL4sAOM5M_X5_eHc8Dv1Mlzh50BS5KEbWU0I449IIiiwagdPQR1PKZdqYDDwkL61K0.8dZ9fJa0OqTVv6WPIFPdktIDpdzVh5gDfMfDsO6KOyI&dib_tag=se&keywords=Guitar&qid=1711584681&sprefix=guit%2Caps%2C281&sr=8-6',\n",
       " 'https://www.amazon.in/Intern-INT-38C-Acoustic-Guitar-Black/dp/B073B6TQQY/ref=sr_1_7?crid=1570UROUGX04&dib=eyJ2IjoiMSJ9.wTmZbjEKHhyWxxfGK0FysKpyq5ESDlKtrk8PpwqXEN31EvXlFfPGE1koeqdIZFsmefWaY2IVCymofQ8ZDT3I_UsbNN-BwJVicACOlEbOE8ycbJ1rcAq6FEum_02uKi1h-quQ4AnIQaFI-L8Lef3f9bzvduZg2FS5HzwlyG5AwBuboONoBDsCXTDOYVZD71Iw_cJ3Zm8GRdvPmgj9PBrHhv2XoxCkuhdJFIlREZeNDdL4sAOM5M_X5_eHc8Dv1Mlzh50BS5KEbWU0I449IIiiwagdPQR1PKZdqYDDwkL61K0.8dZ9fJa0OqTVv6WPIFPdktIDpdzVh5gDfMfDsO6KOyI&dib_tag=se&keywords=Guitar&qid=1711584681&sprefix=guit%2Caps%2C281&sr=8-7',\n",
       " 'https://www.amazon.in/sspa/click?ie=UTF8&spc=MTo0MTQzNjg2NDIxNTYzMDg3OjE3MTE1ODQ2ODE6c3Bfc2VhcmNoX3RoZW1hdGljOjIwMDk2NjA4NzUwNDk4OjowOjo&url=%2FKadence-Frontier-Acoustic-Guitar-Strings%2Fdp%2FB01GDZ46AA%2Fref%3Dsxin_15_pa_sp_search_thematic_sspa%3Fcontent-id%3Damzn1.sym.37bad8da-0499-4510-838e-af217f0a67c4%253Aamzn1.sym.37bad8da-0499-4510-838e-af217f0a67c4%26crid%3D1570UROUGX04%26cv_ct_cx%3DGuitar%26dib%3DeyJ2IjoiMSJ9.f06krrIGar2HIb1V6OVvyh7ZndNLZP3BGDmM56tYZmzkAH0y8QO2MUCguxY3vmZFKIlBcFKxY3EWEjcmw-aNJw.dgrVfRqgRhsqkMTQJn6bRSdgvLGSXmgNVBqwQS7KDwY%26dib_tag%3Dse%26keywords%3DGuitar%26pd_rd_i%3DB01GDZ46AA%26pd_rd_r%3Dc6beaeba-8c27-4e7c-983e-63b2ab2bf9ee%26pd_rd_w%3DIgQoF%26pd_rd_wg%3DOAfNn%26pf_rd_p%3D37bad8da-0499-4510-838e-af217f0a67c4%26pf_rd_r%3DCQ7347WMV73Y0S2XGJQH%26qid%3D1711584681%26sbo%3DRZvfv%252F%252FHxDF%252BO5021pAnSA%253D%253D%26sprefix%3Dguit%252Caps%252C281%26sr%3D1-1-ced4eeeb-b190-41d6-902a-1ecb3fb8b7c4-spons%26sp_csd%3Dd2lkZ2V0TmFtZT1zcF9zZWFyY2hfdGhlbWF0aWM%26psc%3D1',\n",
       " 'https://www.amazon.in/sspa/click?ie=UTF8&spc=MTo0MTQzNjg2NDIxNTYzMDg3OjE3MTE1ODQ2ODE6c3Bfc2VhcmNoX3RoZW1hdGljOjMwMDE0ODQ4MDgyNTAzMjo6MTo6&url=%2FIbanez-MD39C-NT-Cutaway-Acoustic-Polishing%2Fdp%2FB084BQJCP8%2Fref%3Dsxin_15_pa_sp_search_thematic_sspa%3Fcontent-id%3Damzn1.sym.37bad8da-0499-4510-838e-af217f0a67c4%253Aamzn1.sym.37bad8da-0499-4510-838e-af217f0a67c4%26crid%3D1570UROUGX04%26cv_ct_cx%3DGuitar%26dib%3DeyJ2IjoiMSJ9.f06krrIGar2HIb1V6OVvyh7ZndNLZP3BGDmM56tYZmzkAH0y8QO2MUCguxY3vmZFKIlBcFKxY3EWEjcmw-aNJw.dgrVfRqgRhsqkMTQJn6bRSdgvLGSXmgNVBqwQS7KDwY%26dib_tag%3Dse%26keywords%3DGuitar%26pd_rd_i%3DB084BQJCP8%26pd_rd_r%3Dc6beaeba-8c27-4e7c-983e-63b2ab2bf9ee%26pd_rd_w%3DIgQoF%26pd_rd_wg%3DOAfNn%26pf_rd_p%3D37bad8da-0499-4510-838e-af217f0a67c4%26pf_rd_r%3DCQ7347WMV73Y0S2XGJQH%26qid%3D1711584681%26sbo%3DRZvfv%252F%252FHxDF%252BO5021pAnSA%253D%253D%26sprefix%3Dguit%252Caps%252C281%26sr%3D1-2-ced4eeeb-b190-41d6-902a-1ecb3fb8b7c4-spons%26sp_csd%3Dd2lkZ2V0TmFtZT1zcF9zZWFyY2hfdGhlbWF0aWM%26psc%3D1',\n",
       " 'https://www.amazon.in/sspa/click?ie=UTF8&spc=MTo0MTQzNjg2NDIxNTYzMDg3OjE3MTE1ODQ2ODE6c3Bfc2VhcmNoX3RoZW1hdGljOjMwMDAxNTUzNzk3OTIzMjo6Mjo6&url=%2FKadence-Frontier-Acoustic-Guitar-Strings%2Fdp%2FB078GTJP5Y%2Fref%3Dsxin_15_pa_sp_search_thematic_sspa%3Fcontent-id%3Damzn1.sym.37bad8da-0499-4510-838e-af217f0a67c4%253Aamzn1.sym.37bad8da-0499-4510-838e-af217f0a67c4%26crid%3D1570UROUGX04%26cv_ct_cx%3DGuitar%26dib%3DeyJ2IjoiMSJ9.f06krrIGar2HIb1V6OVvyh7ZndNLZP3BGDmM56tYZmzkAH0y8QO2MUCguxY3vmZFKIlBcFKxY3EWEjcmw-aNJw.dgrVfRqgRhsqkMTQJn6bRSdgvLGSXmgNVBqwQS7KDwY%26dib_tag%3Dse%26keywords%3DGuitar%26pd_rd_i%3DB078GTJP5Y%26pd_rd_r%3Dc6beaeba-8c27-4e7c-983e-63b2ab2bf9ee%26pd_rd_w%3DIgQoF%26pd_rd_wg%3DOAfNn%26pf_rd_p%3D37bad8da-0499-4510-838e-af217f0a67c4%26pf_rd_r%3DCQ7347WMV73Y0S2XGJQH%26qid%3D1711584681%26sbo%3DRZvfv%252F%252FHxDF%252BO5021pAnSA%253D%253D%26sprefix%3Dguit%252Caps%252C281%26sr%3D1-3-ced4eeeb-b190-41d6-902a-1ecb3fb8b7c4-spons%26sp_csd%3Dd2lkZ2V0TmFtZT1zcF9zZWFyY2hfdGhlbWF0aWM%26psc%3D1',\n",
       " 'https://www.amazon.in/sspa/click?ie=UTF8&spc=MTo0MTQzNjg2NDIxNTYzMDg3OjE3MTE1ODQ2ODE6c3Bfc2VhcmNoX3RoZW1hdGljOjIwMDU3MTkzMDU2MjA0OjozOjo&url=%2FKadence-Slowhand-Premium-Acoustic-Instrument%2Fdp%2FB077SZ667X%2Fref%3Dsxin_15_pa_sp_search_thematic_sspa%3Fcontent-id%3Damzn1.sym.37bad8da-0499-4510-838e-af217f0a67c4%253Aamzn1.sym.37bad8da-0499-4510-838e-af217f0a67c4%26crid%3D1570UROUGX04%26cv_ct_cx%3DGuitar%26dib%3DeyJ2IjoiMSJ9.f06krrIGar2HIb1V6OVvyh7ZndNLZP3BGDmM56tYZmzkAH0y8QO2MUCguxY3vmZFKIlBcFKxY3EWEjcmw-aNJw.dgrVfRqgRhsqkMTQJn6bRSdgvLGSXmgNVBqwQS7KDwY%26dib_tag%3Dse%26keywords%3DGuitar%26pd_rd_i%3DB077SZ667X%26pd_rd_r%3Dc6beaeba-8c27-4e7c-983e-63b2ab2bf9ee%26pd_rd_w%3DIgQoF%26pd_rd_wg%3DOAfNn%26pf_rd_p%3D37bad8da-0499-4510-838e-af217f0a67c4%26pf_rd_r%3DCQ7347WMV73Y0S2XGJQH%26qid%3D1711584681%26sbo%3DRZvfv%252F%252FHxDF%252BO5021pAnSA%253D%253D%26sprefix%3Dguit%252Caps%252C281%26sr%3D1-4-ced4eeeb-b190-41d6-902a-1ecb3fb8b7c4-spons%26sp_csd%3Dd2lkZ2V0TmFtZT1zcF9zZWFyY2hfdGhlbWF0aWM%26psc%3D1',\n",
       " 'https://www.amazon.in/sspa/click?ie=UTF8&spc=MTo0MTQzNjg2NDIxNTYzMDg3OjE3MTE1ODQ2ODE6c3Bfc2VhcmNoX3RoZW1hdGljOjMwMDE1MTIzNjcwODQzMjo6NDo6&url=%2FJu%25C3%25A2rez-JRZ38C-WH-Strings-Acoustic%2Fdp%2FB072MFK4L6%2Fref%3Dsxin_15_pa_sp_search_thematic_sspa%3Fcontent-id%3Damzn1.sym.37bad8da-0499-4510-838e-af217f0a67c4%253Aamzn1.sym.37bad8da-0499-4510-838e-af217f0a67c4%26crid%3D1570UROUGX04%26cv_ct_cx%3DGuitar%26dib%3DeyJ2IjoiMSJ9.f06krrIGar2HIb1V6OVvyh7ZndNLZP3BGDmM56tYZmzkAH0y8QO2MUCguxY3vmZFKIlBcFKxY3EWEjcmw-aNJw.dgrVfRqgRhsqkMTQJn6bRSdgvLGSXmgNVBqwQS7KDwY%26dib_tag%3Dse%26keywords%3DGuitar%26pd_rd_i%3DB072MFK4L6%26pd_rd_r%3Dc6beaeba-8c27-4e7c-983e-63b2ab2bf9ee%26pd_rd_w%3DIgQoF%26pd_rd_wg%3DOAfNn%26pf_rd_p%3D37bad8da-0499-4510-838e-af217f0a67c4%26pf_rd_r%3DCQ7347WMV73Y0S2XGJQH%26qid%3D1711584681%26sbo%3DRZvfv%252F%252FHxDF%252BO5021pAnSA%253D%253D%26sprefix%3Dguit%252Caps%252C281%26sr%3D1-5-ced4eeeb-b190-41d6-902a-1ecb3fb8b7c4-spons%26sp_csd%3Dd2lkZ2V0TmFtZT1zcF9zZWFyY2hfdGhlbWF0aWM%26psc%3D1',\n",
       " 'https://www.amazon.in/Ju%C3%A2rez-JRZ38C-WH-Strings-Acoustic/dp/B072MFK4L6/ref=sr_1_8?crid=1570UROUGX04&dib=eyJ2IjoiMSJ9.wTmZbjEKHhyWxxfGK0FysKpyq5ESDlKtrk8PpwqXEN31EvXlFfPGE1koeqdIZFsmefWaY2IVCymofQ8ZDT3I_UsbNN-BwJVicACOlEbOE8ycbJ1rcAq6FEum_02uKi1h-quQ4AnIQaFI-L8Lef3f9bzvduZg2FS5HzwlyG5AwBuboONoBDsCXTDOYVZD71Iw_cJ3Zm8GRdvPmgj9PBrHhv2XoxCkuhdJFIlREZeNDdL4sAOM5M_X5_eHc8Dv1Mlzh50BS5KEbWU0I449IIiiwagdPQR1PKZdqYDDwkL61K0.8dZ9fJa0OqTVv6WPIFPdktIDpdzVh5gDfMfDsO6KOyI&dib_tag=se&keywords=Guitar&qid=1711584681&sprefix=guit%2Caps%2C281&sr=8-8',\n",
       " 'https://www.amazon.in/Intern-INT-38C-Acoustic-Guitar-Sunburst/dp/B073B5MJRM/ref=sr_1_9?crid=1570UROUGX04&dib=eyJ2IjoiMSJ9.wTmZbjEKHhyWxxfGK0FysKpyq5ESDlKtrk8PpwqXEN31EvXlFfPGE1koeqdIZFsmefWaY2IVCymofQ8ZDT3I_UsbNN-BwJVicACOlEbOE8ycbJ1rcAq6FEum_02uKi1h-quQ4AnIQaFI-L8Lef3f9bzvduZg2FS5HzwlyG5AwBuboONoBDsCXTDOYVZD71Iw_cJ3Zm8GRdvPmgj9PBrHhv2XoxCkuhdJFIlREZeNDdL4sAOM5M_X5_eHc8Dv1Mlzh50BS5KEbWU0I449IIiiwagdPQR1PKZdqYDDwkL61K0.8dZ9fJa0OqTVv6WPIFPdktIDpdzVh5gDfMfDsO6KOyI&dib_tag=se&keywords=Guitar&qid=1711584681&sprefix=guit%2Caps%2C281&sr=8-9',\n",
       " 'https://www.amazon.in/Yamaha-F280-Acoustic-Guitar-Natural/dp/B08317Y4VP/ref=sr_1_10?crid=1570UROUGX04&dib=eyJ2IjoiMSJ9.wTmZbjEKHhyWxxfGK0FysKpyq5ESDlKtrk8PpwqXEN31EvXlFfPGE1koeqdIZFsmefWaY2IVCymofQ8ZDT3I_UsbNN-BwJVicACOlEbOE8ycbJ1rcAq6FEum_02uKi1h-quQ4AnIQaFI-L8Lef3f9bzvduZg2FS5HzwlyG5AwBuboONoBDsCXTDOYVZD71Iw_cJ3Zm8GRdvPmgj9PBrHhv2XoxCkuhdJFIlREZeNDdL4sAOM5M_X5_eHc8Dv1Mlzh50BS5KEbWU0I449IIiiwagdPQR1PKZdqYDDwkL61K0.8dZ9fJa0OqTVv6WPIFPdktIDpdzVh5gDfMfDsO6KOyI&dib_tag=se&keywords=Guitar&qid=1711584681&sprefix=guit%2Caps%2C281&sr=8-10',\n",
       " 'https://www.amazon.in/JUAREZ-JRZ38C-Acoustic-Sunburst-Strings/dp/B01FYYTDS6/ref=sr_1_11?crid=1570UROUGX04&dib=eyJ2IjoiMSJ9.wTmZbjEKHhyWxxfGK0FysKpyq5ESDlKtrk8PpwqXEN31EvXlFfPGE1koeqdIZFsmefWaY2IVCymofQ8ZDT3I_UsbNN-BwJVicACOlEbOE8ycbJ1rcAq6FEum_02uKi1h-quQ4AnIQaFI-L8Lef3f9bzvduZg2FS5HzwlyG5AwBuboONoBDsCXTDOYVZD71Iw_cJ3Zm8GRdvPmgj9PBrHhv2XoxCkuhdJFIlREZeNDdL4sAOM5M_X5_eHc8Dv1Mlzh50BS5KEbWU0I449IIiiwagdPQR1PKZdqYDDwkL61K0.8dZ9fJa0OqTVv6WPIFPdktIDpdzVh5gDfMfDsO6KOyI&dib_tag=se&keywords=Guitar&qid=1711584681&sprefix=guit%2Caps%2C281&sr=8-11',\n",
       " 'https://www.amazon.in/JUAREZ-JRZ38C-Acoustic-Sunburst-Strings/dp/B01FYYTDTU/ref=sr_1_12?crid=1570UROUGX04&dib=eyJ2IjoiMSJ9.wTmZbjEKHhyWxxfGK0FysKpyq5ESDlKtrk8PpwqXEN31EvXlFfPGE1koeqdIZFsmefWaY2IVCymofQ8ZDT3I_UsbNN-BwJVicACOlEbOE8ycbJ1rcAq6FEum_02uKi1h-quQ4AnIQaFI-L8Lef3f9bzvduZg2FS5HzwlyG5AwBuboONoBDsCXTDOYVZD71Iw_cJ3Zm8GRdvPmgj9PBrHhv2XoxCkuhdJFIlREZeNDdL4sAOM5M_X5_eHc8Dv1Mlzh50BS5KEbWU0I449IIiiwagdPQR1PKZdqYDDwkL61K0.8dZ9fJa0OqTVv6WPIFPdktIDpdzVh5gDfMfDsO6KOyI&dib_tag=se&keywords=Guitar&qid=1711584681&sprefix=guit%2Caps%2C281&sr=8-12',\n",
       " 'https://www.amazon.in/Henrix-Acoustic-Guitar-Die-cast-Dual-action/dp/B07VNDW6QF/ref=sr_1_13?crid=1570UROUGX04&dib=eyJ2IjoiMSJ9.wTmZbjEKHhyWxxfGK0FysKpyq5ESDlKtrk8PpwqXEN31EvXlFfPGE1koeqdIZFsmefWaY2IVCymofQ8ZDT3I_UsbNN-BwJVicACOlEbOE8ycbJ1rcAq6FEum_02uKi1h-quQ4AnIQaFI-L8Lef3f9bzvduZg2FS5HzwlyG5AwBuboONoBDsCXTDOYVZD71Iw_cJ3Zm8GRdvPmgj9PBrHhv2XoxCkuhdJFIlREZeNDdL4sAOM5M_X5_eHc8Dv1Mlzh50BS5KEbWU0I449IIiiwagdPQR1PKZdqYDDwkL61K0.8dZ9fJa0OqTVv6WPIFPdktIDpdzVh5gDfMfDsO6KOyI&dib_tag=se&keywords=Guitar&qid=1711584681&sprefix=guit%2Caps%2C281&sr=8-13',\n",
       " 'https://aax-eu.amazon.in/x/c/RCtd4yrswOEywXbh28lM9gkAAAGOgmWcYgMAAAH2AQBvbm9fdHhuX2JpZDIgICBvbm9fdHhuX2ltcDEgICDY4I2S/https://www.amazon.in/Radhe-Flutes-Natural-Bansuri-Middle/dp/B07T35ZBHB/ref=sxin_23_sbv_search_btf?content-id=amzn1.sym.4fe35c1d-da6a-41a4-967c-7a2315a8b22e%3Aamzn1.sym.4fe35c1d-da6a-41a4-967c-7a2315a8b22e&crid=1570UROUGX04&cv_ct_cx=Guitar&dib=eyJ2IjoiMSJ9.RkxRkdLFro_AAXvr06nUqw.bS6l4I5Nq7yqV0r3jGqD-6_L1lrP_Si37forc_YZT_E&dib_tag=se&keywords=Guitar&pd_rd_i=B07T35ZBHB&pd_rd_r=c6beaeba-8c27-4e7c-983e-63b2ab2bf9ee&pd_rd_w=KYR7W&pd_rd_wg=OAfNn&pf_rd_p=4fe35c1d-da6a-41a4-967c-7a2315a8b22e&pf_rd_r=CQ7347WMV73Y0S2XGJQH&qid=1711584681&sbo=RZvfv%2F%2FHxDF%2BO5021pAnSA%3D%3D&sprefix=guit%2Caps%2C281&sr=1-1-b614a050-8d70-4320-9c19-cc457ab2a351',\n",
       " 'https://www.amazon.in/Ibanez-GRGR221PA-Electric-Guitar-Burst/dp/B08SHLHBGT/ref=sr_1_14?crid=1570UROUGX04&dib=eyJ2IjoiMSJ9.wTmZbjEKHhyWxxfGK0FysKpyq5ESDlKtrk8PpwqXEN31EvXlFfPGE1koeqdIZFsmefWaY2IVCymofQ8ZDT3I_UsbNN-BwJVicACOlEbOE8ycbJ1rcAq6FEum_02uKi1h-quQ4AnIQaFI-L8Lef3f9bzvduZg2FS5HzwlyG5AwBuboONoBDsCXTDOYVZD71Iw_cJ3Zm8GRdvPmgj9PBrHhv2XoxCkuhdJFIlREZeNDdL4sAOM5M_X5_eHc8Dv1Mlzh50BS5KEbWU0I449IIiiwagdPQR1PKZdqYDDwkL61K0.8dZ9fJa0OqTVv6WPIFPdktIDpdzVh5gDfMfDsO6KOyI&dib_tag=se&keywords=Guitar&qid=1711584681&sprefix=guit%2Caps%2C281&sr=8-14',\n",
       " 'https://www.amazon.in/Juarez-JRZ-ST01-6-String-Electric-Without/dp/B01FYZSOGM/ref=sr_1_15?crid=1570UROUGX04&dib=eyJ2IjoiMSJ9.wTmZbjEKHhyWxxfGK0FysKpyq5ESDlKtrk8PpwqXEN31EvXlFfPGE1koeqdIZFsmefWaY2IVCymofQ8ZDT3I_UsbNN-BwJVicACOlEbOE8ycbJ1rcAq6FEum_02uKi1h-quQ4AnIQaFI-L8Lef3f9bzvduZg2FS5HzwlyG5AwBuboONoBDsCXTDOYVZD71Iw_cJ3Zm8GRdvPmgj9PBrHhv2XoxCkuhdJFIlREZeNDdL4sAOM5M_X5_eHc8Dv1Mlzh50BS5KEbWU0I449IIiiwagdPQR1PKZdqYDDwkL61K0.8dZ9fJa0OqTVv6WPIFPdktIDpdzVh5gDfMfDsO6KOyI&dib_tag=se&keywords=Guitar&qid=1711584681&sprefix=guit%2Caps%2C281&sr=8-15',\n",
       " 'https://www.amazon.in/Yamaha-Acoustic-Guitar-Tobacco-Sunburst/dp/B08VXR74Q2/ref=sr_1_16?crid=1570UROUGX04&dib=eyJ2IjoiMSJ9.wTmZbjEKHhyWxxfGK0FysKpyq5ESDlKtrk8PpwqXEN31EvXlFfPGE1koeqdIZFsmefWaY2IVCymofQ8ZDT3I_UsbNN-BwJVicACOlEbOE8ycbJ1rcAq6FEum_02uKi1h-quQ4AnIQaFI-L8Lef3f9bzvduZg2FS5HzwlyG5AwBuboONoBDsCXTDOYVZD71Iw_cJ3Zm8GRdvPmgj9PBrHhv2XoxCkuhdJFIlREZeNDdL4sAOM5M_X5_eHc8Dv1Mlzh50BS5KEbWU0I449IIiiwagdPQR1PKZdqYDDwkL61K0.8dZ9fJa0OqTVv6WPIFPdktIDpdzVh5gDfMfDsO6KOyI&dib_tag=se&keywords=Guitar&qid=1711584681&sprefix=guit%2Caps%2C281&sr=8-16',\n",
       " 'https://www.amazon.in/Ultimate-Concert-Cutaway-Acoustic-Bajaao/dp/B08WHWKKV5/ref=sr_1_17?crid=1570UROUGX04&dib=eyJ2IjoiMSJ9.wTmZbjEKHhyWxxfGK0FysKpyq5ESDlKtrk8PpwqXEN31EvXlFfPGE1koeqdIZFsmefWaY2IVCymofQ8ZDT3I_UsbNN-BwJVicACOlEbOE8ycbJ1rcAq6FEum_02uKi1h-quQ4AnIQaFI-L8Lef3f9bzvduZg2FS5HzwlyG5AwBuboONoBDsCXTDOYVZD71Iw_cJ3Zm8GRdvPmgj9PBrHhv2XoxCkuhdJFIlREZeNDdL4sAOM5M_X5_eHc8Dv1Mlzh50BS5KEbWU0I449IIiiwagdPQR1PKZdqYDDwkL61K0.8dZ9fJa0OqTVv6WPIFPdktIDpdzVh5gDfMfDsO6KOyI&dib_tag=se&keywords=Guitar&qid=1711584681&sprefix=guit%2Caps%2C281&sr=8-17',\n",
       " 'https://www.amazon.in/Kadence-Frontier-Acoustic-Guitar-Strings/dp/B01CJJG328/ref=sr_1_18?crid=1570UROUGX04&dib=eyJ2IjoiMSJ9.wTmZbjEKHhyWxxfGK0FysKpyq5ESDlKtrk8PpwqXEN31EvXlFfPGE1koeqdIZFsmefWaY2IVCymofQ8ZDT3I_UsbNN-BwJVicACOlEbOE8ycbJ1rcAq6FEum_02uKi1h-quQ4AnIQaFI-L8Lef3f9bzvduZg2FS5HzwlyG5AwBuboONoBDsCXTDOYVZD71Iw_cJ3Zm8GRdvPmgj9PBrHhv2XoxCkuhdJFIlREZeNDdL4sAOM5M_X5_eHc8Dv1Mlzh50BS5KEbWU0I449IIiiwagdPQR1PKZdqYDDwkL61K0.8dZ9fJa0OqTVv6WPIFPdktIDpdzVh5gDfMfDsO6KOyI&dib_tag=se&keywords=Guitar&qid=1711584681&sprefix=guit%2Caps%2C281&sr=8-18',\n",
       " 'https://www.amazon.in/Fender-CD-60S-Dreadnought-Acoustic-Guitar/dp/B07FYBLG93/ref=sr_1_19?crid=1570UROUGX04&dib=eyJ2IjoiMSJ9.wTmZbjEKHhyWxxfGK0FysKpyq5ESDlKtrk8PpwqXEN31EvXlFfPGE1koeqdIZFsmefWaY2IVCymofQ8ZDT3I_UsbNN-BwJVicACOlEbOE8ycbJ1rcAq6FEum_02uKi1h-quQ4AnIQaFI-L8Lef3f9bzvduZg2FS5HzwlyG5AwBuboONoBDsCXTDOYVZD71Iw_cJ3Zm8GRdvPmgj9PBrHhv2XoxCkuhdJFIlREZeNDdL4sAOM5M_X5_eHc8Dv1Mlzh50BS5KEbWU0I449IIiiwagdPQR1PKZdqYDDwkL61K0.8dZ9fJa0OqTVv6WPIFPdktIDpdzVh5gDfMfDsO6KOyI&dib_tag=se&keywords=Guitar&qid=1711584681&sprefix=guit%2Caps%2C281&sr=8-19',\n",
       " 'https://www.amazon.in/Juarez-Acoustic-Guitar-Cutaway-Strings/dp/B076QHZ4HZ/ref=sr_1_20?crid=1570UROUGX04&dib=eyJ2IjoiMSJ9.wTmZbjEKHhyWxxfGK0FysKpyq5ESDlKtrk8PpwqXEN31EvXlFfPGE1koeqdIZFsmefWaY2IVCymofQ8ZDT3I_UsbNN-BwJVicACOlEbOE8ycbJ1rcAq6FEum_02uKi1h-quQ4AnIQaFI-L8Lef3f9bzvduZg2FS5HzwlyG5AwBuboONoBDsCXTDOYVZD71Iw_cJ3Zm8GRdvPmgj9PBrHhv2XoxCkuhdJFIlREZeNDdL4sAOM5M_X5_eHc8Dv1Mlzh50BS5KEbWU0I449IIiiwagdPQR1PKZdqYDDwkL61K0.8dZ9fJa0OqTVv6WPIFPdktIDpdzVh5gDfMfDsO6KOyI&dib_tag=se&keywords=Guitar&qid=1711584681&sprefix=guit%2Caps%2C281&sr=8-20',\n",
       " 'https://www.amazon.in/sspa/click?ie=UTF8&spc=MToyOTQ4NzQ2NzEwNDE4MDg3OjE3MTE1ODQ2ODE6c3BfbXRmOjMwMDE0MzEwNjQ5NjAzMjo6MDo6&url=%2FMOCKING-BIRD-Beginners-instrument-professional%2Fdp%2FB0CR9XH4QH%2Fref%3Dsr_1_21_sspa%3Fcrid%3D1570UROUGX04%26dib%3DeyJ2IjoiMSJ9.wTmZbjEKHhyWxxfGK0FysKpyq5ESDlKtrk8PpwqXEN31EvXlFfPGE1koeqdIZFsmefWaY2IVCymofQ8ZDT3I_UsbNN-BwJVicACOlEbOE8ycbJ1rcAq6FEum_02uKi1h-quQ4AnIQaFI-L8Lef3f9bzvduZg2FS5HzwlyG5AwBuboONoBDsCXTDOYVZD71Iw_cJ3Zm8GRdvPmgj9PBrHhv2XoxCkuhdJFIlREZeNDdL4sAOM5M_X5_eHc8Dv1Mlzh50BS5KEbWU0I449IIiiwagdPQR1PKZdqYDDwkL61K0.8dZ9fJa0OqTVv6WPIFPdktIDpdzVh5gDfMfDsO6KOyI%26dib_tag%3Dse%26keywords%3DGuitar%26qid%3D1711584681%26sprefix%3Dguit%252Caps%252C281%26sr%3D8-21-spons%26sp_csd%3Dd2lkZ2V0TmFtZT1zcF9tdGY%26psc%3D1',\n",
       " 'https://www.amazon.in/sspa/click?ie=UTF8&spc=MToyOTQ4NzQ2NzEwNDE4MDg3OjE3MTE1ODQ2ODE6c3BfbXRmOjMwMDE1MTIzNjcwODQzMjo6MDo6&url=%2FJu%25C3%25A2rez-JRZ38C-WH-Strings-Acoustic%2Fdp%2FB072MFK4L6%2Fref%3Dsr_1_22_sspa%3Fcrid%3D1570UROUGX04%26dib%3DeyJ2IjoiMSJ9.wTmZbjEKHhyWxxfGK0FysKpyq5ESDlKtrk8PpwqXEN31EvXlFfPGE1koeqdIZFsmefWaY2IVCymofQ8ZDT3I_UsbNN-BwJVicACOlEbOE8ycbJ1rcAq6FEum_02uKi1h-quQ4AnIQaFI-L8Lef3f9bzvduZg2FS5HzwlyG5AwBuboONoBDsCXTDOYVZD71Iw_cJ3Zm8GRdvPmgj9PBrHhv2XoxCkuhdJFIlREZeNDdL4sAOM5M_X5_eHc8Dv1Mlzh50BS5KEbWU0I449IIiiwagdPQR1PKZdqYDDwkL61K0.8dZ9fJa0OqTVv6WPIFPdktIDpdzVh5gDfMfDsO6KOyI%26dib_tag%3Dse%26keywords%3DGuitar%26qid%3D1711584681%26sprefix%3Dguit%252Caps%252C281%26sr%3D8-22-spons%26sp_csd%3Dd2lkZ2V0TmFtZT1zcF9tdGY%26psc%3D1',\n",
       " 'https://www.amazon.in/sspa/click?ie=UTF8&spc=MToyOTQ4NzQ2NzEwNDE4MDg3OjE3MTE1ODQ2ODE6c3BfbXRmOjMwMDExMzg5MzQwMjEzMjo6MDo6&url=%2FDEVICE-URBAN-INFOTECH-Beginners-Guitarists%2Fdp%2FB0CR7DPXQN%2Fref%3Dsr_1_23_sspa%3Fcrid%3D1570UROUGX04%26dib%3DeyJ2IjoiMSJ9.wTmZbjEKHhyWxxfGK0FysKpyq5ESDlKtrk8PpwqXEN31EvXlFfPGE1koeqdIZFsmefWaY2IVCymofQ8ZDT3I_UsbNN-BwJVicACOlEbOE8ycbJ1rcAq6FEum_02uKi1h-quQ4AnIQaFI-L8Lef3f9bzvduZg2FS5HzwlyG5AwBuboONoBDsCXTDOYVZD71Iw_cJ3Zm8GRdvPmgj9PBrHhv2XoxCkuhdJFIlREZeNDdL4sAOM5M_X5_eHc8Dv1Mlzh50BS5KEbWU0I449IIiiwagdPQR1PKZdqYDDwkL61K0.8dZ9fJa0OqTVv6WPIFPdktIDpdzVh5gDfMfDsO6KOyI%26dib_tag%3Dse%26keywords%3DGuitar%26qid%3D1711584681%26sprefix%3Dguit%252Caps%252C281%26sr%3D8-23-spons%26sp_csd%3Dd2lkZ2V0TmFtZT1zcF9tdGY%26psc%3D1',\n",
       " 'https://www.amazon.in/sspa/click?ie=UTF8&spc=MToyOTQ4NzQ2NzEwNDE4MDg3OjE3MTE1ODQ2ODE6c3BfbXRmOjIwMDU3MTkzMDU2MjA0OjowOjo&url=%2FKadence-Slowhand-Premium-Acoustic-Instrument%2Fdp%2FB077SZ667X%2Fref%3Dsr_1_24_sspa%3Fcrid%3D1570UROUGX04%26dib%3DeyJ2IjoiMSJ9.wTmZbjEKHhyWxxfGK0FysKpyq5ESDlKtrk8PpwqXEN31EvXlFfPGE1koeqdIZFsmefWaY2IVCymofQ8ZDT3I_UsbNN-BwJVicACOlEbOE8ycbJ1rcAq6FEum_02uKi1h-quQ4AnIQaFI-L8Lef3f9bzvduZg2FS5HzwlyG5AwBuboONoBDsCXTDOYVZD71Iw_cJ3Zm8GRdvPmgj9PBrHhv2XoxCkuhdJFIlREZeNDdL4sAOM5M_X5_eHc8Dv1Mlzh50BS5KEbWU0I449IIiiwagdPQR1PKZdqYDDwkL61K0.8dZ9fJa0OqTVv6WPIFPdktIDpdzVh5gDfMfDsO6KOyI%26dib_tag%3Dse%26keywords%3DGuitar%26qid%3D1711584681%26sprefix%3Dguit%252Caps%252C281%26sr%3D8-24-spons%26sp_csd%3Dd2lkZ2V0TmFtZT1zcF9tdGY%26psc%3D1',\n",
       " 'https://www.amazon.in/Cort-SFX-MEM-Electro-Acoustic-Guitar/dp/B0915ZCZWK/ref=sr_1_25?crid=1570UROUGX04&dib=eyJ2IjoiMSJ9.wTmZbjEKHhyWxxfGK0FysKpyq5ESDlKtrk8PpwqXEN31EvXlFfPGE1koeqdIZFsmefWaY2IVCymofQ8ZDT3I_UsbNN-BwJVicACOlEbOE8ycbJ1rcAq6FEum_02uKi1h-quQ4AnIQaFI-L8Lef3f9bzvduZg2FS5HzwlyG5AwBuboONoBDsCXTDOYVZD71Iw_cJ3Zm8GRdvPmgj9PBrHhv2XoxCkuhdJFIlREZeNDdL4sAOM5M_X5_eHc8Dv1Mlzh50BS5KEbWU0I449IIiiwagdPQR1PKZdqYDDwkL61K0.8dZ9fJa0OqTVv6WPIFPdktIDpdzVh5gDfMfDsO6KOyI&dib_tag=se&keywords=Guitar&qid=1711584681&sprefix=guit%2Caps%2C281&sr=8-25',\n",
       " 'https://www.amazon.in/Acoustic-Plectrums-Beginner-Learners-configuration/dp/B0B4SSB8BJ/ref=sr_1_26?crid=1570UROUGX04&dib=eyJ2IjoiMSJ9.wTmZbjEKHhyWxxfGK0FysKpyq5ESDlKtrk8PpwqXEN31EvXlFfPGE1koeqdIZFsmefWaY2IVCymofQ8ZDT3I_UsbNN-BwJVicACOlEbOE8ycbJ1rcAq6FEum_02uKi1h-quQ4AnIQaFI-L8Lef3f9bzvduZg2FS5HzwlyG5AwBuboONoBDsCXTDOYVZD71Iw_cJ3Zm8GRdvPmgj9PBrHhv2XoxCkuhdJFIlREZeNDdL4sAOM5M_X5_eHc8Dv1Mlzh50BS5KEbWU0I449IIiiwagdPQR1PKZdqYDDwkL61K0.8dZ9fJa0OqTVv6WPIFPdktIDpdzVh5gDfMfDsO6KOyI&dib_tag=se&keywords=Guitar&qid=1711584681&sprefix=guit%2Caps%2C281&sr=8-26',\n",
       " 'https://www.amazon.in/Intern-INT-38C-Acoustic-Guitar-Kit/dp/B073B6TF31/ref=sr_1_27?crid=1570UROUGX04&dib=eyJ2IjoiMSJ9.wTmZbjEKHhyWxxfGK0FysKpyq5ESDlKtrk8PpwqXEN31EvXlFfPGE1koeqdIZFsmefWaY2IVCymofQ8ZDT3I_UsbNN-BwJVicACOlEbOE8ycbJ1rcAq6FEum_02uKi1h-quQ4AnIQaFI-L8Lef3f9bzvduZg2FS5HzwlyG5AwBuboONoBDsCXTDOYVZD71Iw_cJ3Zm8GRdvPmgj9PBrHhv2XoxCkuhdJFIlREZeNDdL4sAOM5M_X5_eHc8Dv1Mlzh50BS5KEbWU0I449IIiiwagdPQR1PKZdqYDDwkL61K0.8dZ9fJa0OqTVv6WPIFPdktIDpdzVh5gDfMfDsO6KOyI&dib_tag=se&keywords=Guitar&qid=1711584681&sprefix=guit%2Caps%2C281&sr=8-27',\n",
       " 'https://www.amazon.in/BLUEBERRY-B-38C-Acoustic-Guitar-Strings/dp/B0CNLKXVL5/ref=sr_1_28?crid=1570UROUGX04&dib=eyJ2IjoiMSJ9.wTmZbjEKHhyWxxfGK0FysKpyq5ESDlKtrk8PpwqXEN31EvXlFfPGE1koeqdIZFsmefWaY2IVCymofQ8ZDT3I_UsbNN-BwJVicACOlEbOE8ycbJ1rcAq6FEum_02uKi1h-quQ4AnIQaFI-L8Lef3f9bzvduZg2FS5HzwlyG5AwBuboONoBDsCXTDOYVZD71Iw_cJ3Zm8GRdvPmgj9PBrHhv2XoxCkuhdJFIlREZeNDdL4sAOM5M_X5_eHc8Dv1Mlzh50BS5KEbWU0I449IIiiwagdPQR1PKZdqYDDwkL61K0.8dZ9fJa0OqTVv6WPIFPdktIDpdzVh5gDfMfDsO6KOyI&dib_tag=se&keywords=Guitar&qid=1711584681&sprefix=guit%2Caps%2C281&sr=8-28',\n",
       " 'https://www.amazon.in/Kadence-Frontier-Acoustic-Guitar-Strings/dp/B078GTJP5Y/ref=sr_1_29?crid=1570UROUGX04&dib=eyJ2IjoiMSJ9.wTmZbjEKHhyWxxfGK0FysKpyq5ESDlKtrk8PpwqXEN31EvXlFfPGE1koeqdIZFsmefWaY2IVCymofQ8ZDT3I_UsbNN-BwJVicACOlEbOE8ycbJ1rcAq6FEum_02uKi1h-quQ4AnIQaFI-L8Lef3f9bzvduZg2FS5HzwlyG5AwBuboONoBDsCXTDOYVZD71Iw_cJ3Zm8GRdvPmgj9PBrHhv2XoxCkuhdJFIlREZeNDdL4sAOM5M_X5_eHc8Dv1Mlzh50BS5KEbWU0I449IIiiwagdPQR1PKZdqYDDwkL61K0.8dZ9fJa0OqTVv6WPIFPdktIDpdzVh5gDfMfDsO6KOyI&dib_tag=se&keywords=Guitar&qid=1711584681&sprefix=guit%2Caps%2C281&sr=8-29',\n",
       " 'https://www.amazon.in/Yamaha-Classical-Guitar-C40-02/dp/B003UGCUFE/ref=sr_1_30?crid=1570UROUGX04&dib=eyJ2IjoiMSJ9.wTmZbjEKHhyWxxfGK0FysKpyq5ESDlKtrk8PpwqXEN31EvXlFfPGE1koeqdIZFsmefWaY2IVCymofQ8ZDT3I_UsbNN-BwJVicACOlEbOE8ycbJ1rcAq6FEum_02uKi1h-quQ4AnIQaFI-L8Lef3f9bzvduZg2FS5HzwlyG5AwBuboONoBDsCXTDOYVZD71Iw_cJ3Zm8GRdvPmgj9PBrHhv2XoxCkuhdJFIlREZeNDdL4sAOM5M_X5_eHc8Dv1Mlzh50BS5KEbWU0I449IIiiwagdPQR1PKZdqYDDwkL61K0.8dZ9fJa0OqTVv6WPIFPdktIDpdzVh5gDfMfDsO6KOyI&dib_tag=se&keywords=Guitar&qid=1711584681&sprefix=guit%2Caps%2C281&sr=8-30',\n",
       " 'https://www.amazon.in/JUAREZ-JRZ38C-TBLSNA/dp/B0BCQKQ6CS/ref=sr_1_31?crid=1570UROUGX04&dib=eyJ2IjoiMSJ9.wTmZbjEKHhyWxxfGK0FysKpyq5ESDlKtrk8PpwqXEN31EvXlFfPGE1koeqdIZFsmefWaY2IVCymofQ8ZDT3I_UsbNN-BwJVicACOlEbOE8ycbJ1rcAq6FEum_02uKi1h-quQ4AnIQaFI-L8Lef3f9bzvduZg2FS5HzwlyG5AwBuboONoBDsCXTDOYVZD71Iw_cJ3Zm8GRdvPmgj9PBrHhv2XoxCkuhdJFIlREZeNDdL4sAOM5M_X5_eHc8Dv1Mlzh50BS5KEbWU0I449IIiiwagdPQR1PKZdqYDDwkL61K0.8dZ9fJa0OqTVv6WPIFPdktIDpdzVh5gDfMfDsO6KOyI&dib_tag=se&keywords=Guitar&qid=1711584681&sprefix=guit%2Caps%2C281&sr=8-31',\n",
       " 'https://www.amazon.in/Kadence-Acoustica-Acoustic-Guitar-Zebra/dp/B07KXNKLJ2/ref=sr_1_32?crid=1570UROUGX04&dib=eyJ2IjoiMSJ9.wTmZbjEKHhyWxxfGK0FysKpyq5ESDlKtrk8PpwqXEN31EvXlFfPGE1koeqdIZFsmefWaY2IVCymofQ8ZDT3I_UsbNN-BwJVicACOlEbOE8ycbJ1rcAq6FEum_02uKi1h-quQ4AnIQaFI-L8Lef3f9bzvduZg2FS5HzwlyG5AwBuboONoBDsCXTDOYVZD71Iw_cJ3Zm8GRdvPmgj9PBrHhv2XoxCkuhdJFIlREZeNDdL4sAOM5M_X5_eHc8Dv1Mlzh50BS5KEbWU0I449IIiiwagdPQR1PKZdqYDDwkL61K0.8dZ9fJa0OqTVv6WPIFPdktIDpdzVh5gDfMfDsO6KOyI&dib_tag=se&keywords=Guitar&qid=1711584681&sprefix=guit%2Caps%2C281&sr=8-32',\n",
       " 'https://www.amazon.in/PS-Signature-41inch-Acoustic-Strings/dp/B0CGXL3VKG/ref=sr_1_33?crid=1570UROUGX04&dib=eyJ2IjoiMSJ9.wTmZbjEKHhyWxxfGK0FysKpyq5ESDlKtrk8PpwqXEN31EvXlFfPGE1koeqdIZFsmefWaY2IVCymofQ8ZDT3I_UsbNN-BwJVicACOlEbOE8ycbJ1rcAq6FEum_02uKi1h-quQ4AnIQaFI-L8Lef3f9bzvduZg2FS5HzwlyG5AwBuboONoBDsCXTDOYVZD71Iw_cJ3Zm8GRdvPmgj9PBrHhv2XoxCkuhdJFIlREZeNDdL4sAOM5M_X5_eHc8Dv1Mlzh50BS5KEbWU0I449IIiiwagdPQR1PKZdqYDDwkL61K0.8dZ9fJa0OqTVv6WPIFPdktIDpdzVh5gDfMfDsO6KOyI&dib_tag=se&keywords=Guitar&qid=1711584681&sprefix=guit%2Caps%2C281&sr=8-33',\n",
       " 'https://www.amazon.in/JUAREZ-JRZ38C-Acoustic-Natural-Strings/dp/B01FYYTDWC/ref=sr_1_34?crid=1570UROUGX04&dib=eyJ2IjoiMSJ9.wTmZbjEKHhyWxxfGK0FysKpyq5ESDlKtrk8PpwqXEN31EvXlFfPGE1koeqdIZFsmefWaY2IVCymofQ8ZDT3I_UsbNN-BwJVicACOlEbOE8ycbJ1rcAq6FEum_02uKi1h-quQ4AnIQaFI-L8Lef3f9bzvduZg2FS5HzwlyG5AwBuboONoBDsCXTDOYVZD71Iw_cJ3Zm8GRdvPmgj9PBrHhv2XoxCkuhdJFIlREZeNDdL4sAOM5M_X5_eHc8Dv1Mlzh50BS5KEbWU0I449IIiiwagdPQR1PKZdqYDDwkL61K0.8dZ9fJa0OqTVv6WPIFPdktIDpdzVh5gDfMfDsO6KOyI&dib_tag=se&keywords=Guitar&qid=1711584681&sprefix=guit%2Caps%2C281&sr=8-34',\n",
       " 'https://www.amazon.in/FS80C-Acoustic-Cutaway-Concert-Plectrums/dp/B08XVV1WH7/ref=sr_1_35?crid=1570UROUGX04&dib=eyJ2IjoiMSJ9.wTmZbjEKHhyWxxfGK0FysKpyq5ESDlKtrk8PpwqXEN31EvXlFfPGE1koeqdIZFsmefWaY2IVCymofQ8ZDT3I_UsbNN-BwJVicACOlEbOE8ycbJ1rcAq6FEum_02uKi1h-quQ4AnIQaFI-L8Lef3f9bzvduZg2FS5HzwlyG5AwBuboONoBDsCXTDOYVZD71Iw_cJ3Zm8GRdvPmgj9PBrHhv2XoxCkuhdJFIlREZeNDdL4sAOM5M_X5_eHc8Dv1Mlzh50BS5KEbWU0I449IIiiwagdPQR1PKZdqYDDwkL61K0.8dZ9fJa0OqTVv6WPIFPdktIDpdzVh5gDfMfDsO6KOyI&dib_tag=se&keywords=Guitar&qid=1711584681&sprefix=guit%2Caps%2C281&sr=8-35',\n",
       " 'https://www.amazon.in/Strings-Straps-String-winder-Polishing/dp/B07RV9FJ2Z/ref=sr_1_36?crid=1570UROUGX04&dib=eyJ2IjoiMSJ9.wTmZbjEKHhyWxxfGK0FysKpyq5ESDlKtrk8PpwqXEN31EvXlFfPGE1koeqdIZFsmefWaY2IVCymofQ8ZDT3I_UsbNN-BwJVicACOlEbOE8ycbJ1rcAq6FEum_02uKi1h-quQ4AnIQaFI-L8Lef3f9bzvduZg2FS5HzwlyG5AwBuboONoBDsCXTDOYVZD71Iw_cJ3Zm8GRdvPmgj9PBrHhv2XoxCkuhdJFIlREZeNDdL4sAOM5M_X5_eHc8Dv1Mlzh50BS5KEbWU0I449IIiiwagdPQR1PKZdqYDDwkL61K0.8dZ9fJa0OqTVv6WPIFPdktIDpdzVh5gDfMfDsO6KOyI&dib_tag=se&keywords=Guitar&qid=1711584681&sprefix=guit%2Caps%2C281&sr=8-36',\n",
       " 'https://www.amazon.in/Juarez-Acoustic-Guitar-Cutaway-JRZ38CT/dp/B01N3TTYJQ/ref=sr_1_37?crid=1570UROUGX04&dib=eyJ2IjoiMSJ9.wTmZbjEKHhyWxxfGK0FysKpyq5ESDlKtrk8PpwqXEN31EvXlFfPGE1koeqdIZFsmefWaY2IVCymofQ8ZDT3I_UsbNN-BwJVicACOlEbOE8ycbJ1rcAq6FEum_02uKi1h-quQ4AnIQaFI-L8Lef3f9bzvduZg2FS5HzwlyG5AwBuboONoBDsCXTDOYVZD71Iw_cJ3Zm8GRdvPmgj9PBrHhv2XoxCkuhdJFIlREZeNDdL4sAOM5M_X5_eHc8Dv1Mlzh50BS5KEbWU0I449IIiiwagdPQR1PKZdqYDDwkL61K0.8dZ9fJa0OqTVv6WPIFPdktIDpdzVh5gDfMfDsO6KOyI&dib_tag=se&keywords=Guitar&qid=1711584681&sprefix=guit%2Caps%2C281&sr=8-37',\n",
       " 'https://www.amazon.in/YAMAHA-FS80C-CONCERT-CUTAWAY-GUITAR/dp/B08WBBVMVJ/ref=sr_1_38?crid=1570UROUGX04&dib=eyJ2IjoiMSJ9.wTmZbjEKHhyWxxfGK0FysKpyq5ESDlKtrk8PpwqXEN31EvXlFfPGE1koeqdIZFsmefWaY2IVCymofQ8ZDT3I_UsbNN-BwJVicACOlEbOE8ycbJ1rcAq6FEum_02uKi1h-quQ4AnIQaFI-L8Lef3f9bzvduZg2FS5HzwlyG5AwBuboONoBDsCXTDOYVZD71Iw_cJ3Zm8GRdvPmgj9PBrHhv2XoxCkuhdJFIlREZeNDdL4sAOM5M_X5_eHc8Dv1Mlzh50BS5KEbWU0I449IIiiwagdPQR1PKZdqYDDwkL61K0.8dZ9fJa0OqTVv6WPIFPdktIDpdzVh5gDfMfDsO6KOyI&dib_tag=se&keywords=Guitar&qid=1711584681&sprefix=guit%2Caps%2C281&sr=8-38',\n",
       " 'https://www.amazon.in/Medellin-Acoustic-Guitar-learning-Strings/dp/B0CCNSN9BV/ref=sr_1_39?crid=1570UROUGX04&dib=eyJ2IjoiMSJ9.wTmZbjEKHhyWxxfGK0FysKpyq5ESDlKtrk8PpwqXEN31EvXlFfPGE1koeqdIZFsmefWaY2IVCymofQ8ZDT3I_UsbNN-BwJVicACOlEbOE8ycbJ1rcAq6FEum_02uKi1h-quQ4AnIQaFI-L8Lef3f9bzvduZg2FS5HzwlyG5AwBuboONoBDsCXTDOYVZD71Iw_cJ3Zm8GRdvPmgj9PBrHhv2XoxCkuhdJFIlREZeNDdL4sAOM5M_X5_eHc8Dv1Mlzh50BS5KEbWU0I449IIiiwagdPQR1PKZdqYDDwkL61K0.8dZ9fJa0OqTVv6WPIFPdktIDpdzVh5gDfMfDsO6KOyI&dib_tag=se&keywords=Guitar&qid=1711584681&sprefix=guit%2Caps%2C281&sr=8-39',\n",
       " 'https://www.amazon.in/Blueberry-38C-Acoustic-Guitar-Strings/dp/B08KLMV4XX/ref=sr_1_40?crid=1570UROUGX04&dib=eyJ2IjoiMSJ9.wTmZbjEKHhyWxxfGK0FysKpyq5ESDlKtrk8PpwqXEN31EvXlFfPGE1koeqdIZFsmefWaY2IVCymofQ8ZDT3I_UsbNN-BwJVicACOlEbOE8ycbJ1rcAq6FEum_02uKi1h-quQ4AnIQaFI-L8Lef3f9bzvduZg2FS5HzwlyG5AwBuboONoBDsCXTDOYVZD71Iw_cJ3Zm8GRdvPmgj9PBrHhv2XoxCkuhdJFIlREZeNDdL4sAOM5M_X5_eHc8Dv1Mlzh50BS5KEbWU0I449IIiiwagdPQR1PKZdqYDDwkL61K0.8dZ9fJa0OqTVv6WPIFPdktIDpdzVh5gDfMfDsO6KOyI&dib_tag=se&keywords=Guitar&qid=1711584681&sprefix=guit%2Caps%2C281&sr=8-40',\n",
       " 'https://www.amazon.in/Yamaha-FS-100C-6-String-Acoustic-without/dp/B00PAS9CK6/ref=sr_1_41?crid=1570UROUGX04&dib=eyJ2IjoiMSJ9.wTmZbjEKHhyWxxfGK0FysKpyq5ESDlKtrk8PpwqXEN31EvXlFfPGE1koeqdIZFsmefWaY2IVCymofQ8ZDT3I_UsbNN-BwJVicACOlEbOE8ycbJ1rcAq6FEum_02uKi1h-quQ4AnIQaFI-L8Lef3f9bzvduZg2FS5HzwlyG5AwBuboONoBDsCXTDOYVZD71Iw_cJ3Zm8GRdvPmgj9PBrHhv2XoxCkuhdJFIlREZeNDdL4sAOM5M_X5_eHc8Dv1Mlzh50BS5KEbWU0I449IIiiwagdPQR1PKZdqYDDwkL61K0.8dZ9fJa0OqTVv6WPIFPdktIDpdzVh5gDfMfDsO6KOyI&dib_tag=se&keywords=Guitar&qid=1711584681&sprefix=guit%2Caps%2C281&sr=8-41',\n",
       " 'https://www.amazon.in/NOVA-SP1-Acoustic-AcousticPlus-Instrument/dp/B0BHZFCVL3/ref=sr_1_42?crid=1570UROUGX04&dib=eyJ2IjoiMSJ9.wTmZbjEKHhyWxxfGK0FysKpyq5ESDlKtrk8PpwqXEN31EvXlFfPGE1koeqdIZFsmefWaY2IVCymofQ8ZDT3I_UsbNN-BwJVicACOlEbOE8ycbJ1rcAq6FEum_02uKi1h-quQ4AnIQaFI-L8Lef3f9bzvduZg2FS5HzwlyG5AwBuboONoBDsCXTDOYVZD71Iw_cJ3Zm8GRdvPmgj9PBrHhv2XoxCkuhdJFIlREZeNDdL4sAOM5M_X5_eHc8Dv1Mlzh50BS5KEbWU0I449IIiiwagdPQR1PKZdqYDDwkL61K0.8dZ9fJa0OqTVv6WPIFPdktIDpdzVh5gDfMfDsO6KOyI&dib_tag=se&keywords=Guitar&qid=1711584681&sprefix=guit%2Caps%2C281&sr=8-42',\n",
       " 'https://www.amazon.in/Yamaha-FSX80C-Acoustic-Cutaway-Guitar/dp/B09HL5WFDX/ref=sr_1_43?crid=1570UROUGX04&dib=eyJ2IjoiMSJ9.wTmZbjEKHhyWxxfGK0FysKpyq5ESDlKtrk8PpwqXEN31EvXlFfPGE1koeqdIZFsmefWaY2IVCymofQ8ZDT3I_UsbNN-BwJVicACOlEbOE8ycbJ1rcAq6FEum_02uKi1h-quQ4AnIQaFI-L8Lef3f9bzvduZg2FS5HzwlyG5AwBuboONoBDsCXTDOYVZD71Iw_cJ3Zm8GRdvPmgj9PBrHhv2XoxCkuhdJFIlREZeNDdL4sAOM5M_X5_eHc8Dv1Mlzh50BS5KEbWU0I449IIiiwagdPQR1PKZdqYDDwkL61K0.8dZ9fJa0OqTVv6WPIFPdktIDpdzVh5gDfMfDsO6KOyI&dib_tag=se&keywords=Guitar&qid=1711584681&sprefix=guit%2Caps%2C281&sr=8-43',\n",
       " 'https://www.amazon.in/PS-Signature-RoseWood-Acoustic-Strings/dp/B0CK9822R4/ref=sr_1_44?crid=1570UROUGX04&dib=eyJ2IjoiMSJ9.wTmZbjEKHhyWxxfGK0FysKpyq5ESDlKtrk8PpwqXEN31EvXlFfPGE1koeqdIZFsmefWaY2IVCymofQ8ZDT3I_UsbNN-BwJVicACOlEbOE8ycbJ1rcAq6FEum_02uKi1h-quQ4AnIQaFI-L8Lef3f9bzvduZg2FS5HzwlyG5AwBuboONoBDsCXTDOYVZD71Iw_cJ3Zm8GRdvPmgj9PBrHhv2XoxCkuhdJFIlREZeNDdL4sAOM5M_X5_eHc8Dv1Mlzh50BS5KEbWU0I449IIiiwagdPQR1PKZdqYDDwkL61K0.8dZ9fJa0OqTVv6WPIFPdktIDpdzVh5gDfMfDsO6KOyI&dib_tag=se&keywords=Guitar&qid=1711584681&sprefix=guit%2Caps%2C281&sr=8-44',\n",
       " 'https://www.amazon.in/JUAREZ-JRZ38C-BKNA/dp/B0BCQNVPRB/ref=sr_1_45?crid=1570UROUGX04&dib=eyJ2IjoiMSJ9.wTmZbjEKHhyWxxfGK0FysKpyq5ESDlKtrk8PpwqXEN31EvXlFfPGE1koeqdIZFsmefWaY2IVCymofQ8ZDT3I_UsbNN-BwJVicACOlEbOE8ycbJ1rcAq6FEum_02uKi1h-quQ4AnIQaFI-L8Lef3f9bzvduZg2FS5HzwlyG5AwBuboONoBDsCXTDOYVZD71Iw_cJ3Zm8GRdvPmgj9PBrHhv2XoxCkuhdJFIlREZeNDdL4sAOM5M_X5_eHc8Dv1Mlzh50BS5KEbWU0I449IIiiwagdPQR1PKZdqYDDwkL61K0.8dZ9fJa0OqTVv6WPIFPdktIDpdzVh5gDfMfDsO6KOyI&dib_tag=se&keywords=Guitar&qid=1711584681&sprefix=guit%2Caps%2C281&sr=8-45',\n",
       " 'https://www.amazon.in/Blueberry-VIP-385-Acoustic-Basswood-Natural/dp/B0BVW7QCNC/ref=sr_1_46?crid=1570UROUGX04&dib=eyJ2IjoiMSJ9.wTmZbjEKHhyWxxfGK0FysKpyq5ESDlKtrk8PpwqXEN31EvXlFfPGE1koeqdIZFsmefWaY2IVCymofQ8ZDT3I_UsbNN-BwJVicACOlEbOE8ycbJ1rcAq6FEum_02uKi1h-quQ4AnIQaFI-L8Lef3f9bzvduZg2FS5HzwlyG5AwBuboONoBDsCXTDOYVZD71Iw_cJ3Zm8GRdvPmgj9PBrHhv2XoxCkuhdJFIlREZeNDdL4sAOM5M_X5_eHc8Dv1Mlzh50BS5KEbWU0I449IIiiwagdPQR1PKZdqYDDwkL61K0.8dZ9fJa0OqTVv6WPIFPdktIDpdzVh5gDfMfDsO6KOyI&dib_tag=se&keywords=Guitar&qid=1711584681&sprefix=guit%2Caps%2C281&sr=8-46',\n",
       " 'https://www.amazon.in/Yamaha-F310-6-Strings-Acoustic-Natural/dp/B000RVYW7E/ref=sr_1_47?crid=1570UROUGX04&dib=eyJ2IjoiMSJ9.wTmZbjEKHhyWxxfGK0FysKpyq5ESDlKtrk8PpwqXEN31EvXlFfPGE1koeqdIZFsmefWaY2IVCymofQ8ZDT3I_UsbNN-BwJVicACOlEbOE8ycbJ1rcAq6FEum_02uKi1h-quQ4AnIQaFI-L8Lef3f9bzvduZg2FS5HzwlyG5AwBuboONoBDsCXTDOYVZD71Iw_cJ3Zm8GRdvPmgj9PBrHhv2XoxCkuhdJFIlREZeNDdL4sAOM5M_X5_eHc8Dv1Mlzh50BS5KEbWU0I449IIiiwagdPQR1PKZdqYDDwkL61K0.8dZ9fJa0OqTVv6WPIFPdktIDpdzVh5gDfMfDsO6KOyI&dib_tag=se&keywords=Guitar&qid=1711584681&sprefix=guit%2Caps%2C281&sr=8-47',\n",
       " 'https://www.amazon.in/JUAREZ-JRZ38C-3TSNA/dp/B0BCQQRDF3/ref=sr_1_48?crid=1570UROUGX04&dib=eyJ2IjoiMSJ9.wTmZbjEKHhyWxxfGK0FysKpyq5ESDlKtrk8PpwqXEN31EvXlFfPGE1koeqdIZFsmefWaY2IVCymofQ8ZDT3I_UsbNN-BwJVicACOlEbOE8ycbJ1rcAq6FEum_02uKi1h-quQ4AnIQaFI-L8Lef3f9bzvduZg2FS5HzwlyG5AwBuboONoBDsCXTDOYVZD71Iw_cJ3Zm8GRdvPmgj9PBrHhv2XoxCkuhdJFIlREZeNDdL4sAOM5M_X5_eHc8Dv1Mlzh50BS5KEbWU0I449IIiiwagdPQR1PKZdqYDDwkL61K0.8dZ9fJa0OqTVv6WPIFPdktIDpdzVh5gDfMfDsO6KOyI&dib_tag=se&keywords=Guitar&qid=1711584681&sprefix=guit%2Caps%2C281&sr=8-48',\n",
       " 'https://www.amazon.in/Kadence-Slowhand-Premium-Acoustic-Instrument/dp/B077SZ667X/ref=sr_1_49?crid=1570UROUGX04&dib=eyJ2IjoiMSJ9.wTmZbjEKHhyWxxfGK0FysKpyq5ESDlKtrk8PpwqXEN31EvXlFfPGE1koeqdIZFsmefWaY2IVCymofQ8ZDT3I_UsbNN-BwJVicACOlEbOE8ycbJ1rcAq6FEum_02uKi1h-quQ4AnIQaFI-L8Lef3f9bzvduZg2FS5HzwlyG5AwBuboONoBDsCXTDOYVZD71Iw_cJ3Zm8GRdvPmgj9PBrHhv2XoxCkuhdJFIlREZeNDdL4sAOM5M_X5_eHc8Dv1Mlzh50BS5KEbWU0I449IIiiwagdPQR1PKZdqYDDwkL61K0.8dZ9fJa0OqTVv6WPIFPdktIDpdzVh5gDfMfDsO6KOyI&dib_tag=se&keywords=Guitar&qid=1711584681&sprefix=guit%2Caps%2C281&sr=8-49',\n",
       " 'https://www.amazon.in/Kadence-Professional-Acoustic-Rosewood-Natural/dp/B0CC927DLN/ref=sr_1_50?crid=1570UROUGX04&dib=eyJ2IjoiMSJ9.wTmZbjEKHhyWxxfGK0FysKpyq5ESDlKtrk8PpwqXEN31EvXlFfPGE1koeqdIZFsmefWaY2IVCymofQ8ZDT3I_UsbNN-BwJVicACOlEbOE8ycbJ1rcAq6FEum_02uKi1h-quQ4AnIQaFI-L8Lef3f9bzvduZg2FS5HzwlyG5AwBuboONoBDsCXTDOYVZD71Iw_cJ3Zm8GRdvPmgj9PBrHhv2XoxCkuhdJFIlREZeNDdL4sAOM5M_X5_eHc8Dv1Mlzh50BS5KEbWU0I449IIiiwagdPQR1PKZdqYDDwkL61K0.8dZ9fJa0OqTVv6WPIFPdktIDpdzVh5gDfMfDsO6KOyI&dib_tag=se&keywords=Guitar&qid=1711584681&sprefix=guit%2Caps%2C281&sr=8-50',\n",
       " 'https://www.amazon.in/Yamaha-Pacifica-PAC012-Electric-Guitar/dp/B00123DQT6/ref=sr_1_51?crid=1570UROUGX04&dib=eyJ2IjoiMSJ9.wTmZbjEKHhyWxxfGK0FysKpyq5ESDlKtrk8PpwqXEN31EvXlFfPGE1koeqdIZFsmefWaY2IVCymofQ8ZDT3I_UsbNN-BwJVicACOlEbOE8ycbJ1rcAq6FEum_02uKi1h-quQ4AnIQaFI-L8Lef3f9bzvduZg2FS5HzwlyG5AwBuboONoBDsCXTDOYVZD71Iw_cJ3Zm8GRdvPmgj9PBrHhv2XoxCkuhdJFIlREZeNDdL4sAOM5M_X5_eHc8Dv1Mlzh50BS5KEbWU0I449IIiiwagdPQR1PKZdqYDDwkL61K0.8dZ9fJa0OqTVv6WPIFPdktIDpdzVh5gDfMfDsO6KOyI&dib_tag=se&keywords=Guitar&qid=1711584681&sprefix=guit%2Caps%2C281&sr=8-51',\n",
       " 'https://www.amazon.in/Intern-INT-38C-BLS-G-Guitar-Kit-Blue/dp/B07K8YXTNW/ref=sr_1_52?crid=1570UROUGX04&dib=eyJ2IjoiMSJ9.wTmZbjEKHhyWxxfGK0FysKpyq5ESDlKtrk8PpwqXEN31EvXlFfPGE1koeqdIZFsmefWaY2IVCymofQ8ZDT3I_UsbNN-BwJVicACOlEbOE8ycbJ1rcAq6FEum_02uKi1h-quQ4AnIQaFI-L8Lef3f9bzvduZg2FS5HzwlyG5AwBuboONoBDsCXTDOYVZD71Iw_cJ3Zm8GRdvPmgj9PBrHhv2XoxCkuhdJFIlREZeNDdL4sAOM5M_X5_eHc8Dv1Mlzh50BS5KEbWU0I449IIiiwagdPQR1PKZdqYDDwkL61K0.8dZ9fJa0OqTVv6WPIFPdktIDpdzVh5gDfMfDsO6KOyI&dib_tag=se&keywords=Guitar&qid=1711584681&sprefix=guit%2Caps%2C281&sr=8-52',\n",
       " 'https://www.amazon.in/Intern-INT-38C-Acoustic-Guitar-Natural/dp/B073B4D22T/ref=sr_1_53?crid=1570UROUGX04&dib=eyJ2IjoiMSJ9.wTmZbjEKHhyWxxfGK0FysKpyq5ESDlKtrk8PpwqXEN31EvXlFfPGE1koeqdIZFsmefWaY2IVCymofQ8ZDT3I_UsbNN-BwJVicACOlEbOE8ycbJ1rcAq6FEum_02uKi1h-quQ4AnIQaFI-L8Lef3f9bzvduZg2FS5HzwlyG5AwBuboONoBDsCXTDOYVZD71Iw_cJ3Zm8GRdvPmgj9PBrHhv2XoxCkuhdJFIlREZeNDdL4sAOM5M_X5_eHc8Dv1Mlzh50BS5KEbWU0I449IIiiwagdPQR1PKZdqYDDwkL61K0.8dZ9fJa0OqTVv6WPIFPdktIDpdzVh5gDfMfDsO6KOyI&dib_tag=se&keywords=Guitar&qid=1711584681&sprefix=guit%2Caps%2C281&sr=8-53',\n",
       " 'https://www.amazon.in/Medellin-MED-BLU-C-Linden-Acoustic-Guitar/dp/B07NBMWHJW/ref=sr_1_54?crid=1570UROUGX04&dib=eyJ2IjoiMSJ9.wTmZbjEKHhyWxxfGK0FysKpyq5ESDlKtrk8PpwqXEN31EvXlFfPGE1koeqdIZFsmefWaY2IVCymofQ8ZDT3I_UsbNN-BwJVicACOlEbOE8ycbJ1rcAq6FEum_02uKi1h-quQ4AnIQaFI-L8Lef3f9bzvduZg2FS5HzwlyG5AwBuboONoBDsCXTDOYVZD71Iw_cJ3Zm8GRdvPmgj9PBrHhv2XoxCkuhdJFIlREZeNDdL4sAOM5M_X5_eHc8Dv1Mlzh50BS5KEbWU0I449IIiiwagdPQR1PKZdqYDDwkL61K0.8dZ9fJa0OqTVv6WPIFPdktIDpdzVh5gDfMfDsO6KOyI&dib_tag=se&keywords=Guitar&qid=1711584681&sprefix=guit%2Caps%2C281&sr=8-54',\n",
       " 'https://www.amazon.in/JUAREZ-JRZ38C-Handed-Acoustic-Strings/dp/B01FYYTDW2/ref=sr_1_55?crid=1570UROUGX04&dib=eyJ2IjoiMSJ9.wTmZbjEKHhyWxxfGK0FysKpyq5ESDlKtrk8PpwqXEN31EvXlFfPGE1koeqdIZFsmefWaY2IVCymofQ8ZDT3I_UsbNN-BwJVicACOlEbOE8ycbJ1rcAq6FEum_02uKi1h-quQ4AnIQaFI-L8Lef3f9bzvduZg2FS5HzwlyG5AwBuboONoBDsCXTDOYVZD71Iw_cJ3Zm8GRdvPmgj9PBrHhv2XoxCkuhdJFIlREZeNDdL4sAOM5M_X5_eHc8Dv1Mlzh50BS5KEbWU0I449IIiiwagdPQR1PKZdqYDDwkL61K0.8dZ9fJa0OqTVv6WPIFPdktIDpdzVh5gDfMfDsO6KOyI&dib_tag=se&keywords=Guitar&qid=1711584681&sprefix=guit%2Caps%2C281&sr=8-55',\n",
       " 'https://www.amazon.in/Blueberry-VIP-382-38Inch-Cutaway-Acoustic/dp/B0BVVB1NNX/ref=sr_1_56?crid=1570UROUGX04&dib=eyJ2IjoiMSJ9.wTmZbjEKHhyWxxfGK0FysKpyq5ESDlKtrk8PpwqXEN31EvXlFfPGE1koeqdIZFsmefWaY2IVCymofQ8ZDT3I_UsbNN-BwJVicACOlEbOE8ycbJ1rcAq6FEum_02uKi1h-quQ4AnIQaFI-L8Lef3f9bzvduZg2FS5HzwlyG5AwBuboONoBDsCXTDOYVZD71Iw_cJ3Zm8GRdvPmgj9PBrHhv2XoxCkuhdJFIlREZeNDdL4sAOM5M_X5_eHc8Dv1Mlzh50BS5KEbWU0I449IIiiwagdPQR1PKZdqYDDwkL61K0.8dZ9fJa0OqTVv6WPIFPdktIDpdzVh5gDfMfDsO6KOyI&dib_tag=se&keywords=Guitar&qid=1711584681&sprefix=guit%2Caps%2C281&sr=8-56',\n",
       " 'https://www.amazon.in/sspa/click?ie=UTF8&spc=MToyOTQ4NzQ2NzEwNDE4MDg3OjE3MTE1ODQ2ODE6c3BfYnRmOjMwMDEyODA0MjM1NDkzMjo6MDo6&url=%2FBLUEBERRY-B-38C-Acoustic-Guitar-Strings%2Fdp%2FB0CNLKXVL5%2Fref%3Dsr_1_57_sspa%3Fcrid%3D1570UROUGX04%26dib%3DeyJ2IjoiMSJ9.wTmZbjEKHhyWxxfGK0FysKpyq5ESDlKtrk8PpwqXEN31EvXlFfPGE1koeqdIZFsmefWaY2IVCymofQ8ZDT3I_UsbNN-BwJVicACOlEbOE8ycbJ1rcAq6FEum_02uKi1h-quQ4AnIQaFI-L8Lef3f9bzvduZg2FS5HzwlyG5AwBuboONoBDsCXTDOYVZD71Iw_cJ3Zm8GRdvPmgj9PBrHhv2XoxCkuhdJFIlREZeNDdL4sAOM5M_X5_eHc8Dv1Mlzh50BS5KEbWU0I449IIiiwagdPQR1PKZdqYDDwkL61K0.8dZ9fJa0OqTVv6WPIFPdktIDpdzVh5gDfMfDsO6KOyI%26dib_tag%3Dse%26keywords%3DGuitar%26qid%3D1711584681%26sprefix%3Dguit%252Caps%252C281%26sr%3D8-57-spons%26sp_csd%3Dd2lkZ2V0TmFtZT1zcF9idGY%26psc%3D1',\n",
       " 'https://www.amazon.in/sspa/click?ie=UTF8&spc=MToyOTQ4NzQ2NzEwNDE4MDg3OjE3MTE1ODQ2ODE6c3BfYnRmOjIwMTI3OTkwMDI5Mzk4OjowOjo&url=%2FBlueberry-VIP-341-Natural-Acoustic%2Fdp%2FB0BVVJ8VG5%2Fref%3Dsr_1_58_sspa%3Fcrid%3D1570UROUGX04%26dib%3DeyJ2IjoiMSJ9.wTmZbjEKHhyWxxfGK0FysKpyq5ESDlKtrk8PpwqXEN31EvXlFfPGE1koeqdIZFsmefWaY2IVCymofQ8ZDT3I_UsbNN-BwJVicACOlEbOE8ycbJ1rcAq6FEum_02uKi1h-quQ4AnIQaFI-L8Lef3f9bzvduZg2FS5HzwlyG5AwBuboONoBDsCXTDOYVZD71Iw_cJ3Zm8GRdvPmgj9PBrHhv2XoxCkuhdJFIlREZeNDdL4sAOM5M_X5_eHc8Dv1Mlzh50BS5KEbWU0I449IIiiwagdPQR1PKZdqYDDwkL61K0.8dZ9fJa0OqTVv6WPIFPdktIDpdzVh5gDfMfDsO6KOyI%26dib_tag%3Dse%26keywords%3DGuitar%26qid%3D1711584681%26sprefix%3Dguit%252Caps%252C281%26sr%3D8-58-spons%26sp_csd%3Dd2lkZ2V0TmFtZT1zcF9idGY%26psc%3D1',\n",
       " 'https://www.amazon.in/sspa/click?ie=UTF8&spc=MToyOTQ4NzQ2NzEwNDE4MDg3OjE3MTE1ODQ2ODE6c3BfYnRmOjMwMDE1MTIzNjcwODYzMjo6MDo6&url=%2FAcoustic-Strings-Rosette-Rosewood-Fretboard%2Fdp%2FB09FPQX7RN%2Fref%3Dsr_1_59_sspa%3Fcrid%3D1570UROUGX04%26dib%3DeyJ2IjoiMSJ9.wTmZbjEKHhyWxxfGK0FysKpyq5ESDlKtrk8PpwqXEN31EvXlFfPGE1koeqdIZFsmefWaY2IVCymofQ8ZDT3I_UsbNN-BwJVicACOlEbOE8ycbJ1rcAq6FEum_02uKi1h-quQ4AnIQaFI-L8Lef3f9bzvduZg2FS5HzwlyG5AwBuboONoBDsCXTDOYVZD71Iw_cJ3Zm8GRdvPmgj9PBrHhv2XoxCkuhdJFIlREZeNDdL4sAOM5M_X5_eHc8Dv1Mlzh50BS5KEbWU0I449IIiiwagdPQR1PKZdqYDDwkL61K0.8dZ9fJa0OqTVv6WPIFPdktIDpdzVh5gDfMfDsO6KOyI%26dib_tag%3Dse%26keywords%3DGuitar%26qid%3D1711584681%26sprefix%3Dguit%252Caps%252C281%26sr%3D8-59-spons%26sp_csd%3Dd2lkZ2V0TmFtZT1zcF9idGY%26psc%3D1',\n",
       " 'https://www.amazon.in/sspa/click?ie=UTF8&spc=MToyOTQ4NzQ2NzEwNDE4MDg3OjE3MTE1ODQ2ODE6c3BfYnRmOjIwMDc4MzM2ODg3NDk4OjowOjo&url=%2FBlueberry-B-D38-Acoustic-Inbuilt-Strings%2Fdp%2FB07PHYZZP1%2Fref%3Dsr_1_60_sspa%3Fcrid%3D1570UROUGX04%26dib%3DeyJ2IjoiMSJ9.wTmZbjEKHhyWxxfGK0FysKpyq5ESDlKtrk8PpwqXEN31EvXlFfPGE1koeqdIZFsmefWaY2IVCymofQ8ZDT3I_UsbNN-BwJVicACOlEbOE8ycbJ1rcAq6FEum_02uKi1h-quQ4AnIQaFI-L8Lef3f9bzvduZg2FS5HzwlyG5AwBuboONoBDsCXTDOYVZD71Iw_cJ3Zm8GRdvPmgj9PBrHhv2XoxCkuhdJFIlREZeNDdL4sAOM5M_X5_eHc8Dv1Mlzh50BS5KEbWU0I449IIiiwagdPQR1PKZdqYDDwkL61K0.8dZ9fJa0OqTVv6WPIFPdktIDpdzVh5gDfMfDsO6KOyI%26dib_tag%3Dse%26keywords%3DGuitar%26qid%3D1711584681%26sprefix%3Dguit%252Caps%252C281%26sr%3D8-60-spons%26sp_csd%3Dd2lkZ2V0TmFtZT1zcF9idGY%26psc%3D1',\n",
       " 'https://www.amazon.in/sspa/click?ie=UTF8&spc=MToxMjY2NjM4NzM3ODE1MDg3OjE3MTE1ODQ2ODE6c3Bfc2VhcmNoX3RoZW1hdGljOjIwMDk2NjA4NzUwNDk4OjowOjo&url=%2FKadence-Frontier-Acoustic-Guitar-Strings%2Fdp%2FB01GDZ46AA%2Fref%3Dsxbs_pa_sp_search_thematic_sspa%3Fcontent-id%3Damzn1.sym.a83da621-77e7-4296-a3f4-89ab1b9d499e%253Aamzn1.sym.a83da621-77e7-4296-a3f4-89ab1b9d499e%26crid%3D1570UROUGX04%26cv_ct_cx%3DGuitar%26dib%3DeyJ2IjoiMSJ9.dxxUgg0YV5PJjnSYXA_vEJS_utv3FeAcxhlu5vF-gTeY4bZD5eHX37YJnVuSeEDjZtXE3LDyQhVxX_WMObn2aQ.-N8vTFqDw1XvMTkiXWcZDgjrlEjEyDqdDqkcT24ZTSU%26dib_tag%3Dse%26keywords%3DGuitar%26pd_rd_i%3DB01GDZ46AA%26pd_rd_r%3Dc8456d33-d965-4964-a888-ac32ab026546%26pd_rd_w%3D413qO%26pd_rd_wg%3DpvKuC%26pf_rd_p%3Da83da621-77e7-4296-a3f4-89ab1b9d499e%26pf_rd_r%3DCQ7347WMV73Y0S2XGJQH%26qid%3D1711584681%26sbo%3DRZvfv%252F%252FHxDF%252BO5021pAnSA%253D%253D%26sprefix%3Dguit%252Caps%252C281%26sr%3D1-1-2907eac4-8056-42c7-8014-fdf7bd4c5395-spons%26sp_csd%3Dd2lkZ2V0TmFtZT1zcF9zZWFyY2hfdGhlbWF0aWM%26psc%3D1',\n",
       " 'https://www.amazon.in/sspa/click?ie=UTF8&spc=MToxMjY2NjM4NzM3ODE1MDg3OjE3MTE1ODQ2ODE6c3Bfc2VhcmNoX3RoZW1hdGljOjMwMDAxNTUzNzk3OTIzMjo6MTo6&url=%2FKadence-Frontier-Acoustic-Guitar-Strings%2Fdp%2FB078GTJP5Y%2Fref%3Dsxbs_pa_sp_search_thematic_sspa%3Fcontent-id%3Damzn1.sym.a83da621-77e7-4296-a3f4-89ab1b9d499e%253Aamzn1.sym.a83da621-77e7-4296-a3f4-89ab1b9d499e%26crid%3D1570UROUGX04%26cv_ct_cx%3DGuitar%26dib%3DeyJ2IjoiMSJ9.dxxUgg0YV5PJjnSYXA_vEJS_utv3FeAcxhlu5vF-gTeY4bZD5eHX37YJnVuSeEDjZtXE3LDyQhVxX_WMObn2aQ.-N8vTFqDw1XvMTkiXWcZDgjrlEjEyDqdDqkcT24ZTSU%26dib_tag%3Dse%26keywords%3DGuitar%26pd_rd_i%3DB078GTJP5Y%26pd_rd_r%3Dc8456d33-d965-4964-a888-ac32ab026546%26pd_rd_w%3D413qO%26pd_rd_wg%3DpvKuC%26pf_rd_p%3Da83da621-77e7-4296-a3f4-89ab1b9d499e%26pf_rd_r%3DCQ7347WMV73Y0S2XGJQH%26qid%3D1711584681%26sbo%3DRZvfv%252F%252FHxDF%252BO5021pAnSA%253D%253D%26sprefix%3Dguit%252Caps%252C281%26sr%3D1-2-2907eac4-8056-42c7-8014-fdf7bd4c5395-spons%26sp_csd%3Dd2lkZ2V0TmFtZT1zcF9zZWFyY2hfdGhlbWF0aWM%26psc%3D1',\n",
       " 'https://www.amazon.in/sspa/click?ie=UTF8&spc=MToxMjY2NjM4NzM3ODE1MDg3OjE3MTE1ODQ2ODE6c3Bfc2VhcmNoX3RoZW1hdGljOjIwMDU3MTkzMDU2MjA0OjoyOjo&url=%2FKadence-Slowhand-Premium-Acoustic-Instrument%2Fdp%2FB077SZ667X%2Fref%3Dsxbs_pa_sp_search_thematic_sspa%3Fcontent-id%3Damzn1.sym.a83da621-77e7-4296-a3f4-89ab1b9d499e%253Aamzn1.sym.a83da621-77e7-4296-a3f4-89ab1b9d499e%26crid%3D1570UROUGX04%26cv_ct_cx%3DGuitar%26dib%3DeyJ2IjoiMSJ9.dxxUgg0YV5PJjnSYXA_vEJS_utv3FeAcxhlu5vF-gTeY4bZD5eHX37YJnVuSeEDjZtXE3LDyQhVxX_WMObn2aQ.-N8vTFqDw1XvMTkiXWcZDgjrlEjEyDqdDqkcT24ZTSU%26dib_tag%3Dse%26keywords%3DGuitar%26pd_rd_i%3DB077SZ667X%26pd_rd_r%3Dc8456d33-d965-4964-a888-ac32ab026546%26pd_rd_w%3D413qO%26pd_rd_wg%3DpvKuC%26pf_rd_p%3Da83da621-77e7-4296-a3f4-89ab1b9d499e%26pf_rd_r%3DCQ7347WMV73Y0S2XGJQH%26qid%3D1711584681%26sbo%3DRZvfv%252F%252FHxDF%252BO5021pAnSA%253D%253D%26sprefix%3Dguit%252Caps%252C281%26sr%3D1-3-2907eac4-8056-42c7-8014-fdf7bd4c5395-spons%26sp_csd%3Dd2lkZ2V0TmFtZT1zcF9zZWFyY2hfdGhlbWF0aWM%26psc%3D1',\n",
       " 'https://www.amazon.in/sspa/click?ie=UTF8&spc=MToxMjY2NjM4NzM3ODE1MDg3OjE3MTE1ODQ2ODE6c3Bfc2VhcmNoX3RoZW1hdGljOjMwMDE1MTIzNjcwODQzMjo6Mzo6&url=%2FJu%25C3%25A2rez-JRZ38C-WH-Strings-Acoustic%2Fdp%2FB072MFK4L6%2Fref%3Dsxbs_pa_sp_search_thematic_sspa%3Fcontent-id%3Damzn1.sym.a83da621-77e7-4296-a3f4-89ab1b9d499e%253Aamzn1.sym.a83da621-77e7-4296-a3f4-89ab1b9d499e%26crid%3D1570UROUGX04%26cv_ct_cx%3DGuitar%26dib%3DeyJ2IjoiMSJ9.dxxUgg0YV5PJjnSYXA_vEJS_utv3FeAcxhlu5vF-gTeY4bZD5eHX37YJnVuSeEDjZtXE3LDyQhVxX_WMObn2aQ.-N8vTFqDw1XvMTkiXWcZDgjrlEjEyDqdDqkcT24ZTSU%26dib_tag%3Dse%26keywords%3DGuitar%26pd_rd_i%3DB072MFK4L6%26pd_rd_r%3Dc8456d33-d965-4964-a888-ac32ab026546%26pd_rd_w%3D413qO%26pd_rd_wg%3DpvKuC%26pf_rd_p%3Da83da621-77e7-4296-a3f4-89ab1b9d499e%26pf_rd_r%3DCQ7347WMV73Y0S2XGJQH%26qid%3D1711584681%26sbo%3DRZvfv%252F%252FHxDF%252BO5021pAnSA%253D%253D%26sprefix%3Dguit%252Caps%252C281%26sr%3D1-4-2907eac4-8056-42c7-8014-fdf7bd4c5395-spons%26sp_csd%3Dd2lkZ2V0TmFtZT1zcF9zZWFyY2hfdGhlbWF0aWM%26psc%3D1',\n",
       " 'https://www.amazon.in/sspa/click?ie=UTF8&spc=MToxMjY2NjM4NzM3ODE1MDg3OjE3MTE1ODQ2ODE6c3Bfc2VhcmNoX3RoZW1hdGljOjMwMDEyODA0MjM1NTUzMjo6NDo6&url=%2FBLUEBERRY-B-38C-Acoustic-Guitar-Strings%2Fdp%2FB0C8V9BWK7%2Fref%3Dsxbs_pa_sp_search_thematic_sspa%3Fcontent-id%3Damzn1.sym.a83da621-77e7-4296-a3f4-89ab1b9d499e%253Aamzn1.sym.a83da621-77e7-4296-a3f4-89ab1b9d499e%26crid%3D1570UROUGX04%26cv_ct_cx%3DGuitar%26dib%3DeyJ2IjoiMSJ9.dxxUgg0YV5PJjnSYXA_vEJS_utv3FeAcxhlu5vF-gTeY4bZD5eHX37YJnVuSeEDjZtXE3LDyQhVxX_WMObn2aQ.-N8vTFqDw1XvMTkiXWcZDgjrlEjEyDqdDqkcT24ZTSU%26dib_tag%3Dse%26keywords%3DGuitar%26pd_rd_i%3DB0C8V9BWK7%26pd_rd_r%3Dc8456d33-d965-4964-a888-ac32ab026546%26pd_rd_w%3D413qO%26pd_rd_wg%3DpvKuC%26pf_rd_p%3Da83da621-77e7-4296-a3f4-89ab1b9d499e%26pf_rd_r%3DCQ7347WMV73Y0S2XGJQH%26qid%3D1711584681%26sbo%3DRZvfv%252F%252FHxDF%252BO5021pAnSA%253D%253D%26sprefix%3Dguit%252Caps%252C281%26sr%3D1-5-2907eac4-8056-42c7-8014-fdf7bd4c5395-spons%26sp_csd%3Dd2lkZ2V0TmFtZT1zcF9zZWFyY2hfdGhlbWF0aWM%26psc%3D1',\n",
       " 'https://www.amazon.in/sspa/click?ie=UTF8&spc=MToyOTQ4NzQ2NzEwNDE4MDg3OjE3MTE1ODQ2ODE6c3BfYXRmOjIwMDk2NjA4NzUwNDk4OjowOjo&url=%2FKadence-Frontier-Acoustic-Guitar-Strings%2Fdp%2FB01GDZ46AA%2Fref%3Dsr_1_1_sspa%3Fcrid%3D1570UROUGX04%26dib%3DeyJ2IjoiMSJ9.wTmZbjEKHhyWxxfGK0FysKpyq5ESDlKtrk8PpwqXEN31EvXlFfPGE1koeqdIZFsmefWaY2IVCymofQ8ZDT3I_UsbNN-BwJVicACOlEbOE8ycbJ1rcAq6FEum_02uKi1h-quQ4AnIQaFI-L8Lef3f9bzvduZg2FS5HzwlyG5AwBuboONoBDsCXTDOYVZD71Iw_cJ3Zm8GRdvPmgj9PBrHhv2XoxCkuhdJFIlREZeNDdL4sAOM5M_X5_eHc8Dv1Mlzh50BS5KEbWU0I449IIiiwagdPQR1PKZdqYDDwkL61K0.8dZ9fJa0OqTVv6WPIFPdktIDpdzVh5gDfMfDsO6KOyI%26dib_tag%3Dse%26keywords%3DGuitar%26qid%3D1711584681%26sprefix%3Dguit%252Caps%252C281%26sr%3D8-1-spons%26sp_csd%3Dd2lkZ2V0TmFtZT1zcF9hdGY%26psc%3D1',\n",
       " 'https://www.amazon.in/sspa/click?ie=UTF8&spc=MToyOTQ4NzQ2NzEwNDE4MDg3OjE3MTE1ODQ2ODE6c3BfYXRmOjMwMDAxNTUzNzk3OTIzMjo6MDo6&url=%2FKadence-Frontier-Acoustic-Guitar-Strings%2Fdp%2FB078GTJP5Y%2Fref%3Dsr_1_2_sspa%3Fcrid%3D1570UROUGX04%26dib%3DeyJ2IjoiMSJ9.wTmZbjEKHhyWxxfGK0FysKpyq5ESDlKtrk8PpwqXEN31EvXlFfPGE1koeqdIZFsmefWaY2IVCymofQ8ZDT3I_UsbNN-BwJVicACOlEbOE8ycbJ1rcAq6FEum_02uKi1h-quQ4AnIQaFI-L8Lef3f9bzvduZg2FS5HzwlyG5AwBuboONoBDsCXTDOYVZD71Iw_cJ3Zm8GRdvPmgj9PBrHhv2XoxCkuhdJFIlREZeNDdL4sAOM5M_X5_eHc8Dv1Mlzh50BS5KEbWU0I449IIiiwagdPQR1PKZdqYDDwkL61K0.8dZ9fJa0OqTVv6WPIFPdktIDpdzVh5gDfMfDsO6KOyI%26dib_tag%3Dse%26keywords%3DGuitar%26qid%3D1711584681%26sprefix%3Dguit%252Caps%252C281%26sr%3D8-2-spons%26sp_csd%3Dd2lkZ2V0TmFtZT1zcF9hdGY%26psc%3D1',\n",
       " 'https://www.amazon.in/sspa/click?ie=UTF8&spc=MToyOTQ4NzQ2NzEwNDE4MDg3OjE3MTE1ODQ2ODE6c3BfYXRmOjIwMDg4NDY1ODE5NDA0OjowOjo&url=%2FHenrix-Acoustic-Guitar-Die-cast-Dual-action%2Fdp%2FB07VNDW6QF%2Fref%3Dsr_1_3_sspa%3Fcrid%3D1570UROUGX04%26dib%3DeyJ2IjoiMSJ9.wTmZbjEKHhyWxxfGK0FysKpyq5ESDlKtrk8PpwqXEN31EvXlFfPGE1koeqdIZFsmefWaY2IVCymofQ8ZDT3I_UsbNN-BwJVicACOlEbOE8ycbJ1rcAq6FEum_02uKi1h-quQ4AnIQaFI-L8Lef3f9bzvduZg2FS5HzwlyG5AwBuboONoBDsCXTDOYVZD71Iw_cJ3Zm8GRdvPmgj9PBrHhv2XoxCkuhdJFIlREZeNDdL4sAOM5M_X5_eHc8Dv1Mlzh50BS5KEbWU0I449IIiiwagdPQR1PKZdqYDDwkL61K0.8dZ9fJa0OqTVv6WPIFPdktIDpdzVh5gDfMfDsO6KOyI%26dib_tag%3Dse%26keywords%3DGuitar%26qid%3D1711584681%26sprefix%3Dguit%252Caps%252C281%26sr%3D8-3-spons%26sp_csd%3Dd2lkZ2V0TmFtZT1zcF9hdGY%26psc%3D1',\n",
       " 'https://www.amazon.in/sspa/click?ie=UTF8&spc=MToyOTQ4NzQ2NzEwNDE4MDg3OjE3MTE1ODQ2ODE6c3BfYXRmOjMwMDE0OTU0MTg1ODkzMjo6MDo6&url=%2FMOCKING-BIRD-Beginners-Instruments-Accessories%2Fdp%2FB0CMXDNCDN%2Fref%3Dsr_1_4_sspa%3Fcrid%3D1570UROUGX04%26dib%3DeyJ2IjoiMSJ9.wTmZbjEKHhyWxxfGK0FysKpyq5ESDlKtrk8PpwqXEN31EvXlFfPGE1koeqdIZFsmefWaY2IVCymofQ8ZDT3I_UsbNN-BwJVicACOlEbOE8ycbJ1rcAq6FEum_02uKi1h-quQ4AnIQaFI-L8Lef3f9bzvduZg2FS5HzwlyG5AwBuboONoBDsCXTDOYVZD71Iw_cJ3Zm8GRdvPmgj9PBrHhv2XoxCkuhdJFIlREZeNDdL4sAOM5M_X5_eHc8Dv1Mlzh50BS5KEbWU0I449IIiiwagdPQR1PKZdqYDDwkL61K0.8dZ9fJa0OqTVv6WPIFPdktIDpdzVh5gDfMfDsO6KOyI%26dib_tag%3Dse%26keywords%3DGuitar%26qid%3D1711584681%26sprefix%3Dguit%252Caps%252C281%26sr%3D8-4-spons%26sp_csd%3Dd2lkZ2V0TmFtZT1zcF9hdGY%26psc%3D1',\n",
       " 'https://www.amazon.in/Juarez-Acoustic-Cutaway-038C-Strings/dp/B017NPCSLI/ref=sr_1_5?crid=1570UROUGX04&dib=eyJ2IjoiMSJ9.wTmZbjEKHhyWxxfGK0FysKpyq5ESDlKtrk8PpwqXEN31EvXlFfPGE1koeqdIZFsmefWaY2IVCymofQ8ZDT3I_UsbNN-BwJVicACOlEbOE8ycbJ1rcAq6FEum_02uKi1h-quQ4AnIQaFI-L8Lef3f9bzvduZg2FS5HzwlyG5AwBuboONoBDsCXTDOYVZD71Iw_cJ3Zm8GRdvPmgj9PBrHhv2XoxCkuhdJFIlREZeNDdL4sAOM5M_X5_eHc8Dv1Mlzh50BS5KEbWU0I449IIiiwagdPQR1PKZdqYDDwkL61K0.8dZ9fJa0OqTVv6WPIFPdktIDpdzVh5gDfMfDsO6KOyI&dib_tag=se&keywords=Guitar&qid=1711584681&sprefix=guit%2Caps%2C281&sr=8-5',\n",
       " 'https://www.amazon.in/Juarez-JRZ38C-ASH-Strings-Acoustic/dp/B072JTPNZC/ref=sr_1_6?crid=1570UROUGX04&dib=eyJ2IjoiMSJ9.wTmZbjEKHhyWxxfGK0FysKpyq5ESDlKtrk8PpwqXEN31EvXlFfPGE1koeqdIZFsmefWaY2IVCymofQ8ZDT3I_UsbNN-BwJVicACOlEbOE8ycbJ1rcAq6FEum_02uKi1h-quQ4AnIQaFI-L8Lef3f9bzvduZg2FS5HzwlyG5AwBuboONoBDsCXTDOYVZD71Iw_cJ3Zm8GRdvPmgj9PBrHhv2XoxCkuhdJFIlREZeNDdL4sAOM5M_X5_eHc8Dv1Mlzh50BS5KEbWU0I449IIiiwagdPQR1PKZdqYDDwkL61K0.8dZ9fJa0OqTVv6WPIFPdktIDpdzVh5gDfMfDsO6KOyI&dib_tag=se&keywords=Guitar&qid=1711584681&sprefix=guit%2Caps%2C281&sr=8-6',\n",
       " 'https://www.amazon.in/Intern-INT-38C-Acoustic-Guitar-Black/dp/B073B6TQQY/ref=sr_1_7?crid=1570UROUGX04&dib=eyJ2IjoiMSJ9.wTmZbjEKHhyWxxfGK0FysKpyq5ESDlKtrk8PpwqXEN31EvXlFfPGE1koeqdIZFsmefWaY2IVCymofQ8ZDT3I_UsbNN-BwJVicACOlEbOE8ycbJ1rcAq6FEum_02uKi1h-quQ4AnIQaFI-L8Lef3f9bzvduZg2FS5HzwlyG5AwBuboONoBDsCXTDOYVZD71Iw_cJ3Zm8GRdvPmgj9PBrHhv2XoxCkuhdJFIlREZeNDdL4sAOM5M_X5_eHc8Dv1Mlzh50BS5KEbWU0I449IIiiwagdPQR1PKZdqYDDwkL61K0.8dZ9fJa0OqTVv6WPIFPdktIDpdzVh5gDfMfDsO6KOyI&dib_tag=se&keywords=Guitar&qid=1711584681&sprefix=guit%2Caps%2C281&sr=8-7',\n",
       " 'https://www.amazon.in/sspa/click?ie=UTF8&spc=MTo0MTQzNjg2NDIxNTYzMDg3OjE3MTE1ODQ2ODE6c3Bfc2VhcmNoX3RoZW1hdGljOjIwMDk2NjA4NzUwNDk4OjowOjo&url=%2FKadence-Frontier-Acoustic-Guitar-Strings%2Fdp%2FB01GDZ46AA%2Fref%3Dsxin_15_pa_sp_search_thematic_sspa%3Fcontent-id%3Damzn1.sym.37bad8da-0499-4510-838e-af217f0a67c4%253Aamzn1.sym.37bad8da-0499-4510-838e-af217f0a67c4%26crid%3D1570UROUGX04%26cv_ct_cx%3DGuitar%26dib%3DeyJ2IjoiMSJ9.f06krrIGar2HIb1V6OVvyh7ZndNLZP3BGDmM56tYZmzkAH0y8QO2MUCguxY3vmZFKIlBcFKxY3EWEjcmw-aNJw.dgrVfRqgRhsqkMTQJn6bRSdgvLGSXmgNVBqwQS7KDwY%26dib_tag%3Dse%26keywords%3DGuitar%26pd_rd_i%3DB01GDZ46AA%26pd_rd_r%3Dc6beaeba-8c27-4e7c-983e-63b2ab2bf9ee%26pd_rd_w%3DIgQoF%26pd_rd_wg%3DOAfNn%26pf_rd_p%3D37bad8da-0499-4510-838e-af217f0a67c4%26pf_rd_r%3DCQ7347WMV73Y0S2XGJQH%26qid%3D1711584681%26sbo%3DRZvfv%252F%252FHxDF%252BO5021pAnSA%253D%253D%26sprefix%3Dguit%252Caps%252C281%26sr%3D1-1-ced4eeeb-b190-41d6-902a-1ecb3fb8b7c4-spons%26sp_csd%3Dd2lkZ2V0TmFtZT1zcF9zZWFyY2hfdGhlbWF0aWM%26psc%3D1',\n",
       " 'https://www.amazon.in/sspa/click?ie=UTF8&spc=MTo0MTQzNjg2NDIxNTYzMDg3OjE3MTE1ODQ2ODE6c3Bfc2VhcmNoX3RoZW1hdGljOjMwMDE0ODQ4MDgyNTAzMjo6MTo6&url=%2FIbanez-MD39C-NT-Cutaway-Acoustic-Polishing%2Fdp%2FB084BQJCP8%2Fref%3Dsxin_15_pa_sp_search_thematic_sspa%3Fcontent-id%3Damzn1.sym.37bad8da-0499-4510-838e-af217f0a67c4%253Aamzn1.sym.37bad8da-0499-4510-838e-af217f0a67c4%26crid%3D1570UROUGX04%26cv_ct_cx%3DGuitar%26dib%3DeyJ2IjoiMSJ9.f06krrIGar2HIb1V6OVvyh7ZndNLZP3BGDmM56tYZmzkAH0y8QO2MUCguxY3vmZFKIlBcFKxY3EWEjcmw-aNJw.dgrVfRqgRhsqkMTQJn6bRSdgvLGSXmgNVBqwQS7KDwY%26dib_tag%3Dse%26keywords%3DGuitar%26pd_rd_i%3DB084BQJCP8%26pd_rd_r%3Dc6beaeba-8c27-4e7c-983e-63b2ab2bf9ee%26pd_rd_w%3DIgQoF%26pd_rd_wg%3DOAfNn%26pf_rd_p%3D37bad8da-0499-4510-838e-af217f0a67c4%26pf_rd_r%3DCQ7347WMV73Y0S2XGJQH%26qid%3D1711584681%26sbo%3DRZvfv%252F%252FHxDF%252BO5021pAnSA%253D%253D%26sprefix%3Dguit%252Caps%252C281%26sr%3D1-2-ced4eeeb-b190-41d6-902a-1ecb3fb8b7c4-spons%26sp_csd%3Dd2lkZ2V0TmFtZT1zcF9zZWFyY2hfdGhlbWF0aWM%26psc%3D1',\n",
       " 'https://www.amazon.in/sspa/click?ie=UTF8&spc=MTo0MTQzNjg2NDIxNTYzMDg3OjE3MTE1ODQ2ODE6c3Bfc2VhcmNoX3RoZW1hdGljOjMwMDAxNTUzNzk3OTIzMjo6Mjo6&url=%2FKadence-Frontier-Acoustic-Guitar-Strings%2Fdp%2FB078GTJP5Y%2Fref%3Dsxin_15_pa_sp_search_thematic_sspa%3Fcontent-id%3Damzn1.sym.37bad8da-0499-4510-838e-af217f0a67c4%253Aamzn1.sym.37bad8da-0499-4510-838e-af217f0a67c4%26crid%3D1570UROUGX04%26cv_ct_cx%3DGuitar%26dib%3DeyJ2IjoiMSJ9.f06krrIGar2HIb1V6OVvyh7ZndNLZP3BGDmM56tYZmzkAH0y8QO2MUCguxY3vmZFKIlBcFKxY3EWEjcmw-aNJw.dgrVfRqgRhsqkMTQJn6bRSdgvLGSXmgNVBqwQS7KDwY%26dib_tag%3Dse%26keywords%3DGuitar%26pd_rd_i%3DB078GTJP5Y%26pd_rd_r%3Dc6beaeba-8c27-4e7c-983e-63b2ab2bf9ee%26pd_rd_w%3DIgQoF%26pd_rd_wg%3DOAfNn%26pf_rd_p%3D37bad8da-0499-4510-838e-af217f0a67c4%26pf_rd_r%3DCQ7347WMV73Y0S2XGJQH%26qid%3D1711584681%26sbo%3DRZvfv%252F%252FHxDF%252BO5021pAnSA%253D%253D%26sprefix%3Dguit%252Caps%252C281%26sr%3D1-3-ced4eeeb-b190-41d6-902a-1ecb3fb8b7c4-spons%26sp_csd%3Dd2lkZ2V0TmFtZT1zcF9zZWFyY2hfdGhlbWF0aWM%26psc%3D1',\n",
       " 'https://www.amazon.in/sspa/click?ie=UTF8&spc=MTo0MTQzNjg2NDIxNTYzMDg3OjE3MTE1ODQ2ODE6c3Bfc2VhcmNoX3RoZW1hdGljOjIwMDU3MTkzMDU2MjA0OjozOjo&url=%2FKadence-Slowhand-Premium-Acoustic-Instrument%2Fdp%2FB077SZ667X%2Fref%3Dsxin_15_pa_sp_search_thematic_sspa%3Fcontent-id%3Damzn1.sym.37bad8da-0499-4510-838e-af217f0a67c4%253Aamzn1.sym.37bad8da-0499-4510-838e-af217f0a67c4%26crid%3D1570UROUGX04%26cv_ct_cx%3DGuitar%26dib%3DeyJ2IjoiMSJ9.f06krrIGar2HIb1V6OVvyh7ZndNLZP3BGDmM56tYZmzkAH0y8QO2MUCguxY3vmZFKIlBcFKxY3EWEjcmw-aNJw.dgrVfRqgRhsqkMTQJn6bRSdgvLGSXmgNVBqwQS7KDwY%26dib_tag%3Dse%26keywords%3DGuitar%26pd_rd_i%3DB077SZ667X%26pd_rd_r%3Dc6beaeba-8c27-4e7c-983e-63b2ab2bf9ee%26pd_rd_w%3DIgQoF%26pd_rd_wg%3DOAfNn%26pf_rd_p%3D37bad8da-0499-4510-838e-af217f0a67c4%26pf_rd_r%3DCQ7347WMV73Y0S2XGJQH%26qid%3D1711584681%26sbo%3DRZvfv%252F%252FHxDF%252BO5021pAnSA%253D%253D%26sprefix%3Dguit%252Caps%252C281%26sr%3D1-4-ced4eeeb-b190-41d6-902a-1ecb3fb8b7c4-spons%26sp_csd%3Dd2lkZ2V0TmFtZT1zcF9zZWFyY2hfdGhlbWF0aWM%26psc%3D1',\n",
       " 'https://www.amazon.in/sspa/click?ie=UTF8&spc=MTo0MTQzNjg2NDIxNTYzMDg3OjE3MTE1ODQ2ODE6c3Bfc2VhcmNoX3RoZW1hdGljOjMwMDE1MTIzNjcwODQzMjo6NDo6&url=%2FJu%25C3%25A2rez-JRZ38C-WH-Strings-Acoustic%2Fdp%2FB072MFK4L6%2Fref%3Dsxin_15_pa_sp_search_thematic_sspa%3Fcontent-id%3Damzn1.sym.37bad8da-0499-4510-838e-af217f0a67c4%253Aamzn1.sym.37bad8da-0499-4510-838e-af217f0a67c4%26crid%3D1570UROUGX04%26cv_ct_cx%3DGuitar%26dib%3DeyJ2IjoiMSJ9.f06krrIGar2HIb1V6OVvyh7ZndNLZP3BGDmM56tYZmzkAH0y8QO2MUCguxY3vmZFKIlBcFKxY3EWEjcmw-aNJw.dgrVfRqgRhsqkMTQJn6bRSdgvLGSXmgNVBqwQS7KDwY%26dib_tag%3Dse%26keywords%3DGuitar%26pd_rd_i%3DB072MFK4L6%26pd_rd_r%3Dc6beaeba-8c27-4e7c-983e-63b2ab2bf9ee%26pd_rd_w%3DIgQoF%26pd_rd_wg%3DOAfNn%26pf_rd_p%3D37bad8da-0499-4510-838e-af217f0a67c4%26pf_rd_r%3DCQ7347WMV73Y0S2XGJQH%26qid%3D1711584681%26sbo%3DRZvfv%252F%252FHxDF%252BO5021pAnSA%253D%253D%26sprefix%3Dguit%252Caps%252C281%26sr%3D1-5-ced4eeeb-b190-41d6-902a-1ecb3fb8b7c4-spons%26sp_csd%3Dd2lkZ2V0TmFtZT1zcF9zZWFyY2hfdGhlbWF0aWM%26psc%3D1',\n",
       " 'https://www.amazon.in/Ju%C3%A2rez-JRZ38C-WH-Strings-Acoustic/dp/B072MFK4L6/ref=sr_1_8?crid=1570UROUGX04&dib=eyJ2IjoiMSJ9.wTmZbjEKHhyWxxfGK0FysKpyq5ESDlKtrk8PpwqXEN31EvXlFfPGE1koeqdIZFsmefWaY2IVCymofQ8ZDT3I_UsbNN-BwJVicACOlEbOE8ycbJ1rcAq6FEum_02uKi1h-quQ4AnIQaFI-L8Lef3f9bzvduZg2FS5HzwlyG5AwBuboONoBDsCXTDOYVZD71Iw_cJ3Zm8GRdvPmgj9PBrHhv2XoxCkuhdJFIlREZeNDdL4sAOM5M_X5_eHc8Dv1Mlzh50BS5KEbWU0I449IIiiwagdPQR1PKZdqYDDwkL61K0.8dZ9fJa0OqTVv6WPIFPdktIDpdzVh5gDfMfDsO6KOyI&dib_tag=se&keywords=Guitar&qid=1711584681&sprefix=guit%2Caps%2C281&sr=8-8',\n",
       " 'https://www.amazon.in/Intern-INT-38C-Acoustic-Guitar-Sunburst/dp/B073B5MJRM/ref=sr_1_9?crid=1570UROUGX04&dib=eyJ2IjoiMSJ9.wTmZbjEKHhyWxxfGK0FysKpyq5ESDlKtrk8PpwqXEN31EvXlFfPGE1koeqdIZFsmefWaY2IVCymofQ8ZDT3I_UsbNN-BwJVicACOlEbOE8ycbJ1rcAq6FEum_02uKi1h-quQ4AnIQaFI-L8Lef3f9bzvduZg2FS5HzwlyG5AwBuboONoBDsCXTDOYVZD71Iw_cJ3Zm8GRdvPmgj9PBrHhv2XoxCkuhdJFIlREZeNDdL4sAOM5M_X5_eHc8Dv1Mlzh50BS5KEbWU0I449IIiiwagdPQR1PKZdqYDDwkL61K0.8dZ9fJa0OqTVv6WPIFPdktIDpdzVh5gDfMfDsO6KOyI&dib_tag=se&keywords=Guitar&qid=1711584681&sprefix=guit%2Caps%2C281&sr=8-9',\n",
       " 'https://www.amazon.in/Yamaha-F280-Acoustic-Guitar-Natural/dp/B08317Y4VP/ref=sr_1_10?crid=1570UROUGX04&dib=eyJ2IjoiMSJ9.wTmZbjEKHhyWxxfGK0FysKpyq5ESDlKtrk8PpwqXEN31EvXlFfPGE1koeqdIZFsmefWaY2IVCymofQ8ZDT3I_UsbNN-BwJVicACOlEbOE8ycbJ1rcAq6FEum_02uKi1h-quQ4AnIQaFI-L8Lef3f9bzvduZg2FS5HzwlyG5AwBuboONoBDsCXTDOYVZD71Iw_cJ3Zm8GRdvPmgj9PBrHhv2XoxCkuhdJFIlREZeNDdL4sAOM5M_X5_eHc8Dv1Mlzh50BS5KEbWU0I449IIiiwagdPQR1PKZdqYDDwkL61K0.8dZ9fJa0OqTVv6WPIFPdktIDpdzVh5gDfMfDsO6KOyI&dib_tag=se&keywords=Guitar&qid=1711584681&sprefix=guit%2Caps%2C281&sr=8-10',\n",
       " 'https://www.amazon.in/JUAREZ-JRZ38C-Acoustic-Sunburst-Strings/dp/B01FYYTDS6/ref=sr_1_11?crid=1570UROUGX04&dib=eyJ2IjoiMSJ9.wTmZbjEKHhyWxxfGK0FysKpyq5ESDlKtrk8PpwqXEN31EvXlFfPGE1koeqdIZFsmefWaY2IVCymofQ8ZDT3I_UsbNN-BwJVicACOlEbOE8ycbJ1rcAq6FEum_02uKi1h-quQ4AnIQaFI-L8Lef3f9bzvduZg2FS5HzwlyG5AwBuboONoBDsCXTDOYVZD71Iw_cJ3Zm8GRdvPmgj9PBrHhv2XoxCkuhdJFIlREZeNDdL4sAOM5M_X5_eHc8Dv1Mlzh50BS5KEbWU0I449IIiiwagdPQR1PKZdqYDDwkL61K0.8dZ9fJa0OqTVv6WPIFPdktIDpdzVh5gDfMfDsO6KOyI&dib_tag=se&keywords=Guitar&qid=1711584681&sprefix=guit%2Caps%2C281&sr=8-11',\n",
       " 'https://www.amazon.in/JUAREZ-JRZ38C-Acoustic-Sunburst-Strings/dp/B01FYYTDTU/ref=sr_1_12?crid=1570UROUGX04&dib=eyJ2IjoiMSJ9.wTmZbjEKHhyWxxfGK0FysKpyq5ESDlKtrk8PpwqXEN31EvXlFfPGE1koeqdIZFsmefWaY2IVCymofQ8ZDT3I_UsbNN-BwJVicACOlEbOE8ycbJ1rcAq6FEum_02uKi1h-quQ4AnIQaFI-L8Lef3f9bzvduZg2FS5HzwlyG5AwBuboONoBDsCXTDOYVZD71Iw_cJ3Zm8GRdvPmgj9PBrHhv2XoxCkuhdJFIlREZeNDdL4sAOM5M_X5_eHc8Dv1Mlzh50BS5KEbWU0I449IIiiwagdPQR1PKZdqYDDwkL61K0.8dZ9fJa0OqTVv6WPIFPdktIDpdzVh5gDfMfDsO6KOyI&dib_tag=se&keywords=Guitar&qid=1711584681&sprefix=guit%2Caps%2C281&sr=8-12',\n",
       " 'https://www.amazon.in/Henrix-Acoustic-Guitar-Die-cast-Dual-action/dp/B07VNDW6QF/ref=sr_1_13?crid=1570UROUGX04&dib=eyJ2IjoiMSJ9.wTmZbjEKHhyWxxfGK0FysKpyq5ESDlKtrk8PpwqXEN31EvXlFfPGE1koeqdIZFsmefWaY2IVCymofQ8ZDT3I_UsbNN-BwJVicACOlEbOE8ycbJ1rcAq6FEum_02uKi1h-quQ4AnIQaFI-L8Lef3f9bzvduZg2FS5HzwlyG5AwBuboONoBDsCXTDOYVZD71Iw_cJ3Zm8GRdvPmgj9PBrHhv2XoxCkuhdJFIlREZeNDdL4sAOM5M_X5_eHc8Dv1Mlzh50BS5KEbWU0I449IIiiwagdPQR1PKZdqYDDwkL61K0.8dZ9fJa0OqTVv6WPIFPdktIDpdzVh5gDfMfDsO6KOyI&dib_tag=se&keywords=Guitar&qid=1711584681&sprefix=guit%2Caps%2C281&sr=8-13',\n",
       " 'https://aax-eu.amazon.in/x/c/RCtd4yrswOEywXbh28lM9gkAAAGOgmWcYgMAAAH2AQBvbm9fdHhuX2JpZDIgICBvbm9fdHhuX2ltcDEgICDY4I2S/https://www.amazon.in/Radhe-Flutes-Natural-Bansuri-Middle/dp/B07T35ZBHB/ref=sxin_23_sbv_search_btf?content-id=amzn1.sym.4fe35c1d-da6a-41a4-967c-7a2315a8b22e%3Aamzn1.sym.4fe35c1d-da6a-41a4-967c-7a2315a8b22e&crid=1570UROUGX04&cv_ct_cx=Guitar&dib=eyJ2IjoiMSJ9.RkxRkdLFro_AAXvr06nUqw.bS6l4I5Nq7yqV0r3jGqD-6_L1lrP_Si37forc_YZT_E&dib_tag=se&keywords=Guitar&pd_rd_i=B07T35ZBHB&pd_rd_r=c6beaeba-8c27-4e7c-983e-63b2ab2bf9ee&pd_rd_w=KYR7W&pd_rd_wg=OAfNn&pf_rd_p=4fe35c1d-da6a-41a4-967c-7a2315a8b22e&pf_rd_r=CQ7347WMV73Y0S2XGJQH&qid=1711584681&sbo=RZvfv%2F%2FHxDF%2BO5021pAnSA%3D%3D&sprefix=guit%2Caps%2C281&sr=1-1-b614a050-8d70-4320-9c19-cc457ab2a351',\n",
       " 'https://www.amazon.in/Ibanez-GRGR221PA-Electric-Guitar-Burst/dp/B08SHLHBGT/ref=sr_1_14?crid=1570UROUGX04&dib=eyJ2IjoiMSJ9.wTmZbjEKHhyWxxfGK0FysKpyq5ESDlKtrk8PpwqXEN31EvXlFfPGE1koeqdIZFsmefWaY2IVCymofQ8ZDT3I_UsbNN-BwJVicACOlEbOE8ycbJ1rcAq6FEum_02uKi1h-quQ4AnIQaFI-L8Lef3f9bzvduZg2FS5HzwlyG5AwBuboONoBDsCXTDOYVZD71Iw_cJ3Zm8GRdvPmgj9PBrHhv2XoxCkuhdJFIlREZeNDdL4sAOM5M_X5_eHc8Dv1Mlzh50BS5KEbWU0I449IIiiwagdPQR1PKZdqYDDwkL61K0.8dZ9fJa0OqTVv6WPIFPdktIDpdzVh5gDfMfDsO6KOyI&dib_tag=se&keywords=Guitar&qid=1711584681&sprefix=guit%2Caps%2C281&sr=8-14',\n",
       " 'https://www.amazon.in/Juarez-JRZ-ST01-6-String-Electric-Without/dp/B01FYZSOGM/ref=sr_1_15?crid=1570UROUGX04&dib=eyJ2IjoiMSJ9.wTmZbjEKHhyWxxfGK0FysKpyq5ESDlKtrk8PpwqXEN31EvXlFfPGE1koeqdIZFsmefWaY2IVCymofQ8ZDT3I_UsbNN-BwJVicACOlEbOE8ycbJ1rcAq6FEum_02uKi1h-quQ4AnIQaFI-L8Lef3f9bzvduZg2FS5HzwlyG5AwBuboONoBDsCXTDOYVZD71Iw_cJ3Zm8GRdvPmgj9PBrHhv2XoxCkuhdJFIlREZeNDdL4sAOM5M_X5_eHc8Dv1Mlzh50BS5KEbWU0I449IIiiwagdPQR1PKZdqYDDwkL61K0.8dZ9fJa0OqTVv6WPIFPdktIDpdzVh5gDfMfDsO6KOyI&dib_tag=se&keywords=Guitar&qid=1711584681&sprefix=guit%2Caps%2C281&sr=8-15',\n",
       " 'https://www.amazon.in/Yamaha-Acoustic-Guitar-Tobacco-Sunburst/dp/B08VXR74Q2/ref=sr_1_16?crid=1570UROUGX04&dib=eyJ2IjoiMSJ9.wTmZbjEKHhyWxxfGK0FysKpyq5ESDlKtrk8PpwqXEN31EvXlFfPGE1koeqdIZFsmefWaY2IVCymofQ8ZDT3I_UsbNN-BwJVicACOlEbOE8ycbJ1rcAq6FEum_02uKi1h-quQ4AnIQaFI-L8Lef3f9bzvduZg2FS5HzwlyG5AwBuboONoBDsCXTDOYVZD71Iw_cJ3Zm8GRdvPmgj9PBrHhv2XoxCkuhdJFIlREZeNDdL4sAOM5M_X5_eHc8Dv1Mlzh50BS5KEbWU0I449IIiiwagdPQR1PKZdqYDDwkL61K0.8dZ9fJa0OqTVv6WPIFPdktIDpdzVh5gDfMfDsO6KOyI&dib_tag=se&keywords=Guitar&qid=1711584681&sprefix=guit%2Caps%2C281&sr=8-16',\n",
       " 'https://www.amazon.in/Ultimate-Concert-Cutaway-Acoustic-Bajaao/dp/B08WHWKKV5/ref=sr_1_17?crid=1570UROUGX04&dib=eyJ2IjoiMSJ9.wTmZbjEKHhyWxxfGK0FysKpyq5ESDlKtrk8PpwqXEN31EvXlFfPGE1koeqdIZFsmefWaY2IVCymofQ8ZDT3I_UsbNN-BwJVicACOlEbOE8ycbJ1rcAq6FEum_02uKi1h-quQ4AnIQaFI-L8Lef3f9bzvduZg2FS5HzwlyG5AwBuboONoBDsCXTDOYVZD71Iw_cJ3Zm8GRdvPmgj9PBrHhv2XoxCkuhdJFIlREZeNDdL4sAOM5M_X5_eHc8Dv1Mlzh50BS5KEbWU0I449IIiiwagdPQR1PKZdqYDDwkL61K0.8dZ9fJa0OqTVv6WPIFPdktIDpdzVh5gDfMfDsO6KOyI&dib_tag=se&keywords=Guitar&qid=1711584681&sprefix=guit%2Caps%2C281&sr=8-17',\n",
       " 'https://www.amazon.in/Kadence-Frontier-Acoustic-Guitar-Strings/dp/B01CJJG328/ref=sr_1_18?crid=1570UROUGX04&dib=eyJ2IjoiMSJ9.wTmZbjEKHhyWxxfGK0FysKpyq5ESDlKtrk8PpwqXEN31EvXlFfPGE1koeqdIZFsmefWaY2IVCymofQ8ZDT3I_UsbNN-BwJVicACOlEbOE8ycbJ1rcAq6FEum_02uKi1h-quQ4AnIQaFI-L8Lef3f9bzvduZg2FS5HzwlyG5AwBuboONoBDsCXTDOYVZD71Iw_cJ3Zm8GRdvPmgj9PBrHhv2XoxCkuhdJFIlREZeNDdL4sAOM5M_X5_eHc8Dv1Mlzh50BS5KEbWU0I449IIiiwagdPQR1PKZdqYDDwkL61K0.8dZ9fJa0OqTVv6WPIFPdktIDpdzVh5gDfMfDsO6KOyI&dib_tag=se&keywords=Guitar&qid=1711584681&sprefix=guit%2Caps%2C281&sr=8-18',\n",
       " 'https://www.amazon.in/Fender-CD-60S-Dreadnought-Acoustic-Guitar/dp/B07FYBLG93/ref=sr_1_19?crid=1570UROUGX04&dib=eyJ2IjoiMSJ9.wTmZbjEKHhyWxxfGK0FysKpyq5ESDlKtrk8PpwqXEN31EvXlFfPGE1koeqdIZFsmefWaY2IVCymofQ8ZDT3I_UsbNN-BwJVicACOlEbOE8ycbJ1rcAq6FEum_02uKi1h-quQ4AnIQaFI-L8Lef3f9bzvduZg2FS5HzwlyG5AwBuboONoBDsCXTDOYVZD71Iw_cJ3Zm8GRdvPmgj9PBrHhv2XoxCkuhdJFIlREZeNDdL4sAOM5M_X5_eHc8Dv1Mlzh50BS5KEbWU0I449IIiiwagdPQR1PKZdqYDDwkL61K0.8dZ9fJa0OqTVv6WPIFPdktIDpdzVh5gDfMfDsO6KOyI&dib_tag=se&keywords=Guitar&qid=1711584681&sprefix=guit%2Caps%2C281&sr=8-19',\n",
       " 'https://www.amazon.in/Juarez-Acoustic-Guitar-Cutaway-Strings/dp/B076QHZ4HZ/ref=sr_1_20?crid=1570UROUGX04&dib=eyJ2IjoiMSJ9.wTmZbjEKHhyWxxfGK0FysKpyq5ESDlKtrk8PpwqXEN31EvXlFfPGE1koeqdIZFsmefWaY2IVCymofQ8ZDT3I_UsbNN-BwJVicACOlEbOE8ycbJ1rcAq6FEum_02uKi1h-quQ4AnIQaFI-L8Lef3f9bzvduZg2FS5HzwlyG5AwBuboONoBDsCXTDOYVZD71Iw_cJ3Zm8GRdvPmgj9PBrHhv2XoxCkuhdJFIlREZeNDdL4sAOM5M_X5_eHc8Dv1Mlzh50BS5KEbWU0I449IIiiwagdPQR1PKZdqYDDwkL61K0.8dZ9fJa0OqTVv6WPIFPdktIDpdzVh5gDfMfDsO6KOyI&dib_tag=se&keywords=Guitar&qid=1711584681&sprefix=guit%2Caps%2C281&sr=8-20',\n",
       " 'https://www.amazon.in/sspa/click?ie=UTF8&spc=MToyOTQ4NzQ2NzEwNDE4MDg3OjE3MTE1ODQ2ODE6c3BfbXRmOjMwMDE0MzEwNjQ5NjAzMjo6MDo6&url=%2FMOCKING-BIRD-Beginners-instrument-professional%2Fdp%2FB0CR9XH4QH%2Fref%3Dsr_1_21_sspa%3Fcrid%3D1570UROUGX04%26dib%3DeyJ2IjoiMSJ9.wTmZbjEKHhyWxxfGK0FysKpyq5ESDlKtrk8PpwqXEN31EvXlFfPGE1koeqdIZFsmefWaY2IVCymofQ8ZDT3I_UsbNN-BwJVicACOlEbOE8ycbJ1rcAq6FEum_02uKi1h-quQ4AnIQaFI-L8Lef3f9bzvduZg2FS5HzwlyG5AwBuboONoBDsCXTDOYVZD71Iw_cJ3Zm8GRdvPmgj9PBrHhv2XoxCkuhdJFIlREZeNDdL4sAOM5M_X5_eHc8Dv1Mlzh50BS5KEbWU0I449IIiiwagdPQR1PKZdqYDDwkL61K0.8dZ9fJa0OqTVv6WPIFPdktIDpdzVh5gDfMfDsO6KOyI%26dib_tag%3Dse%26keywords%3DGuitar%26qid%3D1711584681%26sprefix%3Dguit%252Caps%252C281%26sr%3D8-21-spons%26sp_csd%3Dd2lkZ2V0TmFtZT1zcF9tdGY%26psc%3D1',\n",
       " 'https://www.amazon.in/sspa/click?ie=UTF8&spc=MToyOTQ4NzQ2NzEwNDE4MDg3OjE3MTE1ODQ2ODE6c3BfbXRmOjMwMDE1MTIzNjcwODQzMjo6MDo6&url=%2FJu%25C3%25A2rez-JRZ38C-WH-Strings-Acoustic%2Fdp%2FB072MFK4L6%2Fref%3Dsr_1_22_sspa%3Fcrid%3D1570UROUGX04%26dib%3DeyJ2IjoiMSJ9.wTmZbjEKHhyWxxfGK0FysKpyq5ESDlKtrk8PpwqXEN31EvXlFfPGE1koeqdIZFsmefWaY2IVCymofQ8ZDT3I_UsbNN-BwJVicACOlEbOE8ycbJ1rcAq6FEum_02uKi1h-quQ4AnIQaFI-L8Lef3f9bzvduZg2FS5HzwlyG5AwBuboONoBDsCXTDOYVZD71Iw_cJ3Zm8GRdvPmgj9PBrHhv2XoxCkuhdJFIlREZeNDdL4sAOM5M_X5_eHc8Dv1Mlzh50BS5KEbWU0I449IIiiwagdPQR1PKZdqYDDwkL61K0.8dZ9fJa0OqTVv6WPIFPdktIDpdzVh5gDfMfDsO6KOyI%26dib_tag%3Dse%26keywords%3DGuitar%26qid%3D1711584681%26sprefix%3Dguit%252Caps%252C281%26sr%3D8-22-spons%26sp_csd%3Dd2lkZ2V0TmFtZT1zcF9tdGY%26psc%3D1',\n",
       " 'https://www.amazon.in/sspa/click?ie=UTF8&spc=MToyOTQ4NzQ2NzEwNDE4MDg3OjE3MTE1ODQ2ODE6c3BfbXRmOjMwMDExMzg5MzQwMjEzMjo6MDo6&url=%2FDEVICE-URBAN-INFOTECH-Beginners-Guitarists%2Fdp%2FB0CR7DPXQN%2Fref%3Dsr_1_23_sspa%3Fcrid%3D1570UROUGX04%26dib%3DeyJ2IjoiMSJ9.wTmZbjEKHhyWxxfGK0FysKpyq5ESDlKtrk8PpwqXEN31EvXlFfPGE1koeqdIZFsmefWaY2IVCymofQ8ZDT3I_UsbNN-BwJVicACOlEbOE8ycbJ1rcAq6FEum_02uKi1h-quQ4AnIQaFI-L8Lef3f9bzvduZg2FS5HzwlyG5AwBuboONoBDsCXTDOYVZD71Iw_cJ3Zm8GRdvPmgj9PBrHhv2XoxCkuhdJFIlREZeNDdL4sAOM5M_X5_eHc8Dv1Mlzh50BS5KEbWU0I449IIiiwagdPQR1PKZdqYDDwkL61K0.8dZ9fJa0OqTVv6WPIFPdktIDpdzVh5gDfMfDsO6KOyI%26dib_tag%3Dse%26keywords%3DGuitar%26qid%3D1711584681%26sprefix%3Dguit%252Caps%252C281%26sr%3D8-23-spons%26sp_csd%3Dd2lkZ2V0TmFtZT1zcF9tdGY%26psc%3D1',\n",
       " 'https://www.amazon.in/sspa/click?ie=UTF8&spc=MToyOTQ4NzQ2NzEwNDE4MDg3OjE3MTE1ODQ2ODE6c3BfbXRmOjIwMDU3MTkzMDU2MjA0OjowOjo&url=%2FKadence-Slowhand-Premium-Acoustic-Instrument%2Fdp%2FB077SZ667X%2Fref%3Dsr_1_24_sspa%3Fcrid%3D1570UROUGX04%26dib%3DeyJ2IjoiMSJ9.wTmZbjEKHhyWxxfGK0FysKpyq5ESDlKtrk8PpwqXEN31EvXlFfPGE1koeqdIZFsmefWaY2IVCymofQ8ZDT3I_UsbNN-BwJVicACOlEbOE8ycbJ1rcAq6FEum_02uKi1h-quQ4AnIQaFI-L8Lef3f9bzvduZg2FS5HzwlyG5AwBuboONoBDsCXTDOYVZD71Iw_cJ3Zm8GRdvPmgj9PBrHhv2XoxCkuhdJFIlREZeNDdL4sAOM5M_X5_eHc8Dv1Mlzh50BS5KEbWU0I449IIiiwagdPQR1PKZdqYDDwkL61K0.8dZ9fJa0OqTVv6WPIFPdktIDpdzVh5gDfMfDsO6KOyI%26dib_tag%3Dse%26keywords%3DGuitar%26qid%3D1711584681%26sprefix%3Dguit%252Caps%252C281%26sr%3D8-24-spons%26sp_csd%3Dd2lkZ2V0TmFtZT1zcF9tdGY%26psc%3D1',\n",
       " 'https://www.amazon.in/Cort-SFX-MEM-Electro-Acoustic-Guitar/dp/B0915ZCZWK/ref=sr_1_25?crid=1570UROUGX04&dib=eyJ2IjoiMSJ9.wTmZbjEKHhyWxxfGK0FysKpyq5ESDlKtrk8PpwqXEN31EvXlFfPGE1koeqdIZFsmefWaY2IVCymofQ8ZDT3I_UsbNN-BwJVicACOlEbOE8ycbJ1rcAq6FEum_02uKi1h-quQ4AnIQaFI-L8Lef3f9bzvduZg2FS5HzwlyG5AwBuboONoBDsCXTDOYVZD71Iw_cJ3Zm8GRdvPmgj9PBrHhv2XoxCkuhdJFIlREZeNDdL4sAOM5M_X5_eHc8Dv1Mlzh50BS5KEbWU0I449IIiiwagdPQR1PKZdqYDDwkL61K0.8dZ9fJa0OqTVv6WPIFPdktIDpdzVh5gDfMfDsO6KOyI&dib_tag=se&keywords=Guitar&qid=1711584681&sprefix=guit%2Caps%2C281&sr=8-25',\n",
       " 'https://www.amazon.in/Acoustic-Plectrums-Beginner-Learners-configuration/dp/B0B4SSB8BJ/ref=sr_1_26?crid=1570UROUGX04&dib=eyJ2IjoiMSJ9.wTmZbjEKHhyWxxfGK0FysKpyq5ESDlKtrk8PpwqXEN31EvXlFfPGE1koeqdIZFsmefWaY2IVCymofQ8ZDT3I_UsbNN-BwJVicACOlEbOE8ycbJ1rcAq6FEum_02uKi1h-quQ4AnIQaFI-L8Lef3f9bzvduZg2FS5HzwlyG5AwBuboONoBDsCXTDOYVZD71Iw_cJ3Zm8GRdvPmgj9PBrHhv2XoxCkuhdJFIlREZeNDdL4sAOM5M_X5_eHc8Dv1Mlzh50BS5KEbWU0I449IIiiwagdPQR1PKZdqYDDwkL61K0.8dZ9fJa0OqTVv6WPIFPdktIDpdzVh5gDfMfDsO6KOyI&dib_tag=se&keywords=Guitar&qid=1711584681&sprefix=guit%2Caps%2C281&sr=8-26',\n",
       " 'https://www.amazon.in/Intern-INT-38C-Acoustic-Guitar-Kit/dp/B073B6TF31/ref=sr_1_27?crid=1570UROUGX04&dib=eyJ2IjoiMSJ9.wTmZbjEKHhyWxxfGK0FysKpyq5ESDlKtrk8PpwqXEN31EvXlFfPGE1koeqdIZFsmefWaY2IVCymofQ8ZDT3I_UsbNN-BwJVicACOlEbOE8ycbJ1rcAq6FEum_02uKi1h-quQ4AnIQaFI-L8Lef3f9bzvduZg2FS5HzwlyG5AwBuboONoBDsCXTDOYVZD71Iw_cJ3Zm8GRdvPmgj9PBrHhv2XoxCkuhdJFIlREZeNDdL4sAOM5M_X5_eHc8Dv1Mlzh50BS5KEbWU0I449IIiiwagdPQR1PKZdqYDDwkL61K0.8dZ9fJa0OqTVv6WPIFPdktIDpdzVh5gDfMfDsO6KOyI&dib_tag=se&keywords=Guitar&qid=1711584681&sprefix=guit%2Caps%2C281&sr=8-27',\n",
       " 'https://www.amazon.in/BLUEBERRY-B-38C-Acoustic-Guitar-Strings/dp/B0CNLKXVL5/ref=sr_1_28?crid=1570UROUGX04&dib=eyJ2IjoiMSJ9.wTmZbjEKHhyWxxfGK0FysKpyq5ESDlKtrk8PpwqXEN31EvXlFfPGE1koeqdIZFsmefWaY2IVCymofQ8ZDT3I_UsbNN-BwJVicACOlEbOE8ycbJ1rcAq6FEum_02uKi1h-quQ4AnIQaFI-L8Lef3f9bzvduZg2FS5HzwlyG5AwBuboONoBDsCXTDOYVZD71Iw_cJ3Zm8GRdvPmgj9PBrHhv2XoxCkuhdJFIlREZeNDdL4sAOM5M_X5_eHc8Dv1Mlzh50BS5KEbWU0I449IIiiwagdPQR1PKZdqYDDwkL61K0.8dZ9fJa0OqTVv6WPIFPdktIDpdzVh5gDfMfDsO6KOyI&dib_tag=se&keywords=Guitar&qid=1711584681&sprefix=guit%2Caps%2C281&sr=8-28',\n",
       " 'https://www.amazon.in/Kadence-Frontier-Acoustic-Guitar-Strings/dp/B078GTJP5Y/ref=sr_1_29?crid=1570UROUGX04&dib=eyJ2IjoiMSJ9.wTmZbjEKHhyWxxfGK0FysKpyq5ESDlKtrk8PpwqXEN31EvXlFfPGE1koeqdIZFsmefWaY2IVCymofQ8ZDT3I_UsbNN-BwJVicACOlEbOE8ycbJ1rcAq6FEum_02uKi1h-quQ4AnIQaFI-L8Lef3f9bzvduZg2FS5HzwlyG5AwBuboONoBDsCXTDOYVZD71Iw_cJ3Zm8GRdvPmgj9PBrHhv2XoxCkuhdJFIlREZeNDdL4sAOM5M_X5_eHc8Dv1Mlzh50BS5KEbWU0I449IIiiwagdPQR1PKZdqYDDwkL61K0.8dZ9fJa0OqTVv6WPIFPdktIDpdzVh5gDfMfDsO6KOyI&dib_tag=se&keywords=Guitar&qid=1711584681&sprefix=guit%2Caps%2C281&sr=8-29',\n",
       " 'https://www.amazon.in/Yamaha-Classical-Guitar-C40-02/dp/B003UGCUFE/ref=sr_1_30?crid=1570UROUGX04&dib=eyJ2IjoiMSJ9.wTmZbjEKHhyWxxfGK0FysKpyq5ESDlKtrk8PpwqXEN31EvXlFfPGE1koeqdIZFsmefWaY2IVCymofQ8ZDT3I_UsbNN-BwJVicACOlEbOE8ycbJ1rcAq6FEum_02uKi1h-quQ4AnIQaFI-L8Lef3f9bzvduZg2FS5HzwlyG5AwBuboONoBDsCXTDOYVZD71Iw_cJ3Zm8GRdvPmgj9PBrHhv2XoxCkuhdJFIlREZeNDdL4sAOM5M_X5_eHc8Dv1Mlzh50BS5KEbWU0I449IIiiwagdPQR1PKZdqYDDwkL61K0.8dZ9fJa0OqTVv6WPIFPdktIDpdzVh5gDfMfDsO6KOyI&dib_tag=se&keywords=Guitar&qid=1711584681&sprefix=guit%2Caps%2C281&sr=8-30',\n",
       " 'https://www.amazon.in/JUAREZ-JRZ38C-TBLSNA/dp/B0BCQKQ6CS/ref=sr_1_31?crid=1570UROUGX04&dib=eyJ2IjoiMSJ9.wTmZbjEKHhyWxxfGK0FysKpyq5ESDlKtrk8PpwqXEN31EvXlFfPGE1koeqdIZFsmefWaY2IVCymofQ8ZDT3I_UsbNN-BwJVicACOlEbOE8ycbJ1rcAq6FEum_02uKi1h-quQ4AnIQaFI-L8Lef3f9bzvduZg2FS5HzwlyG5AwBuboONoBDsCXTDOYVZD71Iw_cJ3Zm8GRdvPmgj9PBrHhv2XoxCkuhdJFIlREZeNDdL4sAOM5M_X5_eHc8Dv1Mlzh50BS5KEbWU0I449IIiiwagdPQR1PKZdqYDDwkL61K0.8dZ9fJa0OqTVv6WPIFPdktIDpdzVh5gDfMfDsO6KOyI&dib_tag=se&keywords=Guitar&qid=1711584681&sprefix=guit%2Caps%2C281&sr=8-31',\n",
       " 'https://www.amazon.in/Kadence-Acoustica-Acoustic-Guitar-Zebra/dp/B07KXNKLJ2/ref=sr_1_32?crid=1570UROUGX04&dib=eyJ2IjoiMSJ9.wTmZbjEKHhyWxxfGK0FysKpyq5ESDlKtrk8PpwqXEN31EvXlFfPGE1koeqdIZFsmefWaY2IVCymofQ8ZDT3I_UsbNN-BwJVicACOlEbOE8ycbJ1rcAq6FEum_02uKi1h-quQ4AnIQaFI-L8Lef3f9bzvduZg2FS5HzwlyG5AwBuboONoBDsCXTDOYVZD71Iw_cJ3Zm8GRdvPmgj9PBrHhv2XoxCkuhdJFIlREZeNDdL4sAOM5M_X5_eHc8Dv1Mlzh50BS5KEbWU0I449IIiiwagdPQR1PKZdqYDDwkL61K0.8dZ9fJa0OqTVv6WPIFPdktIDpdzVh5gDfMfDsO6KOyI&dib_tag=se&keywords=Guitar&qid=1711584681&sprefix=guit%2Caps%2C281&sr=8-32',\n",
       " 'https://www.amazon.in/PS-Signature-41inch-Acoustic-Strings/dp/B0CGXL3VKG/ref=sr_1_33?crid=1570UROUGX04&dib=eyJ2IjoiMSJ9.wTmZbjEKHhyWxxfGK0FysKpyq5ESDlKtrk8PpwqXEN31EvXlFfPGE1koeqdIZFsmefWaY2IVCymofQ8ZDT3I_UsbNN-BwJVicACOlEbOE8ycbJ1rcAq6FEum_02uKi1h-quQ4AnIQaFI-L8Lef3f9bzvduZg2FS5HzwlyG5AwBuboONoBDsCXTDOYVZD71Iw_cJ3Zm8GRdvPmgj9PBrHhv2XoxCkuhdJFIlREZeNDdL4sAOM5M_X5_eHc8Dv1Mlzh50BS5KEbWU0I449IIiiwagdPQR1PKZdqYDDwkL61K0.8dZ9fJa0OqTVv6WPIFPdktIDpdzVh5gDfMfDsO6KOyI&dib_tag=se&keywords=Guitar&qid=1711584681&sprefix=guit%2Caps%2C281&sr=8-33',\n",
       " 'https://www.amazon.in/JUAREZ-JRZ38C-Acoustic-Natural-Strings/dp/B01FYYTDWC/ref=sr_1_34?crid=1570UROUGX04&dib=eyJ2IjoiMSJ9.wTmZbjEKHhyWxxfGK0FysKpyq5ESDlKtrk8PpwqXEN31EvXlFfPGE1koeqdIZFsmefWaY2IVCymofQ8ZDT3I_UsbNN-BwJVicACOlEbOE8ycbJ1rcAq6FEum_02uKi1h-quQ4AnIQaFI-L8Lef3f9bzvduZg2FS5HzwlyG5AwBuboONoBDsCXTDOYVZD71Iw_cJ3Zm8GRdvPmgj9PBrHhv2XoxCkuhdJFIlREZeNDdL4sAOM5M_X5_eHc8Dv1Mlzh50BS5KEbWU0I449IIiiwagdPQR1PKZdqYDDwkL61K0.8dZ9fJa0OqTVv6WPIFPdktIDpdzVh5gDfMfDsO6KOyI&dib_tag=se&keywords=Guitar&qid=1711584681&sprefix=guit%2Caps%2C281&sr=8-34',\n",
       " 'https://www.amazon.in/FS80C-Acoustic-Cutaway-Concert-Plectrums/dp/B08XVV1WH7/ref=sr_1_35?crid=1570UROUGX04&dib=eyJ2IjoiMSJ9.wTmZbjEKHhyWxxfGK0FysKpyq5ESDlKtrk8PpwqXEN31EvXlFfPGE1koeqdIZFsmefWaY2IVCymofQ8ZDT3I_UsbNN-BwJVicACOlEbOE8ycbJ1rcAq6FEum_02uKi1h-quQ4AnIQaFI-L8Lef3f9bzvduZg2FS5HzwlyG5AwBuboONoBDsCXTDOYVZD71Iw_cJ3Zm8GRdvPmgj9PBrHhv2XoxCkuhdJFIlREZeNDdL4sAOM5M_X5_eHc8Dv1Mlzh50BS5KEbWU0I449IIiiwagdPQR1PKZdqYDDwkL61K0.8dZ9fJa0OqTVv6WPIFPdktIDpdzVh5gDfMfDsO6KOyI&dib_tag=se&keywords=Guitar&qid=1711584681&sprefix=guit%2Caps%2C281&sr=8-35',\n",
       " 'https://www.amazon.in/Strings-Straps-String-winder-Polishing/dp/B07RV9FJ2Z/ref=sr_1_36?crid=1570UROUGX04&dib=eyJ2IjoiMSJ9.wTmZbjEKHhyWxxfGK0FysKpyq5ESDlKtrk8PpwqXEN31EvXlFfPGE1koeqdIZFsmefWaY2IVCymofQ8ZDT3I_UsbNN-BwJVicACOlEbOE8ycbJ1rcAq6FEum_02uKi1h-quQ4AnIQaFI-L8Lef3f9bzvduZg2FS5HzwlyG5AwBuboONoBDsCXTDOYVZD71Iw_cJ3Zm8GRdvPmgj9PBrHhv2XoxCkuhdJFIlREZeNDdL4sAOM5M_X5_eHc8Dv1Mlzh50BS5KEbWU0I449IIiiwagdPQR1PKZdqYDDwkL61K0.8dZ9fJa0OqTVv6WPIFPdktIDpdzVh5gDfMfDsO6KOyI&dib_tag=se&keywords=Guitar&qid=1711584681&sprefix=guit%2Caps%2C281&sr=8-36',\n",
       " 'https://www.amazon.in/Juarez-Acoustic-Guitar-Cutaway-JRZ38CT/dp/B01N3TTYJQ/ref=sr_1_37?crid=1570UROUGX04&dib=eyJ2IjoiMSJ9.wTmZbjEKHhyWxxfGK0FysKpyq5ESDlKtrk8PpwqXEN31EvXlFfPGE1koeqdIZFsmefWaY2IVCymofQ8ZDT3I_UsbNN-BwJVicACOlEbOE8ycbJ1rcAq6FEum_02uKi1h-quQ4AnIQaFI-L8Lef3f9bzvduZg2FS5HzwlyG5AwBuboONoBDsCXTDOYVZD71Iw_cJ3Zm8GRdvPmgj9PBrHhv2XoxCkuhdJFIlREZeNDdL4sAOM5M_X5_eHc8Dv1Mlzh50BS5KEbWU0I449IIiiwagdPQR1PKZdqYDDwkL61K0.8dZ9fJa0OqTVv6WPIFPdktIDpdzVh5gDfMfDsO6KOyI&dib_tag=se&keywords=Guitar&qid=1711584681&sprefix=guit%2Caps%2C281&sr=8-37',\n",
       " 'https://www.amazon.in/YAMAHA-FS80C-CONCERT-CUTAWAY-GUITAR/dp/B08WBBVMVJ/ref=sr_1_38?crid=1570UROUGX04&dib=eyJ2IjoiMSJ9.wTmZbjEKHhyWxxfGK0FysKpyq5ESDlKtrk8PpwqXEN31EvXlFfPGE1koeqdIZFsmefWaY2IVCymofQ8ZDT3I_UsbNN-BwJVicACOlEbOE8ycbJ1rcAq6FEum_02uKi1h-quQ4AnIQaFI-L8Lef3f9bzvduZg2FS5HzwlyG5AwBuboONoBDsCXTDOYVZD71Iw_cJ3Zm8GRdvPmgj9PBrHhv2XoxCkuhdJFIlREZeNDdL4sAOM5M_X5_eHc8Dv1Mlzh50BS5KEbWU0I449IIiiwagdPQR1PKZdqYDDwkL61K0.8dZ9fJa0OqTVv6WPIFPdktIDpdzVh5gDfMfDsO6KOyI&dib_tag=se&keywords=Guitar&qid=1711584681&sprefix=guit%2Caps%2C281&sr=8-38',\n",
       " 'https://www.amazon.in/Medellin-Acoustic-Guitar-learning-Strings/dp/B0CCNSN9BV/ref=sr_1_39?crid=1570UROUGX04&dib=eyJ2IjoiMSJ9.wTmZbjEKHhyWxxfGK0FysKpyq5ESDlKtrk8PpwqXEN31EvXlFfPGE1koeqdIZFsmefWaY2IVCymofQ8ZDT3I_UsbNN-BwJVicACOlEbOE8ycbJ1rcAq6FEum_02uKi1h-quQ4AnIQaFI-L8Lef3f9bzvduZg2FS5HzwlyG5AwBuboONoBDsCXTDOYVZD71Iw_cJ3Zm8GRdvPmgj9PBrHhv2XoxCkuhdJFIlREZeNDdL4sAOM5M_X5_eHc8Dv1Mlzh50BS5KEbWU0I449IIiiwagdPQR1PKZdqYDDwkL61K0.8dZ9fJa0OqTVv6WPIFPdktIDpdzVh5gDfMfDsO6KOyI&dib_tag=se&keywords=Guitar&qid=1711584681&sprefix=guit%2Caps%2C281&sr=8-39',\n",
       " 'https://www.amazon.in/Blueberry-38C-Acoustic-Guitar-Strings/dp/B08KLMV4XX/ref=sr_1_40?crid=1570UROUGX04&dib=eyJ2IjoiMSJ9.wTmZbjEKHhyWxxfGK0FysKpyq5ESDlKtrk8PpwqXEN31EvXlFfPGE1koeqdIZFsmefWaY2IVCymofQ8ZDT3I_UsbNN-BwJVicACOlEbOE8ycbJ1rcAq6FEum_02uKi1h-quQ4AnIQaFI-L8Lef3f9bzvduZg2FS5HzwlyG5AwBuboONoBDsCXTDOYVZD71Iw_cJ3Zm8GRdvPmgj9PBrHhv2XoxCkuhdJFIlREZeNDdL4sAOM5M_X5_eHc8Dv1Mlzh50BS5KEbWU0I449IIiiwagdPQR1PKZdqYDDwkL61K0.8dZ9fJa0OqTVv6WPIFPdktIDpdzVh5gDfMfDsO6KOyI&dib_tag=se&keywords=Guitar&qid=1711584681&sprefix=guit%2Caps%2C281&sr=8-40',\n",
       " 'https://www.amazon.in/Yamaha-FS-100C-6-String-Acoustic-without/dp/B00PAS9CK6/ref=sr_1_41?crid=1570UROUGX04&dib=eyJ2IjoiMSJ9.wTmZbjEKHhyWxxfGK0FysKpyq5ESDlKtrk8PpwqXEN31EvXlFfPGE1koeqdIZFsmefWaY2IVCymofQ8ZDT3I_UsbNN-BwJVicACOlEbOE8ycbJ1rcAq6FEum_02uKi1h-quQ4AnIQaFI-L8Lef3f9bzvduZg2FS5HzwlyG5AwBuboONoBDsCXTDOYVZD71Iw_cJ3Zm8GRdvPmgj9PBrHhv2XoxCkuhdJFIlREZeNDdL4sAOM5M_X5_eHc8Dv1Mlzh50BS5KEbWU0I449IIiiwagdPQR1PKZdqYDDwkL61K0.8dZ9fJa0OqTVv6WPIFPdktIDpdzVh5gDfMfDsO6KOyI&dib_tag=se&keywords=Guitar&qid=1711584681&sprefix=guit%2Caps%2C281&sr=8-41',\n",
       " 'https://www.amazon.in/NOVA-SP1-Acoustic-AcousticPlus-Instrument/dp/B0BHZFCVL3/ref=sr_1_42?crid=1570UROUGX04&dib=eyJ2IjoiMSJ9.wTmZbjEKHhyWxxfGK0FysKpyq5ESDlKtrk8PpwqXEN31EvXlFfPGE1koeqdIZFsmefWaY2IVCymofQ8ZDT3I_UsbNN-BwJVicACOlEbOE8ycbJ1rcAq6FEum_02uKi1h-quQ4AnIQaFI-L8Lef3f9bzvduZg2FS5HzwlyG5AwBuboONoBDsCXTDOYVZD71Iw_cJ3Zm8GRdvPmgj9PBrHhv2XoxCkuhdJFIlREZeNDdL4sAOM5M_X5_eHc8Dv1Mlzh50BS5KEbWU0I449IIiiwagdPQR1PKZdqYDDwkL61K0.8dZ9fJa0OqTVv6WPIFPdktIDpdzVh5gDfMfDsO6KOyI&dib_tag=se&keywords=Guitar&qid=1711584681&sprefix=guit%2Caps%2C281&sr=8-42',\n",
       " 'https://www.amazon.in/Yamaha-FSX80C-Acoustic-Cutaway-Guitar/dp/B09HL5WFDX/ref=sr_1_43?crid=1570UROUGX04&dib=eyJ2IjoiMSJ9.wTmZbjEKHhyWxxfGK0FysKpyq5ESDlKtrk8PpwqXEN31EvXlFfPGE1koeqdIZFsmefWaY2IVCymofQ8ZDT3I_UsbNN-BwJVicACOlEbOE8ycbJ1rcAq6FEum_02uKi1h-quQ4AnIQaFI-L8Lef3f9bzvduZg2FS5HzwlyG5AwBuboONoBDsCXTDOYVZD71Iw_cJ3Zm8GRdvPmgj9PBrHhv2XoxCkuhdJFIlREZeNDdL4sAOM5M_X5_eHc8Dv1Mlzh50BS5KEbWU0I449IIiiwagdPQR1PKZdqYDDwkL61K0.8dZ9fJa0OqTVv6WPIFPdktIDpdzVh5gDfMfDsO6KOyI&dib_tag=se&keywords=Guitar&qid=1711584681&sprefix=guit%2Caps%2C281&sr=8-43',\n",
       " 'https://www.amazon.in/PS-Signature-RoseWood-Acoustic-Strings/dp/B0CK9822R4/ref=sr_1_44?crid=1570UROUGX04&dib=eyJ2IjoiMSJ9.wTmZbjEKHhyWxxfGK0FysKpyq5ESDlKtrk8PpwqXEN31EvXlFfPGE1koeqdIZFsmefWaY2IVCymofQ8ZDT3I_UsbNN-BwJVicACOlEbOE8ycbJ1rcAq6FEum_02uKi1h-quQ4AnIQaFI-L8Lef3f9bzvduZg2FS5HzwlyG5AwBuboONoBDsCXTDOYVZD71Iw_cJ3Zm8GRdvPmgj9PBrHhv2XoxCkuhdJFIlREZeNDdL4sAOM5M_X5_eHc8Dv1Mlzh50BS5KEbWU0I449IIiiwagdPQR1PKZdqYDDwkL61K0.8dZ9fJa0OqTVv6WPIFPdktIDpdzVh5gDfMfDsO6KOyI&dib_tag=se&keywords=Guitar&qid=1711584681&sprefix=guit%2Caps%2C281&sr=8-44',\n",
       " 'https://www.amazon.in/JUAREZ-JRZ38C-BKNA/dp/B0BCQNVPRB/ref=sr_1_45?crid=1570UROUGX04&dib=eyJ2IjoiMSJ9.wTmZbjEKHhyWxxfGK0FysKpyq5ESDlKtrk8PpwqXEN31EvXlFfPGE1koeqdIZFsmefWaY2IVCymofQ8ZDT3I_UsbNN-BwJVicACOlEbOE8ycbJ1rcAq6FEum_02uKi1h-quQ4AnIQaFI-L8Lef3f9bzvduZg2FS5HzwlyG5AwBuboONoBDsCXTDOYVZD71Iw_cJ3Zm8GRdvPmgj9PBrHhv2XoxCkuhdJFIlREZeNDdL4sAOM5M_X5_eHc8Dv1Mlzh50BS5KEbWU0I449IIiiwagdPQR1PKZdqYDDwkL61K0.8dZ9fJa0OqTVv6WPIFPdktIDpdzVh5gDfMfDsO6KOyI&dib_tag=se&keywords=Guitar&qid=1711584681&sprefix=guit%2Caps%2C281&sr=8-45',\n",
       " 'https://www.amazon.in/Blueberry-VIP-385-Acoustic-Basswood-Natural/dp/B0BVW7QCNC/ref=sr_1_46?crid=1570UROUGX04&dib=eyJ2IjoiMSJ9.wTmZbjEKHhyWxxfGK0FysKpyq5ESDlKtrk8PpwqXEN31EvXlFfPGE1koeqdIZFsmefWaY2IVCymofQ8ZDT3I_UsbNN-BwJVicACOlEbOE8ycbJ1rcAq6FEum_02uKi1h-quQ4AnIQaFI-L8Lef3f9bzvduZg2FS5HzwlyG5AwBuboONoBDsCXTDOYVZD71Iw_cJ3Zm8GRdvPmgj9PBrHhv2XoxCkuhdJFIlREZeNDdL4sAOM5M_X5_eHc8Dv1Mlzh50BS5KEbWU0I449IIiiwagdPQR1PKZdqYDDwkL61K0.8dZ9fJa0OqTVv6WPIFPdktIDpdzVh5gDfMfDsO6KOyI&dib_tag=se&keywords=Guitar&qid=1711584681&sprefix=guit%2Caps%2C281&sr=8-46',\n",
       " 'https://www.amazon.in/Yamaha-F310-6-Strings-Acoustic-Natural/dp/B000RVYW7E/ref=sr_1_47?crid=1570UROUGX04&dib=eyJ2IjoiMSJ9.wTmZbjEKHhyWxxfGK0FysKpyq5ESDlKtrk8PpwqXEN31EvXlFfPGE1koeqdIZFsmefWaY2IVCymofQ8ZDT3I_UsbNN-BwJVicACOlEbOE8ycbJ1rcAq6FEum_02uKi1h-quQ4AnIQaFI-L8Lef3f9bzvduZg2FS5HzwlyG5AwBuboONoBDsCXTDOYVZD71Iw_cJ3Zm8GRdvPmgj9PBrHhv2XoxCkuhdJFIlREZeNDdL4sAOM5M_X5_eHc8Dv1Mlzh50BS5KEbWU0I449IIiiwagdPQR1PKZdqYDDwkL61K0.8dZ9fJa0OqTVv6WPIFPdktIDpdzVh5gDfMfDsO6KOyI&dib_tag=se&keywords=Guitar&qid=1711584681&sprefix=guit%2Caps%2C281&sr=8-47',\n",
       " 'https://www.amazon.in/JUAREZ-JRZ38C-3TSNA/dp/B0BCQQRDF3/ref=sr_1_48?crid=1570UROUGX04&dib=eyJ2IjoiMSJ9.wTmZbjEKHhyWxxfGK0FysKpyq5ESDlKtrk8PpwqXEN31EvXlFfPGE1koeqdIZFsmefWaY2IVCymofQ8ZDT3I_UsbNN-BwJVicACOlEbOE8ycbJ1rcAq6FEum_02uKi1h-quQ4AnIQaFI-L8Lef3f9bzvduZg2FS5HzwlyG5AwBuboONoBDsCXTDOYVZD71Iw_cJ3Zm8GRdvPmgj9PBrHhv2XoxCkuhdJFIlREZeNDdL4sAOM5M_X5_eHc8Dv1Mlzh50BS5KEbWU0I449IIiiwagdPQR1PKZdqYDDwkL61K0.8dZ9fJa0OqTVv6WPIFPdktIDpdzVh5gDfMfDsO6KOyI&dib_tag=se&keywords=Guitar&qid=1711584681&sprefix=guit%2Caps%2C281&sr=8-48',\n",
       " 'https://www.amazon.in/Kadence-Slowhand-Premium-Acoustic-Instrument/dp/B077SZ667X/ref=sr_1_49?crid=1570UROUGX04&dib=eyJ2IjoiMSJ9.wTmZbjEKHhyWxxfGK0FysKpyq5ESDlKtrk8PpwqXEN31EvXlFfPGE1koeqdIZFsmefWaY2IVCymofQ8ZDT3I_UsbNN-BwJVicACOlEbOE8ycbJ1rcAq6FEum_02uKi1h-quQ4AnIQaFI-L8Lef3f9bzvduZg2FS5HzwlyG5AwBuboONoBDsCXTDOYVZD71Iw_cJ3Zm8GRdvPmgj9PBrHhv2XoxCkuhdJFIlREZeNDdL4sAOM5M_X5_eHc8Dv1Mlzh50BS5KEbWU0I449IIiiwagdPQR1PKZdqYDDwkL61K0.8dZ9fJa0OqTVv6WPIFPdktIDpdzVh5gDfMfDsO6KOyI&dib_tag=se&keywords=Guitar&qid=1711584681&sprefix=guit%2Caps%2C281&sr=8-49',\n",
       " 'https://www.amazon.in/Kadence-Professional-Acoustic-Rosewood-Natural/dp/B0CC927DLN/ref=sr_1_50?crid=1570UROUGX04&dib=eyJ2IjoiMSJ9.wTmZbjEKHhyWxxfGK0FysKpyq5ESDlKtrk8PpwqXEN31EvXlFfPGE1koeqdIZFsmefWaY2IVCymofQ8ZDT3I_UsbNN-BwJVicACOlEbOE8ycbJ1rcAq6FEum_02uKi1h-quQ4AnIQaFI-L8Lef3f9bzvduZg2FS5HzwlyG5AwBuboONoBDsCXTDOYVZD71Iw_cJ3Zm8GRdvPmgj9PBrHhv2XoxCkuhdJFIlREZeNDdL4sAOM5M_X5_eHc8Dv1Mlzh50BS5KEbWU0I449IIiiwagdPQR1PKZdqYDDwkL61K0.8dZ9fJa0OqTVv6WPIFPdktIDpdzVh5gDfMfDsO6KOyI&dib_tag=se&keywords=Guitar&qid=1711584681&sprefix=guit%2Caps%2C281&sr=8-50',\n",
       " 'https://www.amazon.in/Yamaha-Pacifica-PAC012-Electric-Guitar/dp/B00123DQT6/ref=sr_1_51?crid=1570UROUGX04&dib=eyJ2IjoiMSJ9.wTmZbjEKHhyWxxfGK0FysKpyq5ESDlKtrk8PpwqXEN31EvXlFfPGE1koeqdIZFsmefWaY2IVCymofQ8ZDT3I_UsbNN-BwJVicACOlEbOE8ycbJ1rcAq6FEum_02uKi1h-quQ4AnIQaFI-L8Lef3f9bzvduZg2FS5HzwlyG5AwBuboONoBDsCXTDOYVZD71Iw_cJ3Zm8GRdvPmgj9PBrHhv2XoxCkuhdJFIlREZeNDdL4sAOM5M_X5_eHc8Dv1Mlzh50BS5KEbWU0I449IIiiwagdPQR1PKZdqYDDwkL61K0.8dZ9fJa0OqTVv6WPIFPdktIDpdzVh5gDfMfDsO6KOyI&dib_tag=se&keywords=Guitar&qid=1711584681&sprefix=guit%2Caps%2C281&sr=8-51',\n",
       " 'https://www.amazon.in/Intern-INT-38C-BLS-G-Guitar-Kit-Blue/dp/B07K8YXTNW/ref=sr_1_52?crid=1570UROUGX04&dib=eyJ2IjoiMSJ9.wTmZbjEKHhyWxxfGK0FysKpyq5ESDlKtrk8PpwqXEN31EvXlFfPGE1koeqdIZFsmefWaY2IVCymofQ8ZDT3I_UsbNN-BwJVicACOlEbOE8ycbJ1rcAq6FEum_02uKi1h-quQ4AnIQaFI-L8Lef3f9bzvduZg2FS5HzwlyG5AwBuboONoBDsCXTDOYVZD71Iw_cJ3Zm8GRdvPmgj9PBrHhv2XoxCkuhdJFIlREZeNDdL4sAOM5M_X5_eHc8Dv1Mlzh50BS5KEbWU0I449IIiiwagdPQR1PKZdqYDDwkL61K0.8dZ9fJa0OqTVv6WPIFPdktIDpdzVh5gDfMfDsO6KOyI&dib_tag=se&keywords=Guitar&qid=1711584681&sprefix=guit%2Caps%2C281&sr=8-52',\n",
       " 'https://www.amazon.in/Intern-INT-38C-Acoustic-Guitar-Natural/dp/B073B4D22T/ref=sr_1_53?crid=1570UROUGX04&dib=eyJ2IjoiMSJ9.wTmZbjEKHhyWxxfGK0FysKpyq5ESDlKtrk8PpwqXEN31EvXlFfPGE1koeqdIZFsmefWaY2IVCymofQ8ZDT3I_UsbNN-BwJVicACOlEbOE8ycbJ1rcAq6FEum_02uKi1h-quQ4AnIQaFI-L8Lef3f9bzvduZg2FS5HzwlyG5AwBuboONoBDsCXTDOYVZD71Iw_cJ3Zm8GRdvPmgj9PBrHhv2XoxCkuhdJFIlREZeNDdL4sAOM5M_X5_eHc8Dv1Mlzh50BS5KEbWU0I449IIiiwagdPQR1PKZdqYDDwkL61K0.8dZ9fJa0OqTVv6WPIFPdktIDpdzVh5gDfMfDsO6KOyI&dib_tag=se&keywords=Guitar&qid=1711584681&sprefix=guit%2Caps%2C281&sr=8-53',\n",
       " 'https://www.amazon.in/Medellin-MED-BLU-C-Linden-Acoustic-Guitar/dp/B07NBMWHJW/ref=sr_1_54?crid=1570UROUGX04&dib=eyJ2IjoiMSJ9.wTmZbjEKHhyWxxfGK0FysKpyq5ESDlKtrk8PpwqXEN31EvXlFfPGE1koeqdIZFsmefWaY2IVCymofQ8ZDT3I_UsbNN-BwJVicACOlEbOE8ycbJ1rcAq6FEum_02uKi1h-quQ4AnIQaFI-L8Lef3f9bzvduZg2FS5HzwlyG5AwBuboONoBDsCXTDOYVZD71Iw_cJ3Zm8GRdvPmgj9PBrHhv2XoxCkuhdJFIlREZeNDdL4sAOM5M_X5_eHc8Dv1Mlzh50BS5KEbWU0I449IIiiwagdPQR1PKZdqYDDwkL61K0.8dZ9fJa0OqTVv6WPIFPdktIDpdzVh5gDfMfDsO6KOyI&dib_tag=se&keywords=Guitar&qid=1711584681&sprefix=guit%2Caps%2C281&sr=8-54',\n",
       " 'https://www.amazon.in/JUAREZ-JRZ38C-Handed-Acoustic-Strings/dp/B01FYYTDW2/ref=sr_1_55?crid=1570UROUGX04&dib=eyJ2IjoiMSJ9.wTmZbjEKHhyWxxfGK0FysKpyq5ESDlKtrk8PpwqXEN31EvXlFfPGE1koeqdIZFsmefWaY2IVCymofQ8ZDT3I_UsbNN-BwJVicACOlEbOE8ycbJ1rcAq6FEum_02uKi1h-quQ4AnIQaFI-L8Lef3f9bzvduZg2FS5HzwlyG5AwBuboONoBDsCXTDOYVZD71Iw_cJ3Zm8GRdvPmgj9PBrHhv2XoxCkuhdJFIlREZeNDdL4sAOM5M_X5_eHc8Dv1Mlzh50BS5KEbWU0I449IIiiwagdPQR1PKZdqYDDwkL61K0.8dZ9fJa0OqTVv6WPIFPdktIDpdzVh5gDfMfDsO6KOyI&dib_tag=se&keywords=Guitar&qid=1711584681&sprefix=guit%2Caps%2C281&sr=8-55',\n",
       " 'https://www.amazon.in/Blueberry-VIP-382-38Inch-Cutaway-Acoustic/dp/B0BVVB1NNX/ref=sr_1_56?crid=1570UROUGX04&dib=eyJ2IjoiMSJ9.wTmZbjEKHhyWxxfGK0FysKpyq5ESDlKtrk8PpwqXEN31EvXlFfPGE1koeqdIZFsmefWaY2IVCymofQ8ZDT3I_UsbNN-BwJVicACOlEbOE8ycbJ1rcAq6FEum_02uKi1h-quQ4AnIQaFI-L8Lef3f9bzvduZg2FS5HzwlyG5AwBuboONoBDsCXTDOYVZD71Iw_cJ3Zm8GRdvPmgj9PBrHhv2XoxCkuhdJFIlREZeNDdL4sAOM5M_X5_eHc8Dv1Mlzh50BS5KEbWU0I449IIiiwagdPQR1PKZdqYDDwkL61K0.8dZ9fJa0OqTVv6WPIFPdktIDpdzVh5gDfMfDsO6KOyI&dib_tag=se&keywords=Guitar&qid=1711584681&sprefix=guit%2Caps%2C281&sr=8-56',\n",
       " 'https://www.amazon.in/sspa/click?ie=UTF8&spc=MToyOTQ4NzQ2NzEwNDE4MDg3OjE3MTE1ODQ2ODE6c3BfYnRmOjMwMDEyODA0MjM1NDkzMjo6MDo6&url=%2FBLUEBERRY-B-38C-Acoustic-Guitar-Strings%2Fdp%2FB0CNLKXVL5%2Fref%3Dsr_1_57_sspa%3Fcrid%3D1570UROUGX04%26dib%3DeyJ2IjoiMSJ9.wTmZbjEKHhyWxxfGK0FysKpyq5ESDlKtrk8PpwqXEN31EvXlFfPGE1koeqdIZFsmefWaY2IVCymofQ8ZDT3I_UsbNN-BwJVicACOlEbOE8ycbJ1rcAq6FEum_02uKi1h-quQ4AnIQaFI-L8Lef3f9bzvduZg2FS5HzwlyG5AwBuboONoBDsCXTDOYVZD71Iw_cJ3Zm8GRdvPmgj9PBrHhv2XoxCkuhdJFIlREZeNDdL4sAOM5M_X5_eHc8Dv1Mlzh50BS5KEbWU0I449IIiiwagdPQR1PKZdqYDDwkL61K0.8dZ9fJa0OqTVv6WPIFPdktIDpdzVh5gDfMfDsO6KOyI%26dib_tag%3Dse%26keywords%3DGuitar%26qid%3D1711584681%26sprefix%3Dguit%252Caps%252C281%26sr%3D8-57-spons%26sp_csd%3Dd2lkZ2V0TmFtZT1zcF9idGY%26psc%3D1',\n",
       " 'https://www.amazon.in/sspa/click?ie=UTF8&spc=MToyOTQ4NzQ2NzEwNDE4MDg3OjE3MTE1ODQ2ODE6c3BfYnRmOjIwMTI3OTkwMDI5Mzk4OjowOjo&url=%2FBlueberry-VIP-341-Natural-Acoustic%2Fdp%2FB0BVVJ8VG5%2Fref%3Dsr_1_58_sspa%3Fcrid%3D1570UROUGX04%26dib%3DeyJ2IjoiMSJ9.wTmZbjEKHhyWxxfGK0FysKpyq5ESDlKtrk8PpwqXEN31EvXlFfPGE1koeqdIZFsmefWaY2IVCymofQ8ZDT3I_UsbNN-BwJVicACOlEbOE8ycbJ1rcAq6FEum_02uKi1h-quQ4AnIQaFI-L8Lef3f9bzvduZg2FS5HzwlyG5AwBuboONoBDsCXTDOYVZD71Iw_cJ3Zm8GRdvPmgj9PBrHhv2XoxCkuhdJFIlREZeNDdL4sAOM5M_X5_eHc8Dv1Mlzh50BS5KEbWU0I449IIiiwagdPQR1PKZdqYDDwkL61K0.8dZ9fJa0OqTVv6WPIFPdktIDpdzVh5gDfMfDsO6KOyI%26dib_tag%3Dse%26keywords%3DGuitar%26qid%3D1711584681%26sprefix%3Dguit%252Caps%252C281%26sr%3D8-58-spons%26sp_csd%3Dd2lkZ2V0TmFtZT1zcF9idGY%26psc%3D1',\n",
       " 'https://www.amazon.in/sspa/click?ie=UTF8&spc=MToyOTQ4NzQ2NzEwNDE4MDg3OjE3MTE1ODQ2ODE6c3BfYnRmOjMwMDE1MTIzNjcwODYzMjo6MDo6&url=%2FAcoustic-Strings-Rosette-Rosewood-Fretboard%2Fdp%2FB09FPQX7RN%2Fref%3Dsr_1_59_sspa%3Fcrid%3D1570UROUGX04%26dib%3DeyJ2IjoiMSJ9.wTmZbjEKHhyWxxfGK0FysKpyq5ESDlKtrk8PpwqXEN31EvXlFfPGE1koeqdIZFsmefWaY2IVCymofQ8ZDT3I_UsbNN-BwJVicACOlEbOE8ycbJ1rcAq6FEum_02uKi1h-quQ4AnIQaFI-L8Lef3f9bzvduZg2FS5HzwlyG5AwBuboONoBDsCXTDOYVZD71Iw_cJ3Zm8GRdvPmgj9PBrHhv2XoxCkuhdJFIlREZeNDdL4sAOM5M_X5_eHc8Dv1Mlzh50BS5KEbWU0I449IIiiwagdPQR1PKZdqYDDwkL61K0.8dZ9fJa0OqTVv6WPIFPdktIDpdzVh5gDfMfDsO6KOyI%26dib_tag%3Dse%26keywords%3DGuitar%26qid%3D1711584681%26sprefix%3Dguit%252Caps%252C281%26sr%3D8-59-spons%26sp_csd%3Dd2lkZ2V0TmFtZT1zcF9idGY%26psc%3D1',\n",
       " 'https://www.amazon.in/sspa/click?ie=UTF8&spc=MToyOTQ4NzQ2NzEwNDE4MDg3OjE3MTE1ODQ2ODE6c3BfYnRmOjIwMDc4MzM2ODg3NDk4OjowOjo&url=%2FBlueberry-B-D38-Acoustic-Inbuilt-Strings%2Fdp%2FB07PHYZZP1%2Fref%3Dsr_1_60_sspa%3Fcrid%3D1570UROUGX04%26dib%3DeyJ2IjoiMSJ9.wTmZbjEKHhyWxxfGK0FysKpyq5ESDlKtrk8PpwqXEN31EvXlFfPGE1koeqdIZFsmefWaY2IVCymofQ8ZDT3I_UsbNN-BwJVicACOlEbOE8ycbJ1rcAq6FEum_02uKi1h-quQ4AnIQaFI-L8Lef3f9bzvduZg2FS5HzwlyG5AwBuboONoBDsCXTDOYVZD71Iw_cJ3Zm8GRdvPmgj9PBrHhv2XoxCkuhdJFIlREZeNDdL4sAOM5M_X5_eHc8Dv1Mlzh50BS5KEbWU0I449IIiiwagdPQR1PKZdqYDDwkL61K0.8dZ9fJa0OqTVv6WPIFPdktIDpdzVh5gDfMfDsO6KOyI%26dib_tag%3Dse%26keywords%3DGuitar%26qid%3D1711584681%26sprefix%3Dguit%252Caps%252C281%26sr%3D8-60-spons%26sp_csd%3Dd2lkZ2V0TmFtZT1zcF9idGY%26psc%3D1',\n",
       " 'https://www.amazon.in/sspa/click?ie=UTF8&spc=MToxMjY2NjM4NzM3ODE1MDg3OjE3MTE1ODQ2ODE6c3Bfc2VhcmNoX3RoZW1hdGljOjIwMDk2NjA4NzUwNDk4OjowOjo&url=%2FKadence-Frontier-Acoustic-Guitar-Strings%2Fdp%2FB01GDZ46AA%2Fref%3Dsxbs_pa_sp_search_thematic_sspa%3Fcontent-id%3Damzn1.sym.a83da621-77e7-4296-a3f4-89ab1b9d499e%253Aamzn1.sym.a83da621-77e7-4296-a3f4-89ab1b9d499e%26crid%3D1570UROUGX04%26cv_ct_cx%3DGuitar%26dib%3DeyJ2IjoiMSJ9.dxxUgg0YV5PJjnSYXA_vEJS_utv3FeAcxhlu5vF-gTeY4bZD5eHX37YJnVuSeEDjZtXE3LDyQhVxX_WMObn2aQ.-N8vTFqDw1XvMTkiXWcZDgjrlEjEyDqdDqkcT24ZTSU%26dib_tag%3Dse%26keywords%3DGuitar%26pd_rd_i%3DB01GDZ46AA%26pd_rd_r%3Dc8456d33-d965-4964-a888-ac32ab026546%26pd_rd_w%3D413qO%26pd_rd_wg%3DpvKuC%26pf_rd_p%3Da83da621-77e7-4296-a3f4-89ab1b9d499e%26pf_rd_r%3DCQ7347WMV73Y0S2XGJQH%26qid%3D1711584681%26sbo%3DRZvfv%252F%252FHxDF%252BO5021pAnSA%253D%253D%26sprefix%3Dguit%252Caps%252C281%26sr%3D1-1-2907eac4-8056-42c7-8014-fdf7bd4c5395-spons%26sp_csd%3Dd2lkZ2V0TmFtZT1zcF9zZWFyY2hfdGhlbWF0aWM%26psc%3D1',\n",
       " 'https://www.amazon.in/sspa/click?ie=UTF8&spc=MToxMjY2NjM4NzM3ODE1MDg3OjE3MTE1ODQ2ODE6c3Bfc2VhcmNoX3RoZW1hdGljOjMwMDAxNTUzNzk3OTIzMjo6MTo6&url=%2FKadence-Frontier-Acoustic-Guitar-Strings%2Fdp%2FB078GTJP5Y%2Fref%3Dsxbs_pa_sp_search_thematic_sspa%3Fcontent-id%3Damzn1.sym.a83da621-77e7-4296-a3f4-89ab1b9d499e%253Aamzn1.sym.a83da621-77e7-4296-a3f4-89ab1b9d499e%26crid%3D1570UROUGX04%26cv_ct_cx%3DGuitar%26dib%3DeyJ2IjoiMSJ9.dxxUgg0YV5PJjnSYXA_vEJS_utv3FeAcxhlu5vF-gTeY4bZD5eHX37YJnVuSeEDjZtXE3LDyQhVxX_WMObn2aQ.-N8vTFqDw1XvMTkiXWcZDgjrlEjEyDqdDqkcT24ZTSU%26dib_tag%3Dse%26keywords%3DGuitar%26pd_rd_i%3DB078GTJP5Y%26pd_rd_r%3Dc8456d33-d965-4964-a888-ac32ab026546%26pd_rd_w%3D413qO%26pd_rd_wg%3DpvKuC%26pf_rd_p%3Da83da621-77e7-4296-a3f4-89ab1b9d499e%26pf_rd_r%3DCQ7347WMV73Y0S2XGJQH%26qid%3D1711584681%26sbo%3DRZvfv%252F%252FHxDF%252BO5021pAnSA%253D%253D%26sprefix%3Dguit%252Caps%252C281%26sr%3D1-2-2907eac4-8056-42c7-8014-fdf7bd4c5395-spons%26sp_csd%3Dd2lkZ2V0TmFtZT1zcF9zZWFyY2hfdGhlbWF0aWM%26psc%3D1',\n",
       " 'https://www.amazon.in/sspa/click?ie=UTF8&spc=MToxMjY2NjM4NzM3ODE1MDg3OjE3MTE1ODQ2ODE6c3Bfc2VhcmNoX3RoZW1hdGljOjIwMDU3MTkzMDU2MjA0OjoyOjo&url=%2FKadence-Slowhand-Premium-Acoustic-Instrument%2Fdp%2FB077SZ667X%2Fref%3Dsxbs_pa_sp_search_thematic_sspa%3Fcontent-id%3Damzn1.sym.a83da621-77e7-4296-a3f4-89ab1b9d499e%253Aamzn1.sym.a83da621-77e7-4296-a3f4-89ab1b9d499e%26crid%3D1570UROUGX04%26cv_ct_cx%3DGuitar%26dib%3DeyJ2IjoiMSJ9.dxxUgg0YV5PJjnSYXA_vEJS_utv3FeAcxhlu5vF-gTeY4bZD5eHX37YJnVuSeEDjZtXE3LDyQhVxX_WMObn2aQ.-N8vTFqDw1XvMTkiXWcZDgjrlEjEyDqdDqkcT24ZTSU%26dib_tag%3Dse%26keywords%3DGuitar%26pd_rd_i%3DB077SZ667X%26pd_rd_r%3Dc8456d33-d965-4964-a888-ac32ab026546%26pd_rd_w%3D413qO%26pd_rd_wg%3DpvKuC%26pf_rd_p%3Da83da621-77e7-4296-a3f4-89ab1b9d499e%26pf_rd_r%3DCQ7347WMV73Y0S2XGJQH%26qid%3D1711584681%26sbo%3DRZvfv%252F%252FHxDF%252BO5021pAnSA%253D%253D%26sprefix%3Dguit%252Caps%252C281%26sr%3D1-3-2907eac4-8056-42c7-8014-fdf7bd4c5395-spons%26sp_csd%3Dd2lkZ2V0TmFtZT1zcF9zZWFyY2hfdGhlbWF0aWM%26psc%3D1',\n",
       " 'https://www.amazon.in/sspa/click?ie=UTF8&spc=MToxMjY2NjM4NzM3ODE1MDg3OjE3MTE1ODQ2ODE6c3Bfc2VhcmNoX3RoZW1hdGljOjMwMDE1MTIzNjcwODQzMjo6Mzo6&url=%2FJu%25C3%25A2rez-JRZ38C-WH-Strings-Acoustic%2Fdp%2FB072MFK4L6%2Fref%3Dsxbs_pa_sp_search_thematic_sspa%3Fcontent-id%3Damzn1.sym.a83da621-77e7-4296-a3f4-89ab1b9d499e%253Aamzn1.sym.a83da621-77e7-4296-a3f4-89ab1b9d499e%26crid%3D1570UROUGX04%26cv_ct_cx%3DGuitar%26dib%3DeyJ2IjoiMSJ9.dxxUgg0YV5PJjnSYXA_vEJS_utv3FeAcxhlu5vF-gTeY4bZD5eHX37YJnVuSeEDjZtXE3LDyQhVxX_WMObn2aQ.-N8vTFqDw1XvMTkiXWcZDgjrlEjEyDqdDqkcT24ZTSU%26dib_tag%3Dse%26keywords%3DGuitar%26pd_rd_i%3DB072MFK4L6%26pd_rd_r%3Dc8456d33-d965-4964-a888-ac32ab026546%26pd_rd_w%3D413qO%26pd_rd_wg%3DpvKuC%26pf_rd_p%3Da83da621-77e7-4296-a3f4-89ab1b9d499e%26pf_rd_r%3DCQ7347WMV73Y0S2XGJQH%26qid%3D1711584681%26sbo%3DRZvfv%252F%252FHxDF%252BO5021pAnSA%253D%253D%26sprefix%3Dguit%252Caps%252C281%26sr%3D1-4-2907eac4-8056-42c7-8014-fdf7bd4c5395-spons%26sp_csd%3Dd2lkZ2V0TmFtZT1zcF9zZWFyY2hfdGhlbWF0aWM%26psc%3D1',\n",
       " 'https://www.amazon.in/sspa/click?ie=UTF8&spc=MToxMjY2NjM4NzM3ODE1MDg3OjE3MTE1ODQ2ODE6c3Bfc2VhcmNoX3RoZW1hdGljOjMwMDEyODA0MjM1NTUzMjo6NDo6&url=%2FBLUEBERRY-B-38C-Acoustic-Guitar-Strings%2Fdp%2FB0C8V9BWK7%2Fref%3Dsxbs_pa_sp_search_thematic_sspa%3Fcontent-id%3Damzn1.sym.a83da621-77e7-4296-a3f4-89ab1b9d499e%253Aamzn1.sym.a83da621-77e7-4296-a3f4-89ab1b9d499e%26crid%3D1570UROUGX04%26cv_ct_cx%3DGuitar%26dib%3DeyJ2IjoiMSJ9.dxxUgg0YV5PJjnSYXA_vEJS_utv3FeAcxhlu5vF-gTeY4bZD5eHX37YJnVuSeEDjZtXE3LDyQhVxX_WMObn2aQ.-N8vTFqDw1XvMTkiXWcZDgjrlEjEyDqdDqkcT24ZTSU%26dib_tag%3Dse%26keywords%3DGuitar%26pd_rd_i%3DB0C8V9BWK7%26pd_rd_r%3Dc8456d33-d965-4964-a888-ac32ab026546%26pd_rd_w%3D413qO%26pd_rd_wg%3DpvKuC%26pf_rd_p%3Da83da621-77e7-4296-a3f4-89ab1b9d499e%26pf_rd_r%3DCQ7347WMV73Y0S2XGJQH%26qid%3D1711584681%26sbo%3DRZvfv%252F%252FHxDF%252BO5021pAnSA%253D%253D%26sprefix%3Dguit%252Caps%252C281%26sr%3D1-5-2907eac4-8056-42c7-8014-fdf7bd4c5395-spons%26sp_csd%3Dd2lkZ2V0TmFtZT1zcF9zZWFyY2hfdGhlbWF0aWM%26psc%3D1',\n",
       " 'https://www.amazon.in/sspa/click?ie=UTF8&spc=MToyOTQ4NzQ2NzEwNDE4MDg3OjE3MTE1ODQ2ODE6c3BfYXRmOjIwMDk2NjA4NzUwNDk4OjowOjo&url=%2FKadence-Frontier-Acoustic-Guitar-Strings%2Fdp%2FB01GDZ46AA%2Fref%3Dsr_1_1_sspa%3Fcrid%3D1570UROUGX04%26dib%3DeyJ2IjoiMSJ9.wTmZbjEKHhyWxxfGK0FysKpyq5ESDlKtrk8PpwqXEN31EvXlFfPGE1koeqdIZFsmefWaY2IVCymofQ8ZDT3I_UsbNN-BwJVicACOlEbOE8ycbJ1rcAq6FEum_02uKi1h-quQ4AnIQaFI-L8Lef3f9bzvduZg2FS5HzwlyG5AwBuboONoBDsCXTDOYVZD71Iw_cJ3Zm8GRdvPmgj9PBrHhv2XoxCkuhdJFIlREZeNDdL4sAOM5M_X5_eHc8Dv1Mlzh50BS5KEbWU0I449IIiiwagdPQR1PKZdqYDDwkL61K0.8dZ9fJa0OqTVv6WPIFPdktIDpdzVh5gDfMfDsO6KOyI%26dib_tag%3Dse%26keywords%3DGuitar%26qid%3D1711584681%26sprefix%3Dguit%252Caps%252C281%26sr%3D8-1-spons%26sp_csd%3Dd2lkZ2V0TmFtZT1zcF9hdGY%26psc%3D1',\n",
       " 'https://www.amazon.in/sspa/click?ie=UTF8&spc=MToyOTQ4NzQ2NzEwNDE4MDg3OjE3MTE1ODQ2ODE6c3BfYXRmOjMwMDAxNTUzNzk3OTIzMjo6MDo6&url=%2FKadence-Frontier-Acoustic-Guitar-Strings%2Fdp%2FB078GTJP5Y%2Fref%3Dsr_1_2_sspa%3Fcrid%3D1570UROUGX04%26dib%3DeyJ2IjoiMSJ9.wTmZbjEKHhyWxxfGK0FysKpyq5ESDlKtrk8PpwqXEN31EvXlFfPGE1koeqdIZFsmefWaY2IVCymofQ8ZDT3I_UsbNN-BwJVicACOlEbOE8ycbJ1rcAq6FEum_02uKi1h-quQ4AnIQaFI-L8Lef3f9bzvduZg2FS5HzwlyG5AwBuboONoBDsCXTDOYVZD71Iw_cJ3Zm8GRdvPmgj9PBrHhv2XoxCkuhdJFIlREZeNDdL4sAOM5M_X5_eHc8Dv1Mlzh50BS5KEbWU0I449IIiiwagdPQR1PKZdqYDDwkL61K0.8dZ9fJa0OqTVv6WPIFPdktIDpdzVh5gDfMfDsO6KOyI%26dib_tag%3Dse%26keywords%3DGuitar%26qid%3D1711584681%26sprefix%3Dguit%252Caps%252C281%26sr%3D8-2-spons%26sp_csd%3Dd2lkZ2V0TmFtZT1zcF9hdGY%26psc%3D1',\n",
       " 'https://www.amazon.in/sspa/click?ie=UTF8&spc=MToyOTQ4NzQ2NzEwNDE4MDg3OjE3MTE1ODQ2ODE6c3BfYXRmOjIwMDg4NDY1ODE5NDA0OjowOjo&url=%2FHenrix-Acoustic-Guitar-Die-cast-Dual-action%2Fdp%2FB07VNDW6QF%2Fref%3Dsr_1_3_sspa%3Fcrid%3D1570UROUGX04%26dib%3DeyJ2IjoiMSJ9.wTmZbjEKHhyWxxfGK0FysKpyq5ESDlKtrk8PpwqXEN31EvXlFfPGE1koeqdIZFsmefWaY2IVCymofQ8ZDT3I_UsbNN-BwJVicACOlEbOE8ycbJ1rcAq6FEum_02uKi1h-quQ4AnIQaFI-L8Lef3f9bzvduZg2FS5HzwlyG5AwBuboONoBDsCXTDOYVZD71Iw_cJ3Zm8GRdvPmgj9PBrHhv2XoxCkuhdJFIlREZeNDdL4sAOM5M_X5_eHc8Dv1Mlzh50BS5KEbWU0I449IIiiwagdPQR1PKZdqYDDwkL61K0.8dZ9fJa0OqTVv6WPIFPdktIDpdzVh5gDfMfDsO6KOyI%26dib_tag%3Dse%26keywords%3DGuitar%26qid%3D1711584681%26sprefix%3Dguit%252Caps%252C281%26sr%3D8-3-spons%26sp_csd%3Dd2lkZ2V0TmFtZT1zcF9hdGY%26psc%3D1',\n",
       " 'https://www.amazon.in/sspa/click?ie=UTF8&spc=MToyOTQ4NzQ2NzEwNDE4MDg3OjE3MTE1ODQ2ODE6c3BfYXRmOjMwMDE0OTU0MTg1ODkzMjo6MDo6&url=%2FMOCKING-BIRD-Beginners-Instruments-Accessories%2Fdp%2FB0CMXDNCDN%2Fref%3Dsr_1_4_sspa%3Fcrid%3D1570UROUGX04%26dib%3DeyJ2IjoiMSJ9.wTmZbjEKHhyWxxfGK0FysKpyq5ESDlKtrk8PpwqXEN31EvXlFfPGE1koeqdIZFsmefWaY2IVCymofQ8ZDT3I_UsbNN-BwJVicACOlEbOE8ycbJ1rcAq6FEum_02uKi1h-quQ4AnIQaFI-L8Lef3f9bzvduZg2FS5HzwlyG5AwBuboONoBDsCXTDOYVZD71Iw_cJ3Zm8GRdvPmgj9PBrHhv2XoxCkuhdJFIlREZeNDdL4sAOM5M_X5_eHc8Dv1Mlzh50BS5KEbWU0I449IIiiwagdPQR1PKZdqYDDwkL61K0.8dZ9fJa0OqTVv6WPIFPdktIDpdzVh5gDfMfDsO6KOyI%26dib_tag%3Dse%26keywords%3DGuitar%26qid%3D1711584681%26sprefix%3Dguit%252Caps%252C281%26sr%3D8-4-spons%26sp_csd%3Dd2lkZ2V0TmFtZT1zcF9hdGY%26psc%3D1',\n",
       " 'https://www.amazon.in/Juarez-Acoustic-Cutaway-038C-Strings/dp/B017NPCSLI/ref=sr_1_5?crid=1570UROUGX04&dib=eyJ2IjoiMSJ9.wTmZbjEKHhyWxxfGK0FysKpyq5ESDlKtrk8PpwqXEN31EvXlFfPGE1koeqdIZFsmefWaY2IVCymofQ8ZDT3I_UsbNN-BwJVicACOlEbOE8ycbJ1rcAq6FEum_02uKi1h-quQ4AnIQaFI-L8Lef3f9bzvduZg2FS5HzwlyG5AwBuboONoBDsCXTDOYVZD71Iw_cJ3Zm8GRdvPmgj9PBrHhv2XoxCkuhdJFIlREZeNDdL4sAOM5M_X5_eHc8Dv1Mlzh50BS5KEbWU0I449IIiiwagdPQR1PKZdqYDDwkL61K0.8dZ9fJa0OqTVv6WPIFPdktIDpdzVh5gDfMfDsO6KOyI&dib_tag=se&keywords=Guitar&qid=1711584681&sprefix=guit%2Caps%2C281&sr=8-5',\n",
       " 'https://www.amazon.in/Juarez-JRZ38C-ASH-Strings-Acoustic/dp/B072JTPNZC/ref=sr_1_6?crid=1570UROUGX04&dib=eyJ2IjoiMSJ9.wTmZbjEKHhyWxxfGK0FysKpyq5ESDlKtrk8PpwqXEN31EvXlFfPGE1koeqdIZFsmefWaY2IVCymofQ8ZDT3I_UsbNN-BwJVicACOlEbOE8ycbJ1rcAq6FEum_02uKi1h-quQ4AnIQaFI-L8Lef3f9bzvduZg2FS5HzwlyG5AwBuboONoBDsCXTDOYVZD71Iw_cJ3Zm8GRdvPmgj9PBrHhv2XoxCkuhdJFIlREZeNDdL4sAOM5M_X5_eHc8Dv1Mlzh50BS5KEbWU0I449IIiiwagdPQR1PKZdqYDDwkL61K0.8dZ9fJa0OqTVv6WPIFPdktIDpdzVh5gDfMfDsO6KOyI&dib_tag=se&keywords=Guitar&qid=1711584681&sprefix=guit%2Caps%2C281&sr=8-6',\n",
       " 'https://www.amazon.in/Intern-INT-38C-Acoustic-Guitar-Black/dp/B073B6TQQY/ref=sr_1_7?crid=1570UROUGX04&dib=eyJ2IjoiMSJ9.wTmZbjEKHhyWxxfGK0FysKpyq5ESDlKtrk8PpwqXEN31EvXlFfPGE1koeqdIZFsmefWaY2IVCymofQ8ZDT3I_UsbNN-BwJVicACOlEbOE8ycbJ1rcAq6FEum_02uKi1h-quQ4AnIQaFI-L8Lef3f9bzvduZg2FS5HzwlyG5AwBuboONoBDsCXTDOYVZD71Iw_cJ3Zm8GRdvPmgj9PBrHhv2XoxCkuhdJFIlREZeNDdL4sAOM5M_X5_eHc8Dv1Mlzh50BS5KEbWU0I449IIiiwagdPQR1PKZdqYDDwkL61K0.8dZ9fJa0OqTVv6WPIFPdktIDpdzVh5gDfMfDsO6KOyI&dib_tag=se&keywords=Guitar&qid=1711584681&sprefix=guit%2Caps%2C281&sr=8-7',\n",
       " 'https://www.amazon.in/sspa/click?ie=UTF8&spc=MTo0MTQzNjg2NDIxNTYzMDg3OjE3MTE1ODQ2ODE6c3Bfc2VhcmNoX3RoZW1hdGljOjIwMDk2NjA4NzUwNDk4OjowOjo&url=%2FKadence-Frontier-Acoustic-Guitar-Strings%2Fdp%2FB01GDZ46AA%2Fref%3Dsxin_15_pa_sp_search_thematic_sspa%3Fcontent-id%3Damzn1.sym.37bad8da-0499-4510-838e-af217f0a67c4%253Aamzn1.sym.37bad8da-0499-4510-838e-af217f0a67c4%26crid%3D1570UROUGX04%26cv_ct_cx%3DGuitar%26dib%3DeyJ2IjoiMSJ9.f06krrIGar2HIb1V6OVvyh7ZndNLZP3BGDmM56tYZmzkAH0y8QO2MUCguxY3vmZFKIlBcFKxY3EWEjcmw-aNJw.dgrVfRqgRhsqkMTQJn6bRSdgvLGSXmgNVBqwQS7KDwY%26dib_tag%3Dse%26keywords%3DGuitar%26pd_rd_i%3DB01GDZ46AA%26pd_rd_r%3Dc6beaeba-8c27-4e7c-983e-63b2ab2bf9ee%26pd_rd_w%3DIgQoF%26pd_rd_wg%3DOAfNn%26pf_rd_p%3D37bad8da-0499-4510-838e-af217f0a67c4%26pf_rd_r%3DCQ7347WMV73Y0S2XGJQH%26qid%3D1711584681%26sbo%3DRZvfv%252F%252FHxDF%252BO5021pAnSA%253D%253D%26sprefix%3Dguit%252Caps%252C281%26sr%3D1-1-ced4eeeb-b190-41d6-902a-1ecb3fb8b7c4-spons%26sp_csd%3Dd2lkZ2V0TmFtZT1zcF9zZWFyY2hfdGhlbWF0aWM%26psc%3D1',\n",
       " 'https://www.amazon.in/sspa/click?ie=UTF8&spc=MTo0MTQzNjg2NDIxNTYzMDg3OjE3MTE1ODQ2ODE6c3Bfc2VhcmNoX3RoZW1hdGljOjMwMDE0ODQ4MDgyNTAzMjo6MTo6&url=%2FIbanez-MD39C-NT-Cutaway-Acoustic-Polishing%2Fdp%2FB084BQJCP8%2Fref%3Dsxin_15_pa_sp_search_thematic_sspa%3Fcontent-id%3Damzn1.sym.37bad8da-0499-4510-838e-af217f0a67c4%253Aamzn1.sym.37bad8da-0499-4510-838e-af217f0a67c4%26crid%3D1570UROUGX04%26cv_ct_cx%3DGuitar%26dib%3DeyJ2IjoiMSJ9.f06krrIGar2HIb1V6OVvyh7ZndNLZP3BGDmM56tYZmzkAH0y8QO2MUCguxY3vmZFKIlBcFKxY3EWEjcmw-aNJw.dgrVfRqgRhsqkMTQJn6bRSdgvLGSXmgNVBqwQS7KDwY%26dib_tag%3Dse%26keywords%3DGuitar%26pd_rd_i%3DB084BQJCP8%26pd_rd_r%3Dc6beaeba-8c27-4e7c-983e-63b2ab2bf9ee%26pd_rd_w%3DIgQoF%26pd_rd_wg%3DOAfNn%26pf_rd_p%3D37bad8da-0499-4510-838e-af217f0a67c4%26pf_rd_r%3DCQ7347WMV73Y0S2XGJQH%26qid%3D1711584681%26sbo%3DRZvfv%252F%252FHxDF%252BO5021pAnSA%253D%253D%26sprefix%3Dguit%252Caps%252C281%26sr%3D1-2-ced4eeeb-b190-41d6-902a-1ecb3fb8b7c4-spons%26sp_csd%3Dd2lkZ2V0TmFtZT1zcF9zZWFyY2hfdGhlbWF0aWM%26psc%3D1',\n",
       " 'https://www.amazon.in/sspa/click?ie=UTF8&spc=MTo0MTQzNjg2NDIxNTYzMDg3OjE3MTE1ODQ2ODE6c3Bfc2VhcmNoX3RoZW1hdGljOjMwMDAxNTUzNzk3OTIzMjo6Mjo6&url=%2FKadence-Frontier-Acoustic-Guitar-Strings%2Fdp%2FB078GTJP5Y%2Fref%3Dsxin_15_pa_sp_search_thematic_sspa%3Fcontent-id%3Damzn1.sym.37bad8da-0499-4510-838e-af217f0a67c4%253Aamzn1.sym.37bad8da-0499-4510-838e-af217f0a67c4%26crid%3D1570UROUGX04%26cv_ct_cx%3DGuitar%26dib%3DeyJ2IjoiMSJ9.f06krrIGar2HIb1V6OVvyh7ZndNLZP3BGDmM56tYZmzkAH0y8QO2MUCguxY3vmZFKIlBcFKxY3EWEjcmw-aNJw.dgrVfRqgRhsqkMTQJn6bRSdgvLGSXmgNVBqwQS7KDwY%26dib_tag%3Dse%26keywords%3DGuitar%26pd_rd_i%3DB078GTJP5Y%26pd_rd_r%3Dc6beaeba-8c27-4e7c-983e-63b2ab2bf9ee%26pd_rd_w%3DIgQoF%26pd_rd_wg%3DOAfNn%26pf_rd_p%3D37bad8da-0499-4510-838e-af217f0a67c4%26pf_rd_r%3DCQ7347WMV73Y0S2XGJQH%26qid%3D1711584681%26sbo%3DRZvfv%252F%252FHxDF%252BO5021pAnSA%253D%253D%26sprefix%3Dguit%252Caps%252C281%26sr%3D1-3-ced4eeeb-b190-41d6-902a-1ecb3fb8b7c4-spons%26sp_csd%3Dd2lkZ2V0TmFtZT1zcF9zZWFyY2hfdGhlbWF0aWM%26psc%3D1',\n",
       " 'https://www.amazon.in/sspa/click?ie=UTF8&spc=MTo0MTQzNjg2NDIxNTYzMDg3OjE3MTE1ODQ2ODE6c3Bfc2VhcmNoX3RoZW1hdGljOjIwMDU3MTkzMDU2MjA0OjozOjo&url=%2FKadence-Slowhand-Premium-Acoustic-Instrument%2Fdp%2FB077SZ667X%2Fref%3Dsxin_15_pa_sp_search_thematic_sspa%3Fcontent-id%3Damzn1.sym.37bad8da-0499-4510-838e-af217f0a67c4%253Aamzn1.sym.37bad8da-0499-4510-838e-af217f0a67c4%26crid%3D1570UROUGX04%26cv_ct_cx%3DGuitar%26dib%3DeyJ2IjoiMSJ9.f06krrIGar2HIb1V6OVvyh7ZndNLZP3BGDmM56tYZmzkAH0y8QO2MUCguxY3vmZFKIlBcFKxY3EWEjcmw-aNJw.dgrVfRqgRhsqkMTQJn6bRSdgvLGSXmgNVBqwQS7KDwY%26dib_tag%3Dse%26keywords%3DGuitar%26pd_rd_i%3DB077SZ667X%26pd_rd_r%3Dc6beaeba-8c27-4e7c-983e-63b2ab2bf9ee%26pd_rd_w%3DIgQoF%26pd_rd_wg%3DOAfNn%26pf_rd_p%3D37bad8da-0499-4510-838e-af217f0a67c4%26pf_rd_r%3DCQ7347WMV73Y0S2XGJQH%26qid%3D1711584681%26sbo%3DRZvfv%252F%252FHxDF%252BO5021pAnSA%253D%253D%26sprefix%3Dguit%252Caps%252C281%26sr%3D1-4-ced4eeeb-b190-41d6-902a-1ecb3fb8b7c4-spons%26sp_csd%3Dd2lkZ2V0TmFtZT1zcF9zZWFyY2hfdGhlbWF0aWM%26psc%3D1',\n",
       " 'https://www.amazon.in/sspa/click?ie=UTF8&spc=MTo0MTQzNjg2NDIxNTYzMDg3OjE3MTE1ODQ2ODE6c3Bfc2VhcmNoX3RoZW1hdGljOjMwMDE1MTIzNjcwODQzMjo6NDo6&url=%2FJu%25C3%25A2rez-JRZ38C-WH-Strings-Acoustic%2Fdp%2FB072MFK4L6%2Fref%3Dsxin_15_pa_sp_search_thematic_sspa%3Fcontent-id%3Damzn1.sym.37bad8da-0499-4510-838e-af217f0a67c4%253Aamzn1.sym.37bad8da-0499-4510-838e-af217f0a67c4%26crid%3D1570UROUGX04%26cv_ct_cx%3DGuitar%26dib%3DeyJ2IjoiMSJ9.f06krrIGar2HIb1V6OVvyh7ZndNLZP3BGDmM56tYZmzkAH0y8QO2MUCguxY3vmZFKIlBcFKxY3EWEjcmw-aNJw.dgrVfRqgRhsqkMTQJn6bRSdgvLGSXmgNVBqwQS7KDwY%26dib_tag%3Dse%26keywords%3DGuitar%26pd_rd_i%3DB072MFK4L6%26pd_rd_r%3Dc6beaeba-8c27-4e7c-983e-63b2ab2bf9ee%26pd_rd_w%3DIgQoF%26pd_rd_wg%3DOAfNn%26pf_rd_p%3D37bad8da-0499-4510-838e-af217f0a67c4%26pf_rd_r%3DCQ7347WMV73Y0S2XGJQH%26qid%3D1711584681%26sbo%3DRZvfv%252F%252FHxDF%252BO5021pAnSA%253D%253D%26sprefix%3Dguit%252Caps%252C281%26sr%3D1-5-ced4eeeb-b190-41d6-902a-1ecb3fb8b7c4-spons%26sp_csd%3Dd2lkZ2V0TmFtZT1zcF9zZWFyY2hfdGhlbWF0aWM%26psc%3D1',\n",
       " 'https://www.amazon.in/Ju%C3%A2rez-JRZ38C-WH-Strings-Acoustic/dp/B072MFK4L6/ref=sr_1_8?crid=1570UROUGX04&dib=eyJ2IjoiMSJ9.wTmZbjEKHhyWxxfGK0FysKpyq5ESDlKtrk8PpwqXEN31EvXlFfPGE1koeqdIZFsmefWaY2IVCymofQ8ZDT3I_UsbNN-BwJVicACOlEbOE8ycbJ1rcAq6FEum_02uKi1h-quQ4AnIQaFI-L8Lef3f9bzvduZg2FS5HzwlyG5AwBuboONoBDsCXTDOYVZD71Iw_cJ3Zm8GRdvPmgj9PBrHhv2XoxCkuhdJFIlREZeNDdL4sAOM5M_X5_eHc8Dv1Mlzh50BS5KEbWU0I449IIiiwagdPQR1PKZdqYDDwkL61K0.8dZ9fJa0OqTVv6WPIFPdktIDpdzVh5gDfMfDsO6KOyI&dib_tag=se&keywords=Guitar&qid=1711584681&sprefix=guit%2Caps%2C281&sr=8-8',\n",
       " 'https://www.amazon.in/Intern-INT-38C-Acoustic-Guitar-Sunburst/dp/B073B5MJRM/ref=sr_1_9?crid=1570UROUGX04&dib=eyJ2IjoiMSJ9.wTmZbjEKHhyWxxfGK0FysKpyq5ESDlKtrk8PpwqXEN31EvXlFfPGE1koeqdIZFsmefWaY2IVCymofQ8ZDT3I_UsbNN-BwJVicACOlEbOE8ycbJ1rcAq6FEum_02uKi1h-quQ4AnIQaFI-L8Lef3f9bzvduZg2FS5HzwlyG5AwBuboONoBDsCXTDOYVZD71Iw_cJ3Zm8GRdvPmgj9PBrHhv2XoxCkuhdJFIlREZeNDdL4sAOM5M_X5_eHc8Dv1Mlzh50BS5KEbWU0I449IIiiwagdPQR1PKZdqYDDwkL61K0.8dZ9fJa0OqTVv6WPIFPdktIDpdzVh5gDfMfDsO6KOyI&dib_tag=se&keywords=Guitar&qid=1711584681&sprefix=guit%2Caps%2C281&sr=8-9',\n",
       " 'https://www.amazon.in/Yamaha-F280-Acoustic-Guitar-Natural/dp/B08317Y4VP/ref=sr_1_10?crid=1570UROUGX04&dib=eyJ2IjoiMSJ9.wTmZbjEKHhyWxxfGK0FysKpyq5ESDlKtrk8PpwqXEN31EvXlFfPGE1koeqdIZFsmefWaY2IVCymofQ8ZDT3I_UsbNN-BwJVicACOlEbOE8ycbJ1rcAq6FEum_02uKi1h-quQ4AnIQaFI-L8Lef3f9bzvduZg2FS5HzwlyG5AwBuboONoBDsCXTDOYVZD71Iw_cJ3Zm8GRdvPmgj9PBrHhv2XoxCkuhdJFIlREZeNDdL4sAOM5M_X5_eHc8Dv1Mlzh50BS5KEbWU0I449IIiiwagdPQR1PKZdqYDDwkL61K0.8dZ9fJa0OqTVv6WPIFPdktIDpdzVh5gDfMfDsO6KOyI&dib_tag=se&keywords=Guitar&qid=1711584681&sprefix=guit%2Caps%2C281&sr=8-10',\n",
       " 'https://www.amazon.in/JUAREZ-JRZ38C-Acoustic-Sunburst-Strings/dp/B01FYYTDS6/ref=sr_1_11?crid=1570UROUGX04&dib=eyJ2IjoiMSJ9.wTmZbjEKHhyWxxfGK0FysKpyq5ESDlKtrk8PpwqXEN31EvXlFfPGE1koeqdIZFsmefWaY2IVCymofQ8ZDT3I_UsbNN-BwJVicACOlEbOE8ycbJ1rcAq6FEum_02uKi1h-quQ4AnIQaFI-L8Lef3f9bzvduZg2FS5HzwlyG5AwBuboONoBDsCXTDOYVZD71Iw_cJ3Zm8GRdvPmgj9PBrHhv2XoxCkuhdJFIlREZeNDdL4sAOM5M_X5_eHc8Dv1Mlzh50BS5KEbWU0I449IIiiwagdPQR1PKZdqYDDwkL61K0.8dZ9fJa0OqTVv6WPIFPdktIDpdzVh5gDfMfDsO6KOyI&dib_tag=se&keywords=Guitar&qid=1711584681&sprefix=guit%2Caps%2C281&sr=8-11',\n",
       " 'https://www.amazon.in/JUAREZ-JRZ38C-Acoustic-Sunburst-Strings/dp/B01FYYTDTU/ref=sr_1_12?crid=1570UROUGX04&dib=eyJ2IjoiMSJ9.wTmZbjEKHhyWxxfGK0FysKpyq5ESDlKtrk8PpwqXEN31EvXlFfPGE1koeqdIZFsmefWaY2IVCymofQ8ZDT3I_UsbNN-BwJVicACOlEbOE8ycbJ1rcAq6FEum_02uKi1h-quQ4AnIQaFI-L8Lef3f9bzvduZg2FS5HzwlyG5AwBuboONoBDsCXTDOYVZD71Iw_cJ3Zm8GRdvPmgj9PBrHhv2XoxCkuhdJFIlREZeNDdL4sAOM5M_X5_eHc8Dv1Mlzh50BS5KEbWU0I449IIiiwagdPQR1PKZdqYDDwkL61K0.8dZ9fJa0OqTVv6WPIFPdktIDpdzVh5gDfMfDsO6KOyI&dib_tag=se&keywords=Guitar&qid=1711584681&sprefix=guit%2Caps%2C281&sr=8-12',\n",
       " 'https://www.amazon.in/Henrix-Acoustic-Guitar-Die-cast-Dual-action/dp/B07VNDW6QF/ref=sr_1_13?crid=1570UROUGX04&dib=eyJ2IjoiMSJ9.wTmZbjEKHhyWxxfGK0FysKpyq5ESDlKtrk8PpwqXEN31EvXlFfPGE1koeqdIZFsmefWaY2IVCymofQ8ZDT3I_UsbNN-BwJVicACOlEbOE8ycbJ1rcAq6FEum_02uKi1h-quQ4AnIQaFI-L8Lef3f9bzvduZg2FS5HzwlyG5AwBuboONoBDsCXTDOYVZD71Iw_cJ3Zm8GRdvPmgj9PBrHhv2XoxCkuhdJFIlREZeNDdL4sAOM5M_X5_eHc8Dv1Mlzh50BS5KEbWU0I449IIiiwagdPQR1PKZdqYDDwkL61K0.8dZ9fJa0OqTVv6WPIFPdktIDpdzVh5gDfMfDsO6KOyI&dib_tag=se&keywords=Guitar&qid=1711584681&sprefix=guit%2Caps%2C281&sr=8-13',\n",
       " 'https://aax-eu.amazon.in/x/c/RCtd4yrswOEywXbh28lM9gkAAAGOgmWcYgMAAAH2AQBvbm9fdHhuX2JpZDIgICBvbm9fdHhuX2ltcDEgICDY4I2S/https://www.amazon.in/Radhe-Flutes-Natural-Bansuri-Middle/dp/B07T35ZBHB/ref=sxin_23_sbv_search_btf?content-id=amzn1.sym.4fe35c1d-da6a-41a4-967c-7a2315a8b22e%3Aamzn1.sym.4fe35c1d-da6a-41a4-967c-7a2315a8b22e&crid=1570UROUGX04&cv_ct_cx=Guitar&dib=eyJ2IjoiMSJ9.RkxRkdLFro_AAXvr06nUqw.bS6l4I5Nq7yqV0r3jGqD-6_L1lrP_Si37forc_YZT_E&dib_tag=se&keywords=Guitar&pd_rd_i=B07T35ZBHB&pd_rd_r=c6beaeba-8c27-4e7c-983e-63b2ab2bf9ee&pd_rd_w=KYR7W&pd_rd_wg=OAfNn&pf_rd_p=4fe35c1d-da6a-41a4-967c-7a2315a8b22e&pf_rd_r=CQ7347WMV73Y0S2XGJQH&qid=1711584681&sbo=RZvfv%2F%2FHxDF%2BO5021pAnSA%3D%3D&sprefix=guit%2Caps%2C281&sr=1-1-b614a050-8d70-4320-9c19-cc457ab2a351',\n",
       " 'https://www.amazon.in/Ibanez-GRGR221PA-Electric-Guitar-Burst/dp/B08SHLHBGT/ref=sr_1_14?crid=1570UROUGX04&dib=eyJ2IjoiMSJ9.wTmZbjEKHhyWxxfGK0FysKpyq5ESDlKtrk8PpwqXEN31EvXlFfPGE1koeqdIZFsmefWaY2IVCymofQ8ZDT3I_UsbNN-BwJVicACOlEbOE8ycbJ1rcAq6FEum_02uKi1h-quQ4AnIQaFI-L8Lef3f9bzvduZg2FS5HzwlyG5AwBuboONoBDsCXTDOYVZD71Iw_cJ3Zm8GRdvPmgj9PBrHhv2XoxCkuhdJFIlREZeNDdL4sAOM5M_X5_eHc8Dv1Mlzh50BS5KEbWU0I449IIiiwagdPQR1PKZdqYDDwkL61K0.8dZ9fJa0OqTVv6WPIFPdktIDpdzVh5gDfMfDsO6KOyI&dib_tag=se&keywords=Guitar&qid=1711584681&sprefix=guit%2Caps%2C281&sr=8-14',\n",
       " 'https://www.amazon.in/Juarez-JRZ-ST01-6-String-Electric-Without/dp/B01FYZSOGM/ref=sr_1_15?crid=1570UROUGX04&dib=eyJ2IjoiMSJ9.wTmZbjEKHhyWxxfGK0FysKpyq5ESDlKtrk8PpwqXEN31EvXlFfPGE1koeqdIZFsmefWaY2IVCymofQ8ZDT3I_UsbNN-BwJVicACOlEbOE8ycbJ1rcAq6FEum_02uKi1h-quQ4AnIQaFI-L8Lef3f9bzvduZg2FS5HzwlyG5AwBuboONoBDsCXTDOYVZD71Iw_cJ3Zm8GRdvPmgj9PBrHhv2XoxCkuhdJFIlREZeNDdL4sAOM5M_X5_eHc8Dv1Mlzh50BS5KEbWU0I449IIiiwagdPQR1PKZdqYDDwkL61K0.8dZ9fJa0OqTVv6WPIFPdktIDpdzVh5gDfMfDsO6KOyI&dib_tag=se&keywords=Guitar&qid=1711584681&sprefix=guit%2Caps%2C281&sr=8-15',\n",
       " 'https://www.amazon.in/Yamaha-Acoustic-Guitar-Tobacco-Sunburst/dp/B08VXR74Q2/ref=sr_1_16?crid=1570UROUGX04&dib=eyJ2IjoiMSJ9.wTmZbjEKHhyWxxfGK0FysKpyq5ESDlKtrk8PpwqXEN31EvXlFfPGE1koeqdIZFsmefWaY2IVCymofQ8ZDT3I_UsbNN-BwJVicACOlEbOE8ycbJ1rcAq6FEum_02uKi1h-quQ4AnIQaFI-L8Lef3f9bzvduZg2FS5HzwlyG5AwBuboONoBDsCXTDOYVZD71Iw_cJ3Zm8GRdvPmgj9PBrHhv2XoxCkuhdJFIlREZeNDdL4sAOM5M_X5_eHc8Dv1Mlzh50BS5KEbWU0I449IIiiwagdPQR1PKZdqYDDwkL61K0.8dZ9fJa0OqTVv6WPIFPdktIDpdzVh5gDfMfDsO6KOyI&dib_tag=se&keywords=Guitar&qid=1711584681&sprefix=guit%2Caps%2C281&sr=8-16',\n",
       " 'https://www.amazon.in/Ultimate-Concert-Cutaway-Acoustic-Bajaao/dp/B08WHWKKV5/ref=sr_1_17?crid=1570UROUGX04&dib=eyJ2IjoiMSJ9.wTmZbjEKHhyWxxfGK0FysKpyq5ESDlKtrk8PpwqXEN31EvXlFfPGE1koeqdIZFsmefWaY2IVCymofQ8ZDT3I_UsbNN-BwJVicACOlEbOE8ycbJ1rcAq6FEum_02uKi1h-quQ4AnIQaFI-L8Lef3f9bzvduZg2FS5HzwlyG5AwBuboONoBDsCXTDOYVZD71Iw_cJ3Zm8GRdvPmgj9PBrHhv2XoxCkuhdJFIlREZeNDdL4sAOM5M_X5_eHc8Dv1Mlzh50BS5KEbWU0I449IIiiwagdPQR1PKZdqYDDwkL61K0.8dZ9fJa0OqTVv6WPIFPdktIDpdzVh5gDfMfDsO6KOyI&dib_tag=se&keywords=Guitar&qid=1711584681&sprefix=guit%2Caps%2C281&sr=8-17',\n",
       " 'https://www.amazon.in/Kadence-Frontier-Acoustic-Guitar-Strings/dp/B01CJJG328/ref=sr_1_18?crid=1570UROUGX04&dib=eyJ2IjoiMSJ9.wTmZbjEKHhyWxxfGK0FysKpyq5ESDlKtrk8PpwqXEN31EvXlFfPGE1koeqdIZFsmefWaY2IVCymofQ8ZDT3I_UsbNN-BwJVicACOlEbOE8ycbJ1rcAq6FEum_02uKi1h-quQ4AnIQaFI-L8Lef3f9bzvduZg2FS5HzwlyG5AwBuboONoBDsCXTDOYVZD71Iw_cJ3Zm8GRdvPmgj9PBrHhv2XoxCkuhdJFIlREZeNDdL4sAOM5M_X5_eHc8Dv1Mlzh50BS5KEbWU0I449IIiiwagdPQR1PKZdqYDDwkL61K0.8dZ9fJa0OqTVv6WPIFPdktIDpdzVh5gDfMfDsO6KOyI&dib_tag=se&keywords=Guitar&qid=1711584681&sprefix=guit%2Caps%2C281&sr=8-18',\n",
       " 'https://www.amazon.in/Fender-CD-60S-Dreadnought-Acoustic-Guitar/dp/B07FYBLG93/ref=sr_1_19?crid=1570UROUGX04&dib=eyJ2IjoiMSJ9.wTmZbjEKHhyWxxfGK0FysKpyq5ESDlKtrk8PpwqXEN31EvXlFfPGE1koeqdIZFsmefWaY2IVCymofQ8ZDT3I_UsbNN-BwJVicACOlEbOE8ycbJ1rcAq6FEum_02uKi1h-quQ4AnIQaFI-L8Lef3f9bzvduZg2FS5HzwlyG5AwBuboONoBDsCXTDOYVZD71Iw_cJ3Zm8GRdvPmgj9PBrHhv2XoxCkuhdJFIlREZeNDdL4sAOM5M_X5_eHc8Dv1Mlzh50BS5KEbWU0I449IIiiwagdPQR1PKZdqYDDwkL61K0.8dZ9fJa0OqTVv6WPIFPdktIDpdzVh5gDfMfDsO6KOyI&dib_tag=se&keywords=Guitar&qid=1711584681&sprefix=guit%2Caps%2C281&sr=8-19',\n",
       " 'https://www.amazon.in/Juarez-Acoustic-Guitar-Cutaway-Strings/dp/B076QHZ4HZ/ref=sr_1_20?crid=1570UROUGX04&dib=eyJ2IjoiMSJ9.wTmZbjEKHhyWxxfGK0FysKpyq5ESDlKtrk8PpwqXEN31EvXlFfPGE1koeqdIZFsmefWaY2IVCymofQ8ZDT3I_UsbNN-BwJVicACOlEbOE8ycbJ1rcAq6FEum_02uKi1h-quQ4AnIQaFI-L8Lef3f9bzvduZg2FS5HzwlyG5AwBuboONoBDsCXTDOYVZD71Iw_cJ3Zm8GRdvPmgj9PBrHhv2XoxCkuhdJFIlREZeNDdL4sAOM5M_X5_eHc8Dv1Mlzh50BS5KEbWU0I449IIiiwagdPQR1PKZdqYDDwkL61K0.8dZ9fJa0OqTVv6WPIFPdktIDpdzVh5gDfMfDsO6KOyI&dib_tag=se&keywords=Guitar&qid=1711584681&sprefix=guit%2Caps%2C281&sr=8-20',\n",
       " 'https://www.amazon.in/sspa/click?ie=UTF8&spc=MToyOTQ4NzQ2NzEwNDE4MDg3OjE3MTE1ODQ2ODE6c3BfbXRmOjMwMDE0MzEwNjQ5NjAzMjo6MDo6&url=%2FMOCKING-BIRD-Beginners-instrument-professional%2Fdp%2FB0CR9XH4QH%2Fref%3Dsr_1_21_sspa%3Fcrid%3D1570UROUGX04%26dib%3DeyJ2IjoiMSJ9.wTmZbjEKHhyWxxfGK0FysKpyq5ESDlKtrk8PpwqXEN31EvXlFfPGE1koeqdIZFsmefWaY2IVCymofQ8ZDT3I_UsbNN-BwJVicACOlEbOE8ycbJ1rcAq6FEum_02uKi1h-quQ4AnIQaFI-L8Lef3f9bzvduZg2FS5HzwlyG5AwBuboONoBDsCXTDOYVZD71Iw_cJ3Zm8GRdvPmgj9PBrHhv2XoxCkuhdJFIlREZeNDdL4sAOM5M_X5_eHc8Dv1Mlzh50BS5KEbWU0I449IIiiwagdPQR1PKZdqYDDwkL61K0.8dZ9fJa0OqTVv6WPIFPdktIDpdzVh5gDfMfDsO6KOyI%26dib_tag%3Dse%26keywords%3DGuitar%26qid%3D1711584681%26sprefix%3Dguit%252Caps%252C281%26sr%3D8-21-spons%26sp_csd%3Dd2lkZ2V0TmFtZT1zcF9tdGY%26psc%3D1',\n",
       " 'https://www.amazon.in/sspa/click?ie=UTF8&spc=MToyOTQ4NzQ2NzEwNDE4MDg3OjE3MTE1ODQ2ODE6c3BfbXRmOjMwMDE1MTIzNjcwODQzMjo6MDo6&url=%2FJu%25C3%25A2rez-JRZ38C-WH-Strings-Acoustic%2Fdp%2FB072MFK4L6%2Fref%3Dsr_1_22_sspa%3Fcrid%3D1570UROUGX04%26dib%3DeyJ2IjoiMSJ9.wTmZbjEKHhyWxxfGK0FysKpyq5ESDlKtrk8PpwqXEN31EvXlFfPGE1koeqdIZFsmefWaY2IVCymofQ8ZDT3I_UsbNN-BwJVicACOlEbOE8ycbJ1rcAq6FEum_02uKi1h-quQ4AnIQaFI-L8Lef3f9bzvduZg2FS5HzwlyG5AwBuboONoBDsCXTDOYVZD71Iw_cJ3Zm8GRdvPmgj9PBrHhv2XoxCkuhdJFIlREZeNDdL4sAOM5M_X5_eHc8Dv1Mlzh50BS5KEbWU0I449IIiiwagdPQR1PKZdqYDDwkL61K0.8dZ9fJa0OqTVv6WPIFPdktIDpdzVh5gDfMfDsO6KOyI%26dib_tag%3Dse%26keywords%3DGuitar%26qid%3D1711584681%26sprefix%3Dguit%252Caps%252C281%26sr%3D8-22-spons%26sp_csd%3Dd2lkZ2V0TmFtZT1zcF9tdGY%26psc%3D1',\n",
       " 'https://www.amazon.in/sspa/click?ie=UTF8&spc=MToyOTQ4NzQ2NzEwNDE4MDg3OjE3MTE1ODQ2ODE6c3BfbXRmOjMwMDExMzg5MzQwMjEzMjo6MDo6&url=%2FDEVICE-URBAN-INFOTECH-Beginners-Guitarists%2Fdp%2FB0CR7DPXQN%2Fref%3Dsr_1_23_sspa%3Fcrid%3D1570UROUGX04%26dib%3DeyJ2IjoiMSJ9.wTmZbjEKHhyWxxfGK0FysKpyq5ESDlKtrk8PpwqXEN31EvXlFfPGE1koeqdIZFsmefWaY2IVCymofQ8ZDT3I_UsbNN-BwJVicACOlEbOE8ycbJ1rcAq6FEum_02uKi1h-quQ4AnIQaFI-L8Lef3f9bzvduZg2FS5HzwlyG5AwBuboONoBDsCXTDOYVZD71Iw_cJ3Zm8GRdvPmgj9PBrHhv2XoxCkuhdJFIlREZeNDdL4sAOM5M_X5_eHc8Dv1Mlzh50BS5KEbWU0I449IIiiwagdPQR1PKZdqYDDwkL61K0.8dZ9fJa0OqTVv6WPIFPdktIDpdzVh5gDfMfDsO6KOyI%26dib_tag%3Dse%26keywords%3DGuitar%26qid%3D1711584681%26sprefix%3Dguit%252Caps%252C281%26sr%3D8-23-spons%26sp_csd%3Dd2lkZ2V0TmFtZT1zcF9tdGY%26psc%3D1',\n",
       " 'https://www.amazon.in/sspa/click?ie=UTF8&spc=MToyOTQ4NzQ2NzEwNDE4MDg3OjE3MTE1ODQ2ODE6c3BfbXRmOjIwMDU3MTkzMDU2MjA0OjowOjo&url=%2FKadence-Slowhand-Premium-Acoustic-Instrument%2Fdp%2FB077SZ667X%2Fref%3Dsr_1_24_sspa%3Fcrid%3D1570UROUGX04%26dib%3DeyJ2IjoiMSJ9.wTmZbjEKHhyWxxfGK0FysKpyq5ESDlKtrk8PpwqXEN31EvXlFfPGE1koeqdIZFsmefWaY2IVCymofQ8ZDT3I_UsbNN-BwJVicACOlEbOE8ycbJ1rcAq6FEum_02uKi1h-quQ4AnIQaFI-L8Lef3f9bzvduZg2FS5HzwlyG5AwBuboONoBDsCXTDOYVZD71Iw_cJ3Zm8GRdvPmgj9PBrHhv2XoxCkuhdJFIlREZeNDdL4sAOM5M_X5_eHc8Dv1Mlzh50BS5KEbWU0I449IIiiwagdPQR1PKZdqYDDwkL61K0.8dZ9fJa0OqTVv6WPIFPdktIDpdzVh5gDfMfDsO6KOyI%26dib_tag%3Dse%26keywords%3DGuitar%26qid%3D1711584681%26sprefix%3Dguit%252Caps%252C281%26sr%3D8-24-spons%26sp_csd%3Dd2lkZ2V0TmFtZT1zcF9tdGY%26psc%3D1',\n",
       " 'https://www.amazon.in/Cort-SFX-MEM-Electro-Acoustic-Guitar/dp/B0915ZCZWK/ref=sr_1_25?crid=1570UROUGX04&dib=eyJ2IjoiMSJ9.wTmZbjEKHhyWxxfGK0FysKpyq5ESDlKtrk8PpwqXEN31EvXlFfPGE1koeqdIZFsmefWaY2IVCymofQ8ZDT3I_UsbNN-BwJVicACOlEbOE8ycbJ1rcAq6FEum_02uKi1h-quQ4AnIQaFI-L8Lef3f9bzvduZg2FS5HzwlyG5AwBuboONoBDsCXTDOYVZD71Iw_cJ3Zm8GRdvPmgj9PBrHhv2XoxCkuhdJFIlREZeNDdL4sAOM5M_X5_eHc8Dv1Mlzh50BS5KEbWU0I449IIiiwagdPQR1PKZdqYDDwkL61K0.8dZ9fJa0OqTVv6WPIFPdktIDpdzVh5gDfMfDsO6KOyI&dib_tag=se&keywords=Guitar&qid=1711584681&sprefix=guit%2Caps%2C281&sr=8-25',\n",
       " 'https://www.amazon.in/Acoustic-Plectrums-Beginner-Learners-configuration/dp/B0B4SSB8BJ/ref=sr_1_26?crid=1570UROUGX04&dib=eyJ2IjoiMSJ9.wTmZbjEKHhyWxxfGK0FysKpyq5ESDlKtrk8PpwqXEN31EvXlFfPGE1koeqdIZFsmefWaY2IVCymofQ8ZDT3I_UsbNN-BwJVicACOlEbOE8ycbJ1rcAq6FEum_02uKi1h-quQ4AnIQaFI-L8Lef3f9bzvduZg2FS5HzwlyG5AwBuboONoBDsCXTDOYVZD71Iw_cJ3Zm8GRdvPmgj9PBrHhv2XoxCkuhdJFIlREZeNDdL4sAOM5M_X5_eHc8Dv1Mlzh50BS5KEbWU0I449IIiiwagdPQR1PKZdqYDDwkL61K0.8dZ9fJa0OqTVv6WPIFPdktIDpdzVh5gDfMfDsO6KOyI&dib_tag=se&keywords=Guitar&qid=1711584681&sprefix=guit%2Caps%2C281&sr=8-26',\n",
       " 'https://www.amazon.in/Intern-INT-38C-Acoustic-Guitar-Kit/dp/B073B6TF31/ref=sr_1_27?crid=1570UROUGX04&dib=eyJ2IjoiMSJ9.wTmZbjEKHhyWxxfGK0FysKpyq5ESDlKtrk8PpwqXEN31EvXlFfPGE1koeqdIZFsmefWaY2IVCymofQ8ZDT3I_UsbNN-BwJVicACOlEbOE8ycbJ1rcAq6FEum_02uKi1h-quQ4AnIQaFI-L8Lef3f9bzvduZg2FS5HzwlyG5AwBuboONoBDsCXTDOYVZD71Iw_cJ3Zm8GRdvPmgj9PBrHhv2XoxCkuhdJFIlREZeNDdL4sAOM5M_X5_eHc8Dv1Mlzh50BS5KEbWU0I449IIiiwagdPQR1PKZdqYDDwkL61K0.8dZ9fJa0OqTVv6WPIFPdktIDpdzVh5gDfMfDsO6KOyI&dib_tag=se&keywords=Guitar&qid=1711584681&sprefix=guit%2Caps%2C281&sr=8-27',\n",
       " 'https://www.amazon.in/BLUEBERRY-B-38C-Acoustic-Guitar-Strings/dp/B0CNLKXVL5/ref=sr_1_28?crid=1570UROUGX04&dib=eyJ2IjoiMSJ9.wTmZbjEKHhyWxxfGK0FysKpyq5ESDlKtrk8PpwqXEN31EvXlFfPGE1koeqdIZFsmefWaY2IVCymofQ8ZDT3I_UsbNN-BwJVicACOlEbOE8ycbJ1rcAq6FEum_02uKi1h-quQ4AnIQaFI-L8Lef3f9bzvduZg2FS5HzwlyG5AwBuboONoBDsCXTDOYVZD71Iw_cJ3Zm8GRdvPmgj9PBrHhv2XoxCkuhdJFIlREZeNDdL4sAOM5M_X5_eHc8Dv1Mlzh50BS5KEbWU0I449IIiiwagdPQR1PKZdqYDDwkL61K0.8dZ9fJa0OqTVv6WPIFPdktIDpdzVh5gDfMfDsO6KOyI&dib_tag=se&keywords=Guitar&qid=1711584681&sprefix=guit%2Caps%2C281&sr=8-28',\n",
       " 'https://www.amazon.in/Kadence-Frontier-Acoustic-Guitar-Strings/dp/B078GTJP5Y/ref=sr_1_29?crid=1570UROUGX04&dib=eyJ2IjoiMSJ9.wTmZbjEKHhyWxxfGK0FysKpyq5ESDlKtrk8PpwqXEN31EvXlFfPGE1koeqdIZFsmefWaY2IVCymofQ8ZDT3I_UsbNN-BwJVicACOlEbOE8ycbJ1rcAq6FEum_02uKi1h-quQ4AnIQaFI-L8Lef3f9bzvduZg2FS5HzwlyG5AwBuboONoBDsCXTDOYVZD71Iw_cJ3Zm8GRdvPmgj9PBrHhv2XoxCkuhdJFIlREZeNDdL4sAOM5M_X5_eHc8Dv1Mlzh50BS5KEbWU0I449IIiiwagdPQR1PKZdqYDDwkL61K0.8dZ9fJa0OqTVv6WPIFPdktIDpdzVh5gDfMfDsO6KOyI&dib_tag=se&keywords=Guitar&qid=1711584681&sprefix=guit%2Caps%2C281&sr=8-29',\n",
       " 'https://www.amazon.in/Yamaha-Classical-Guitar-C40-02/dp/B003UGCUFE/ref=sr_1_30?crid=1570UROUGX04&dib=eyJ2IjoiMSJ9.wTmZbjEKHhyWxxfGK0FysKpyq5ESDlKtrk8PpwqXEN31EvXlFfPGE1koeqdIZFsmefWaY2IVCymofQ8ZDT3I_UsbNN-BwJVicACOlEbOE8ycbJ1rcAq6FEum_02uKi1h-quQ4AnIQaFI-L8Lef3f9bzvduZg2FS5HzwlyG5AwBuboONoBDsCXTDOYVZD71Iw_cJ3Zm8GRdvPmgj9PBrHhv2XoxCkuhdJFIlREZeNDdL4sAOM5M_X5_eHc8Dv1Mlzh50BS5KEbWU0I449IIiiwagdPQR1PKZdqYDDwkL61K0.8dZ9fJa0OqTVv6WPIFPdktIDpdzVh5gDfMfDsO6KOyI&dib_tag=se&keywords=Guitar&qid=1711584681&sprefix=guit%2Caps%2C281&sr=8-30',\n",
       " 'https://www.amazon.in/JUAREZ-JRZ38C-TBLSNA/dp/B0BCQKQ6CS/ref=sr_1_31?crid=1570UROUGX04&dib=eyJ2IjoiMSJ9.wTmZbjEKHhyWxxfGK0FysKpyq5ESDlKtrk8PpwqXEN31EvXlFfPGE1koeqdIZFsmefWaY2IVCymofQ8ZDT3I_UsbNN-BwJVicACOlEbOE8ycbJ1rcAq6FEum_02uKi1h-quQ4AnIQaFI-L8Lef3f9bzvduZg2FS5HzwlyG5AwBuboONoBDsCXTDOYVZD71Iw_cJ3Zm8GRdvPmgj9PBrHhv2XoxCkuhdJFIlREZeNDdL4sAOM5M_X5_eHc8Dv1Mlzh50BS5KEbWU0I449IIiiwagdPQR1PKZdqYDDwkL61K0.8dZ9fJa0OqTVv6WPIFPdktIDpdzVh5gDfMfDsO6KOyI&dib_tag=se&keywords=Guitar&qid=1711584681&sprefix=guit%2Caps%2C281&sr=8-31',\n",
       " 'https://www.amazon.in/Kadence-Acoustica-Acoustic-Guitar-Zebra/dp/B07KXNKLJ2/ref=sr_1_32?crid=1570UROUGX04&dib=eyJ2IjoiMSJ9.wTmZbjEKHhyWxxfGK0FysKpyq5ESDlKtrk8PpwqXEN31EvXlFfPGE1koeqdIZFsmefWaY2IVCymofQ8ZDT3I_UsbNN-BwJVicACOlEbOE8ycbJ1rcAq6FEum_02uKi1h-quQ4AnIQaFI-L8Lef3f9bzvduZg2FS5HzwlyG5AwBuboONoBDsCXTDOYVZD71Iw_cJ3Zm8GRdvPmgj9PBrHhv2XoxCkuhdJFIlREZeNDdL4sAOM5M_X5_eHc8Dv1Mlzh50BS5KEbWU0I449IIiiwagdPQR1PKZdqYDDwkL61K0.8dZ9fJa0OqTVv6WPIFPdktIDpdzVh5gDfMfDsO6KOyI&dib_tag=se&keywords=Guitar&qid=1711584681&sprefix=guit%2Caps%2C281&sr=8-32',\n",
       " 'https://www.amazon.in/PS-Signature-41inch-Acoustic-Strings/dp/B0CGXL3VKG/ref=sr_1_33?crid=1570UROUGX04&dib=eyJ2IjoiMSJ9.wTmZbjEKHhyWxxfGK0FysKpyq5ESDlKtrk8PpwqXEN31EvXlFfPGE1koeqdIZFsmefWaY2IVCymofQ8ZDT3I_UsbNN-BwJVicACOlEbOE8ycbJ1rcAq6FEum_02uKi1h-quQ4AnIQaFI-L8Lef3f9bzvduZg2FS5HzwlyG5AwBuboONoBDsCXTDOYVZD71Iw_cJ3Zm8GRdvPmgj9PBrHhv2XoxCkuhdJFIlREZeNDdL4sAOM5M_X5_eHc8Dv1Mlzh50BS5KEbWU0I449IIiiwagdPQR1PKZdqYDDwkL61K0.8dZ9fJa0OqTVv6WPIFPdktIDpdzVh5gDfMfDsO6KOyI&dib_tag=se&keywords=Guitar&qid=1711584681&sprefix=guit%2Caps%2C281&sr=8-33',\n",
       " 'https://www.amazon.in/JUAREZ-JRZ38C-Acoustic-Natural-Strings/dp/B01FYYTDWC/ref=sr_1_34?crid=1570UROUGX04&dib=eyJ2IjoiMSJ9.wTmZbjEKHhyWxxfGK0FysKpyq5ESDlKtrk8PpwqXEN31EvXlFfPGE1koeqdIZFsmefWaY2IVCymofQ8ZDT3I_UsbNN-BwJVicACOlEbOE8ycbJ1rcAq6FEum_02uKi1h-quQ4AnIQaFI-L8Lef3f9bzvduZg2FS5HzwlyG5AwBuboONoBDsCXTDOYVZD71Iw_cJ3Zm8GRdvPmgj9PBrHhv2XoxCkuhdJFIlREZeNDdL4sAOM5M_X5_eHc8Dv1Mlzh50BS5KEbWU0I449IIiiwagdPQR1PKZdqYDDwkL61K0.8dZ9fJa0OqTVv6WPIFPdktIDpdzVh5gDfMfDsO6KOyI&dib_tag=se&keywords=Guitar&qid=1711584681&sprefix=guit%2Caps%2C281&sr=8-34',\n",
       " 'https://www.amazon.in/FS80C-Acoustic-Cutaway-Concert-Plectrums/dp/B08XVV1WH7/ref=sr_1_35?crid=1570UROUGX04&dib=eyJ2IjoiMSJ9.wTmZbjEKHhyWxxfGK0FysKpyq5ESDlKtrk8PpwqXEN31EvXlFfPGE1koeqdIZFsmefWaY2IVCymofQ8ZDT3I_UsbNN-BwJVicACOlEbOE8ycbJ1rcAq6FEum_02uKi1h-quQ4AnIQaFI-L8Lef3f9bzvduZg2FS5HzwlyG5AwBuboONoBDsCXTDOYVZD71Iw_cJ3Zm8GRdvPmgj9PBrHhv2XoxCkuhdJFIlREZeNDdL4sAOM5M_X5_eHc8Dv1Mlzh50BS5KEbWU0I449IIiiwagdPQR1PKZdqYDDwkL61K0.8dZ9fJa0OqTVv6WPIFPdktIDpdzVh5gDfMfDsO6KOyI&dib_tag=se&keywords=Guitar&qid=1711584681&sprefix=guit%2Caps%2C281&sr=8-35',\n",
       " 'https://www.amazon.in/Strings-Straps-String-winder-Polishing/dp/B07RV9FJ2Z/ref=sr_1_36?crid=1570UROUGX04&dib=eyJ2IjoiMSJ9.wTmZbjEKHhyWxxfGK0FysKpyq5ESDlKtrk8PpwqXEN31EvXlFfPGE1koeqdIZFsmefWaY2IVCymofQ8ZDT3I_UsbNN-BwJVicACOlEbOE8ycbJ1rcAq6FEum_02uKi1h-quQ4AnIQaFI-L8Lef3f9bzvduZg2FS5HzwlyG5AwBuboONoBDsCXTDOYVZD71Iw_cJ3Zm8GRdvPmgj9PBrHhv2XoxCkuhdJFIlREZeNDdL4sAOM5M_X5_eHc8Dv1Mlzh50BS5KEbWU0I449IIiiwagdPQR1PKZdqYDDwkL61K0.8dZ9fJa0OqTVv6WPIFPdktIDpdzVh5gDfMfDsO6KOyI&dib_tag=se&keywords=Guitar&qid=1711584681&sprefix=guit%2Caps%2C281&sr=8-36',\n",
       " 'https://www.amazon.in/Juarez-Acoustic-Guitar-Cutaway-JRZ38CT/dp/B01N3TTYJQ/ref=sr_1_37?crid=1570UROUGX04&dib=eyJ2IjoiMSJ9.wTmZbjEKHhyWxxfGK0FysKpyq5ESDlKtrk8PpwqXEN31EvXlFfPGE1koeqdIZFsmefWaY2IVCymofQ8ZDT3I_UsbNN-BwJVicACOlEbOE8ycbJ1rcAq6FEum_02uKi1h-quQ4AnIQaFI-L8Lef3f9bzvduZg2FS5HzwlyG5AwBuboONoBDsCXTDOYVZD71Iw_cJ3Zm8GRdvPmgj9PBrHhv2XoxCkuhdJFIlREZeNDdL4sAOM5M_X5_eHc8Dv1Mlzh50BS5KEbWU0I449IIiiwagdPQR1PKZdqYDDwkL61K0.8dZ9fJa0OqTVv6WPIFPdktIDpdzVh5gDfMfDsO6KOyI&dib_tag=se&keywords=Guitar&qid=1711584681&sprefix=guit%2Caps%2C281&sr=8-37',\n",
       " 'https://www.amazon.in/YAMAHA-FS80C-CONCERT-CUTAWAY-GUITAR/dp/B08WBBVMVJ/ref=sr_1_38?crid=1570UROUGX04&dib=eyJ2IjoiMSJ9.wTmZbjEKHhyWxxfGK0FysKpyq5ESDlKtrk8PpwqXEN31EvXlFfPGE1koeqdIZFsmefWaY2IVCymofQ8ZDT3I_UsbNN-BwJVicACOlEbOE8ycbJ1rcAq6FEum_02uKi1h-quQ4AnIQaFI-L8Lef3f9bzvduZg2FS5HzwlyG5AwBuboONoBDsCXTDOYVZD71Iw_cJ3Zm8GRdvPmgj9PBrHhv2XoxCkuhdJFIlREZeNDdL4sAOM5M_X5_eHc8Dv1Mlzh50BS5KEbWU0I449IIiiwagdPQR1PKZdqYDDwkL61K0.8dZ9fJa0OqTVv6WPIFPdktIDpdzVh5gDfMfDsO6KOyI&dib_tag=se&keywords=Guitar&qid=1711584681&sprefix=guit%2Caps%2C281&sr=8-38',\n",
       " 'https://www.amazon.in/Medellin-Acoustic-Guitar-learning-Strings/dp/B0CCNSN9BV/ref=sr_1_39?crid=1570UROUGX04&dib=eyJ2IjoiMSJ9.wTmZbjEKHhyWxxfGK0FysKpyq5ESDlKtrk8PpwqXEN31EvXlFfPGE1koeqdIZFsmefWaY2IVCymofQ8ZDT3I_UsbNN-BwJVicACOlEbOE8ycbJ1rcAq6FEum_02uKi1h-quQ4AnIQaFI-L8Lef3f9bzvduZg2FS5HzwlyG5AwBuboONoBDsCXTDOYVZD71Iw_cJ3Zm8GRdvPmgj9PBrHhv2XoxCkuhdJFIlREZeNDdL4sAOM5M_X5_eHc8Dv1Mlzh50BS5KEbWU0I449IIiiwagdPQR1PKZdqYDDwkL61K0.8dZ9fJa0OqTVv6WPIFPdktIDpdzVh5gDfMfDsO6KOyI&dib_tag=se&keywords=Guitar&qid=1711584681&sprefix=guit%2Caps%2C281&sr=8-39',\n",
       " 'https://www.amazon.in/Blueberry-38C-Acoustic-Guitar-Strings/dp/B08KLMV4XX/ref=sr_1_40?crid=1570UROUGX04&dib=eyJ2IjoiMSJ9.wTmZbjEKHhyWxxfGK0FysKpyq5ESDlKtrk8PpwqXEN31EvXlFfPGE1koeqdIZFsmefWaY2IVCymofQ8ZDT3I_UsbNN-BwJVicACOlEbOE8ycbJ1rcAq6FEum_02uKi1h-quQ4AnIQaFI-L8Lef3f9bzvduZg2FS5HzwlyG5AwBuboONoBDsCXTDOYVZD71Iw_cJ3Zm8GRdvPmgj9PBrHhv2XoxCkuhdJFIlREZeNDdL4sAOM5M_X5_eHc8Dv1Mlzh50BS5KEbWU0I449IIiiwagdPQR1PKZdqYDDwkL61K0.8dZ9fJa0OqTVv6WPIFPdktIDpdzVh5gDfMfDsO6KOyI&dib_tag=se&keywords=Guitar&qid=1711584681&sprefix=guit%2Caps%2C281&sr=8-40',\n",
       " 'https://www.amazon.in/Yamaha-FS-100C-6-String-Acoustic-without/dp/B00PAS9CK6/ref=sr_1_41?crid=1570UROUGX04&dib=eyJ2IjoiMSJ9.wTmZbjEKHhyWxxfGK0FysKpyq5ESDlKtrk8PpwqXEN31EvXlFfPGE1koeqdIZFsmefWaY2IVCymofQ8ZDT3I_UsbNN-BwJVicACOlEbOE8ycbJ1rcAq6FEum_02uKi1h-quQ4AnIQaFI-L8Lef3f9bzvduZg2FS5HzwlyG5AwBuboONoBDsCXTDOYVZD71Iw_cJ3Zm8GRdvPmgj9PBrHhv2XoxCkuhdJFIlREZeNDdL4sAOM5M_X5_eHc8Dv1Mlzh50BS5KEbWU0I449IIiiwagdPQR1PKZdqYDDwkL61K0.8dZ9fJa0OqTVv6WPIFPdktIDpdzVh5gDfMfDsO6KOyI&dib_tag=se&keywords=Guitar&qid=1711584681&sprefix=guit%2Caps%2C281&sr=8-41',\n",
       " 'https://www.amazon.in/NOVA-SP1-Acoustic-AcousticPlus-Instrument/dp/B0BHZFCVL3/ref=sr_1_42?crid=1570UROUGX04&dib=eyJ2IjoiMSJ9.wTmZbjEKHhyWxxfGK0FysKpyq5ESDlKtrk8PpwqXEN31EvXlFfPGE1koeqdIZFsmefWaY2IVCymofQ8ZDT3I_UsbNN-BwJVicACOlEbOE8ycbJ1rcAq6FEum_02uKi1h-quQ4AnIQaFI-L8Lef3f9bzvduZg2FS5HzwlyG5AwBuboONoBDsCXTDOYVZD71Iw_cJ3Zm8GRdvPmgj9PBrHhv2XoxCkuhdJFIlREZeNDdL4sAOM5M_X5_eHc8Dv1Mlzh50BS5KEbWU0I449IIiiwagdPQR1PKZdqYDDwkL61K0.8dZ9fJa0OqTVv6WPIFPdktIDpdzVh5gDfMfDsO6KOyI&dib_tag=se&keywords=Guitar&qid=1711584681&sprefix=guit%2Caps%2C281&sr=8-42',\n",
       " 'https://www.amazon.in/Yamaha-FSX80C-Acoustic-Cutaway-Guitar/dp/B09HL5WFDX/ref=sr_1_43?crid=1570UROUGX04&dib=eyJ2IjoiMSJ9.wTmZbjEKHhyWxxfGK0FysKpyq5ESDlKtrk8PpwqXEN31EvXlFfPGE1koeqdIZFsmefWaY2IVCymofQ8ZDT3I_UsbNN-BwJVicACOlEbOE8ycbJ1rcAq6FEum_02uKi1h-quQ4AnIQaFI-L8Lef3f9bzvduZg2FS5HzwlyG5AwBuboONoBDsCXTDOYVZD71Iw_cJ3Zm8GRdvPmgj9PBrHhv2XoxCkuhdJFIlREZeNDdL4sAOM5M_X5_eHc8Dv1Mlzh50BS5KEbWU0I449IIiiwagdPQR1PKZdqYDDwkL61K0.8dZ9fJa0OqTVv6WPIFPdktIDpdzVh5gDfMfDsO6KOyI&dib_tag=se&keywords=Guitar&qid=1711584681&sprefix=guit%2Caps%2C281&sr=8-43',\n",
       " 'https://www.amazon.in/PS-Signature-RoseWood-Acoustic-Strings/dp/B0CK9822R4/ref=sr_1_44?crid=1570UROUGX04&dib=eyJ2IjoiMSJ9.wTmZbjEKHhyWxxfGK0FysKpyq5ESDlKtrk8PpwqXEN31EvXlFfPGE1koeqdIZFsmefWaY2IVCymofQ8ZDT3I_UsbNN-BwJVicACOlEbOE8ycbJ1rcAq6FEum_02uKi1h-quQ4AnIQaFI-L8Lef3f9bzvduZg2FS5HzwlyG5AwBuboONoBDsCXTDOYVZD71Iw_cJ3Zm8GRdvPmgj9PBrHhv2XoxCkuhdJFIlREZeNDdL4sAOM5M_X5_eHc8Dv1Mlzh50BS5KEbWU0I449IIiiwagdPQR1PKZdqYDDwkL61K0.8dZ9fJa0OqTVv6WPIFPdktIDpdzVh5gDfMfDsO6KOyI&dib_tag=se&keywords=Guitar&qid=1711584681&sprefix=guit%2Caps%2C281&sr=8-44',\n",
       " 'https://www.amazon.in/JUAREZ-JRZ38C-BKNA/dp/B0BCQNVPRB/ref=sr_1_45?crid=1570UROUGX04&dib=eyJ2IjoiMSJ9.wTmZbjEKHhyWxxfGK0FysKpyq5ESDlKtrk8PpwqXEN31EvXlFfPGE1koeqdIZFsmefWaY2IVCymofQ8ZDT3I_UsbNN-BwJVicACOlEbOE8ycbJ1rcAq6FEum_02uKi1h-quQ4AnIQaFI-L8Lef3f9bzvduZg2FS5HzwlyG5AwBuboONoBDsCXTDOYVZD71Iw_cJ3Zm8GRdvPmgj9PBrHhv2XoxCkuhdJFIlREZeNDdL4sAOM5M_X5_eHc8Dv1Mlzh50BS5KEbWU0I449IIiiwagdPQR1PKZdqYDDwkL61K0.8dZ9fJa0OqTVv6WPIFPdktIDpdzVh5gDfMfDsO6KOyI&dib_tag=se&keywords=Guitar&qid=1711584681&sprefix=guit%2Caps%2C281&sr=8-45',\n",
       " 'https://www.amazon.in/Blueberry-VIP-385-Acoustic-Basswood-Natural/dp/B0BVW7QCNC/ref=sr_1_46?crid=1570UROUGX04&dib=eyJ2IjoiMSJ9.wTmZbjEKHhyWxxfGK0FysKpyq5ESDlKtrk8PpwqXEN31EvXlFfPGE1koeqdIZFsmefWaY2IVCymofQ8ZDT3I_UsbNN-BwJVicACOlEbOE8ycbJ1rcAq6FEum_02uKi1h-quQ4AnIQaFI-L8Lef3f9bzvduZg2FS5HzwlyG5AwBuboONoBDsCXTDOYVZD71Iw_cJ3Zm8GRdvPmgj9PBrHhv2XoxCkuhdJFIlREZeNDdL4sAOM5M_X5_eHc8Dv1Mlzh50BS5KEbWU0I449IIiiwagdPQR1PKZdqYDDwkL61K0.8dZ9fJa0OqTVv6WPIFPdktIDpdzVh5gDfMfDsO6KOyI&dib_tag=se&keywords=Guitar&qid=1711584681&sprefix=guit%2Caps%2C281&sr=8-46',\n",
       " 'https://www.amazon.in/Yamaha-F310-6-Strings-Acoustic-Natural/dp/B000RVYW7E/ref=sr_1_47?crid=1570UROUGX04&dib=eyJ2IjoiMSJ9.wTmZbjEKHhyWxxfGK0FysKpyq5ESDlKtrk8PpwqXEN31EvXlFfPGE1koeqdIZFsmefWaY2IVCymofQ8ZDT3I_UsbNN-BwJVicACOlEbOE8ycbJ1rcAq6FEum_02uKi1h-quQ4AnIQaFI-L8Lef3f9bzvduZg2FS5HzwlyG5AwBuboONoBDsCXTDOYVZD71Iw_cJ3Zm8GRdvPmgj9PBrHhv2XoxCkuhdJFIlREZeNDdL4sAOM5M_X5_eHc8Dv1Mlzh50BS5KEbWU0I449IIiiwagdPQR1PKZdqYDDwkL61K0.8dZ9fJa0OqTVv6WPIFPdktIDpdzVh5gDfMfDsO6KOyI&dib_tag=se&keywords=Guitar&qid=1711584681&sprefix=guit%2Caps%2C281&sr=8-47',\n",
       " 'https://www.amazon.in/JUAREZ-JRZ38C-3TSNA/dp/B0BCQQRDF3/ref=sr_1_48?crid=1570UROUGX04&dib=eyJ2IjoiMSJ9.wTmZbjEKHhyWxxfGK0FysKpyq5ESDlKtrk8PpwqXEN31EvXlFfPGE1koeqdIZFsmefWaY2IVCymofQ8ZDT3I_UsbNN-BwJVicACOlEbOE8ycbJ1rcAq6FEum_02uKi1h-quQ4AnIQaFI-L8Lef3f9bzvduZg2FS5HzwlyG5AwBuboONoBDsCXTDOYVZD71Iw_cJ3Zm8GRdvPmgj9PBrHhv2XoxCkuhdJFIlREZeNDdL4sAOM5M_X5_eHc8Dv1Mlzh50BS5KEbWU0I449IIiiwagdPQR1PKZdqYDDwkL61K0.8dZ9fJa0OqTVv6WPIFPdktIDpdzVh5gDfMfDsO6KOyI&dib_tag=se&keywords=Guitar&qid=1711584681&sprefix=guit%2Caps%2C281&sr=8-48',\n",
       " 'https://www.amazon.in/Kadence-Slowhand-Premium-Acoustic-Instrument/dp/B077SZ667X/ref=sr_1_49?crid=1570UROUGX04&dib=eyJ2IjoiMSJ9.wTmZbjEKHhyWxxfGK0FysKpyq5ESDlKtrk8PpwqXEN31EvXlFfPGE1koeqdIZFsmefWaY2IVCymofQ8ZDT3I_UsbNN-BwJVicACOlEbOE8ycbJ1rcAq6FEum_02uKi1h-quQ4AnIQaFI-L8Lef3f9bzvduZg2FS5HzwlyG5AwBuboONoBDsCXTDOYVZD71Iw_cJ3Zm8GRdvPmgj9PBrHhv2XoxCkuhdJFIlREZeNDdL4sAOM5M_X5_eHc8Dv1Mlzh50BS5KEbWU0I449IIiiwagdPQR1PKZdqYDDwkL61K0.8dZ9fJa0OqTVv6WPIFPdktIDpdzVh5gDfMfDsO6KOyI&dib_tag=se&keywords=Guitar&qid=1711584681&sprefix=guit%2Caps%2C281&sr=8-49',\n",
       " 'https://www.amazon.in/Kadence-Professional-Acoustic-Rosewood-Natural/dp/B0CC927DLN/ref=sr_1_50?crid=1570UROUGX04&dib=eyJ2IjoiMSJ9.wTmZbjEKHhyWxxfGK0FysKpyq5ESDlKtrk8PpwqXEN31EvXlFfPGE1koeqdIZFsmefWaY2IVCymofQ8ZDT3I_UsbNN-BwJVicACOlEbOE8ycbJ1rcAq6FEum_02uKi1h-quQ4AnIQaFI-L8Lef3f9bzvduZg2FS5HzwlyG5AwBuboONoBDsCXTDOYVZD71Iw_cJ3Zm8GRdvPmgj9PBrHhv2XoxCkuhdJFIlREZeNDdL4sAOM5M_X5_eHc8Dv1Mlzh50BS5KEbWU0I449IIiiwagdPQR1PKZdqYDDwkL61K0.8dZ9fJa0OqTVv6WPIFPdktIDpdzVh5gDfMfDsO6KOyI&dib_tag=se&keywords=Guitar&qid=1711584681&sprefix=guit%2Caps%2C281&sr=8-50',\n",
       " 'https://www.amazon.in/Yamaha-Pacifica-PAC012-Electric-Guitar/dp/B00123DQT6/ref=sr_1_51?crid=1570UROUGX04&dib=eyJ2IjoiMSJ9.wTmZbjEKHhyWxxfGK0FysKpyq5ESDlKtrk8PpwqXEN31EvXlFfPGE1koeqdIZFsmefWaY2IVCymofQ8ZDT3I_UsbNN-BwJVicACOlEbOE8ycbJ1rcAq6FEum_02uKi1h-quQ4AnIQaFI-L8Lef3f9bzvduZg2FS5HzwlyG5AwBuboONoBDsCXTDOYVZD71Iw_cJ3Zm8GRdvPmgj9PBrHhv2XoxCkuhdJFIlREZeNDdL4sAOM5M_X5_eHc8Dv1Mlzh50BS5KEbWU0I449IIiiwagdPQR1PKZdqYDDwkL61K0.8dZ9fJa0OqTVv6WPIFPdktIDpdzVh5gDfMfDsO6KOyI&dib_tag=se&keywords=Guitar&qid=1711584681&sprefix=guit%2Caps%2C281&sr=8-51',\n",
       " 'https://www.amazon.in/Intern-INT-38C-BLS-G-Guitar-Kit-Blue/dp/B07K8YXTNW/ref=sr_1_52?crid=1570UROUGX04&dib=eyJ2IjoiMSJ9.wTmZbjEKHhyWxxfGK0FysKpyq5ESDlKtrk8PpwqXEN31EvXlFfPGE1koeqdIZFsmefWaY2IVCymofQ8ZDT3I_UsbNN-BwJVicACOlEbOE8ycbJ1rcAq6FEum_02uKi1h-quQ4AnIQaFI-L8Lef3f9bzvduZg2FS5HzwlyG5AwBuboONoBDsCXTDOYVZD71Iw_cJ3Zm8GRdvPmgj9PBrHhv2XoxCkuhdJFIlREZeNDdL4sAOM5M_X5_eHc8Dv1Mlzh50BS5KEbWU0I449IIiiwagdPQR1PKZdqYDDwkL61K0.8dZ9fJa0OqTVv6WPIFPdktIDpdzVh5gDfMfDsO6KOyI&dib_tag=se&keywords=Guitar&qid=1711584681&sprefix=guit%2Caps%2C281&sr=8-52',\n",
       " 'https://www.amazon.in/Intern-INT-38C-Acoustic-Guitar-Natural/dp/B073B4D22T/ref=sr_1_53?crid=1570UROUGX04&dib=eyJ2IjoiMSJ9.wTmZbjEKHhyWxxfGK0FysKpyq5ESDlKtrk8PpwqXEN31EvXlFfPGE1koeqdIZFsmefWaY2IVCymofQ8ZDT3I_UsbNN-BwJVicACOlEbOE8ycbJ1rcAq6FEum_02uKi1h-quQ4AnIQaFI-L8Lef3f9bzvduZg2FS5HzwlyG5AwBuboONoBDsCXTDOYVZD71Iw_cJ3Zm8GRdvPmgj9PBrHhv2XoxCkuhdJFIlREZeNDdL4sAOM5M_X5_eHc8Dv1Mlzh50BS5KEbWU0I449IIiiwagdPQR1PKZdqYDDwkL61K0.8dZ9fJa0OqTVv6WPIFPdktIDpdzVh5gDfMfDsO6KOyI&dib_tag=se&keywords=Guitar&qid=1711584681&sprefix=guit%2Caps%2C281&sr=8-53',\n",
       " 'https://www.amazon.in/Medellin-MED-BLU-C-Linden-Acoustic-Guitar/dp/B07NBMWHJW/ref=sr_1_54?crid=1570UROUGX04&dib=eyJ2IjoiMSJ9.wTmZbjEKHhyWxxfGK0FysKpyq5ESDlKtrk8PpwqXEN31EvXlFfPGE1koeqdIZFsmefWaY2IVCymofQ8ZDT3I_UsbNN-BwJVicACOlEbOE8ycbJ1rcAq6FEum_02uKi1h-quQ4AnIQaFI-L8Lef3f9bzvduZg2FS5HzwlyG5AwBuboONoBDsCXTDOYVZD71Iw_cJ3Zm8GRdvPmgj9PBrHhv2XoxCkuhdJFIlREZeNDdL4sAOM5M_X5_eHc8Dv1Mlzh50BS5KEbWU0I449IIiiwagdPQR1PKZdqYDDwkL61K0.8dZ9fJa0OqTVv6WPIFPdktIDpdzVh5gDfMfDsO6KOyI&dib_tag=se&keywords=Guitar&qid=1711584681&sprefix=guit%2Caps%2C281&sr=8-54',\n",
       " 'https://www.amazon.in/JUAREZ-JRZ38C-Handed-Acoustic-Strings/dp/B01FYYTDW2/ref=sr_1_55?crid=1570UROUGX04&dib=eyJ2IjoiMSJ9.wTmZbjEKHhyWxxfGK0FysKpyq5ESDlKtrk8PpwqXEN31EvXlFfPGE1koeqdIZFsmefWaY2IVCymofQ8ZDT3I_UsbNN-BwJVicACOlEbOE8ycbJ1rcAq6FEum_02uKi1h-quQ4AnIQaFI-L8Lef3f9bzvduZg2FS5HzwlyG5AwBuboONoBDsCXTDOYVZD71Iw_cJ3Zm8GRdvPmgj9PBrHhv2XoxCkuhdJFIlREZeNDdL4sAOM5M_X5_eHc8Dv1Mlzh50BS5KEbWU0I449IIiiwagdPQR1PKZdqYDDwkL61K0.8dZ9fJa0OqTVv6WPIFPdktIDpdzVh5gDfMfDsO6KOyI&dib_tag=se&keywords=Guitar&qid=1711584681&sprefix=guit%2Caps%2C281&sr=8-55',\n",
       " 'https://www.amazon.in/Blueberry-VIP-382-38Inch-Cutaway-Acoustic/dp/B0BVVB1NNX/ref=sr_1_56?crid=1570UROUGX04&dib=eyJ2IjoiMSJ9.wTmZbjEKHhyWxxfGK0FysKpyq5ESDlKtrk8PpwqXEN31EvXlFfPGE1koeqdIZFsmefWaY2IVCymofQ8ZDT3I_UsbNN-BwJVicACOlEbOE8ycbJ1rcAq6FEum_02uKi1h-quQ4AnIQaFI-L8Lef3f9bzvduZg2FS5HzwlyG5AwBuboONoBDsCXTDOYVZD71Iw_cJ3Zm8GRdvPmgj9PBrHhv2XoxCkuhdJFIlREZeNDdL4sAOM5M_X5_eHc8Dv1Mlzh50BS5KEbWU0I449IIiiwagdPQR1PKZdqYDDwkL61K0.8dZ9fJa0OqTVv6WPIFPdktIDpdzVh5gDfMfDsO6KOyI&dib_tag=se&keywords=Guitar&qid=1711584681&sprefix=guit%2Caps%2C281&sr=8-56',\n",
       " 'https://www.amazon.in/sspa/click?ie=UTF8&spc=MToyOTQ4NzQ2NzEwNDE4MDg3OjE3MTE1ODQ2ODE6c3BfYnRmOjMwMDEyODA0MjM1NDkzMjo6MDo6&url=%2FBLUEBERRY-B-38C-Acoustic-Guitar-Strings%2Fdp%2FB0CNLKXVL5%2Fref%3Dsr_1_57_sspa%3Fcrid%3D1570UROUGX04%26dib%3DeyJ2IjoiMSJ9.wTmZbjEKHhyWxxfGK0FysKpyq5ESDlKtrk8PpwqXEN31EvXlFfPGE1koeqdIZFsmefWaY2IVCymofQ8ZDT3I_UsbNN-BwJVicACOlEbOE8ycbJ1rcAq6FEum_02uKi1h-quQ4AnIQaFI-L8Lef3f9bzvduZg2FS5HzwlyG5AwBuboONoBDsCXTDOYVZD71Iw_cJ3Zm8GRdvPmgj9PBrHhv2XoxCkuhdJFIlREZeNDdL4sAOM5M_X5_eHc8Dv1Mlzh50BS5KEbWU0I449IIiiwagdPQR1PKZdqYDDwkL61K0.8dZ9fJa0OqTVv6WPIFPdktIDpdzVh5gDfMfDsO6KOyI%26dib_tag%3Dse%26keywords%3DGuitar%26qid%3D1711584681%26sprefix%3Dguit%252Caps%252C281%26sr%3D8-57-spons%26sp_csd%3Dd2lkZ2V0TmFtZT1zcF9idGY%26psc%3D1',\n",
       " 'https://www.amazon.in/sspa/click?ie=UTF8&spc=MToyOTQ4NzQ2NzEwNDE4MDg3OjE3MTE1ODQ2ODE6c3BfYnRmOjIwMTI3OTkwMDI5Mzk4OjowOjo&url=%2FBlueberry-VIP-341-Natural-Acoustic%2Fdp%2FB0BVVJ8VG5%2Fref%3Dsr_1_58_sspa%3Fcrid%3D1570UROUGX04%26dib%3DeyJ2IjoiMSJ9.wTmZbjEKHhyWxxfGK0FysKpyq5ESDlKtrk8PpwqXEN31EvXlFfPGE1koeqdIZFsmefWaY2IVCymofQ8ZDT3I_UsbNN-BwJVicACOlEbOE8ycbJ1rcAq6FEum_02uKi1h-quQ4AnIQaFI-L8Lef3f9bzvduZg2FS5HzwlyG5AwBuboONoBDsCXTDOYVZD71Iw_cJ3Zm8GRdvPmgj9PBrHhv2XoxCkuhdJFIlREZeNDdL4sAOM5M_X5_eHc8Dv1Mlzh50BS5KEbWU0I449IIiiwagdPQR1PKZdqYDDwkL61K0.8dZ9fJa0OqTVv6WPIFPdktIDpdzVh5gDfMfDsO6KOyI%26dib_tag%3Dse%26keywords%3DGuitar%26qid%3D1711584681%26sprefix%3Dguit%252Caps%252C281%26sr%3D8-58-spons%26sp_csd%3Dd2lkZ2V0TmFtZT1zcF9idGY%26psc%3D1',\n",
       " 'https://www.amazon.in/sspa/click?ie=UTF8&spc=MToyOTQ4NzQ2NzEwNDE4MDg3OjE3MTE1ODQ2ODE6c3BfYnRmOjMwMDE1MTIzNjcwODYzMjo6MDo6&url=%2FAcoustic-Strings-Rosette-Rosewood-Fretboard%2Fdp%2FB09FPQX7RN%2Fref%3Dsr_1_59_sspa%3Fcrid%3D1570UROUGX04%26dib%3DeyJ2IjoiMSJ9.wTmZbjEKHhyWxxfGK0FysKpyq5ESDlKtrk8PpwqXEN31EvXlFfPGE1koeqdIZFsmefWaY2IVCymofQ8ZDT3I_UsbNN-BwJVicACOlEbOE8ycbJ1rcAq6FEum_02uKi1h-quQ4AnIQaFI-L8Lef3f9bzvduZg2FS5HzwlyG5AwBuboONoBDsCXTDOYVZD71Iw_cJ3Zm8GRdvPmgj9PBrHhv2XoxCkuhdJFIlREZeNDdL4sAOM5M_X5_eHc8Dv1Mlzh50BS5KEbWU0I449IIiiwagdPQR1PKZdqYDDwkL61K0.8dZ9fJa0OqTVv6WPIFPdktIDpdzVh5gDfMfDsO6KOyI%26dib_tag%3Dse%26keywords%3DGuitar%26qid%3D1711584681%26sprefix%3Dguit%252Caps%252C281%26sr%3D8-59-spons%26sp_csd%3Dd2lkZ2V0TmFtZT1zcF9idGY%26psc%3D1',\n",
       " 'https://www.amazon.in/sspa/click?ie=UTF8&spc=MToyOTQ4NzQ2NzEwNDE4MDg3OjE3MTE1ODQ2ODE6c3BfYnRmOjIwMDc4MzM2ODg3NDk4OjowOjo&url=%2FBlueberry-B-D38-Acoustic-Inbuilt-Strings%2Fdp%2FB07PHYZZP1%2Fref%3Dsr_1_60_sspa%3Fcrid%3D1570UROUGX04%26dib%3DeyJ2IjoiMSJ9.wTmZbjEKHhyWxxfGK0FysKpyq5ESDlKtrk8PpwqXEN31EvXlFfPGE1koeqdIZFsmefWaY2IVCymofQ8ZDT3I_UsbNN-BwJVicACOlEbOE8ycbJ1rcAq6FEum_02uKi1h-quQ4AnIQaFI-L8Lef3f9bzvduZg2FS5HzwlyG5AwBuboONoBDsCXTDOYVZD71Iw_cJ3Zm8GRdvPmgj9PBrHhv2XoxCkuhdJFIlREZeNDdL4sAOM5M_X5_eHc8Dv1Mlzh50BS5KEbWU0I449IIiiwagdPQR1PKZdqYDDwkL61K0.8dZ9fJa0OqTVv6WPIFPdktIDpdzVh5gDfMfDsO6KOyI%26dib_tag%3Dse%26keywords%3DGuitar%26qid%3D1711584681%26sprefix%3Dguit%252Caps%252C281%26sr%3D8-60-spons%26sp_csd%3Dd2lkZ2V0TmFtZT1zcF9idGY%26psc%3D1',\n",
       " 'https://www.amazon.in/sspa/click?ie=UTF8&spc=MToxMjY2NjM4NzM3ODE1MDg3OjE3MTE1ODQ2ODE6c3Bfc2VhcmNoX3RoZW1hdGljOjIwMDk2NjA4NzUwNDk4OjowOjo&url=%2FKadence-Frontier-Acoustic-Guitar-Strings%2Fdp%2FB01GDZ46AA%2Fref%3Dsxbs_pa_sp_search_thematic_sspa%3Fcontent-id%3Damzn1.sym.a83da621-77e7-4296-a3f4-89ab1b9d499e%253Aamzn1.sym.a83da621-77e7-4296-a3f4-89ab1b9d499e%26crid%3D1570UROUGX04%26cv_ct_cx%3DGuitar%26dib%3DeyJ2IjoiMSJ9.dxxUgg0YV5PJjnSYXA_vEJS_utv3FeAcxhlu5vF-gTeY4bZD5eHX37YJnVuSeEDjZtXE3LDyQhVxX_WMObn2aQ.-N8vTFqDw1XvMTkiXWcZDgjrlEjEyDqdDqkcT24ZTSU%26dib_tag%3Dse%26keywords%3DGuitar%26pd_rd_i%3DB01GDZ46AA%26pd_rd_r%3Dc8456d33-d965-4964-a888-ac32ab026546%26pd_rd_w%3D413qO%26pd_rd_wg%3DpvKuC%26pf_rd_p%3Da83da621-77e7-4296-a3f4-89ab1b9d499e%26pf_rd_r%3DCQ7347WMV73Y0S2XGJQH%26qid%3D1711584681%26sbo%3DRZvfv%252F%252FHxDF%252BO5021pAnSA%253D%253D%26sprefix%3Dguit%252Caps%252C281%26sr%3D1-1-2907eac4-8056-42c7-8014-fdf7bd4c5395-spons%26sp_csd%3Dd2lkZ2V0TmFtZT1zcF9zZWFyY2hfdGhlbWF0aWM%26psc%3D1',\n",
       " 'https://www.amazon.in/sspa/click?ie=UTF8&spc=MToxMjY2NjM4NzM3ODE1MDg3OjE3MTE1ODQ2ODE6c3Bfc2VhcmNoX3RoZW1hdGljOjMwMDAxNTUzNzk3OTIzMjo6MTo6&url=%2FKadence-Frontier-Acoustic-Guitar-Strings%2Fdp%2FB078GTJP5Y%2Fref%3Dsxbs_pa_sp_search_thematic_sspa%3Fcontent-id%3Damzn1.sym.a83da621-77e7-4296-a3f4-89ab1b9d499e%253Aamzn1.sym.a83da621-77e7-4296-a3f4-89ab1b9d499e%26crid%3D1570UROUGX04%26cv_ct_cx%3DGuitar%26dib%3DeyJ2IjoiMSJ9.dxxUgg0YV5PJjnSYXA_vEJS_utv3FeAcxhlu5vF-gTeY4bZD5eHX37YJnVuSeEDjZtXE3LDyQhVxX_WMObn2aQ.-N8vTFqDw1XvMTkiXWcZDgjrlEjEyDqdDqkcT24ZTSU%26dib_tag%3Dse%26keywords%3DGuitar%26pd_rd_i%3DB078GTJP5Y%26pd_rd_r%3Dc8456d33-d965-4964-a888-ac32ab026546%26pd_rd_w%3D413qO%26pd_rd_wg%3DpvKuC%26pf_rd_p%3Da83da621-77e7-4296-a3f4-89ab1b9d499e%26pf_rd_r%3DCQ7347WMV73Y0S2XGJQH%26qid%3D1711584681%26sbo%3DRZvfv%252F%252FHxDF%252BO5021pAnSA%253D%253D%26sprefix%3Dguit%252Caps%252C281%26sr%3D1-2-2907eac4-8056-42c7-8014-fdf7bd4c5395-spons%26sp_csd%3Dd2lkZ2V0TmFtZT1zcF9zZWFyY2hfdGhlbWF0aWM%26psc%3D1',\n",
       " 'https://www.amazon.in/sspa/click?ie=UTF8&spc=MToxMjY2NjM4NzM3ODE1MDg3OjE3MTE1ODQ2ODE6c3Bfc2VhcmNoX3RoZW1hdGljOjIwMDU3MTkzMDU2MjA0OjoyOjo&url=%2FKadence-Slowhand-Premium-Acoustic-Instrument%2Fdp%2FB077SZ667X%2Fref%3Dsxbs_pa_sp_search_thematic_sspa%3Fcontent-id%3Damzn1.sym.a83da621-77e7-4296-a3f4-89ab1b9d499e%253Aamzn1.sym.a83da621-77e7-4296-a3f4-89ab1b9d499e%26crid%3D1570UROUGX04%26cv_ct_cx%3DGuitar%26dib%3DeyJ2IjoiMSJ9.dxxUgg0YV5PJjnSYXA_vEJS_utv3FeAcxhlu5vF-gTeY4bZD5eHX37YJnVuSeEDjZtXE3LDyQhVxX_WMObn2aQ.-N8vTFqDw1XvMTkiXWcZDgjrlEjEyDqdDqkcT24ZTSU%26dib_tag%3Dse%26keywords%3DGuitar%26pd_rd_i%3DB077SZ667X%26pd_rd_r%3Dc8456d33-d965-4964-a888-ac32ab026546%26pd_rd_w%3D413qO%26pd_rd_wg%3DpvKuC%26pf_rd_p%3Da83da621-77e7-4296-a3f4-89ab1b9d499e%26pf_rd_r%3DCQ7347WMV73Y0S2XGJQH%26qid%3D1711584681%26sbo%3DRZvfv%252F%252FHxDF%252BO5021pAnSA%253D%253D%26sprefix%3Dguit%252Caps%252C281%26sr%3D1-3-2907eac4-8056-42c7-8014-fdf7bd4c5395-spons%26sp_csd%3Dd2lkZ2V0TmFtZT1zcF9zZWFyY2hfdGhlbWF0aWM%26psc%3D1',\n",
       " 'https://www.amazon.in/sspa/click?ie=UTF8&spc=MToxMjY2NjM4NzM3ODE1MDg3OjE3MTE1ODQ2ODE6c3Bfc2VhcmNoX3RoZW1hdGljOjMwMDE1MTIzNjcwODQzMjo6Mzo6&url=%2FJu%25C3%25A2rez-JRZ38C-WH-Strings-Acoustic%2Fdp%2FB072MFK4L6%2Fref%3Dsxbs_pa_sp_search_thematic_sspa%3Fcontent-id%3Damzn1.sym.a83da621-77e7-4296-a3f4-89ab1b9d499e%253Aamzn1.sym.a83da621-77e7-4296-a3f4-89ab1b9d499e%26crid%3D1570UROUGX04%26cv_ct_cx%3DGuitar%26dib%3DeyJ2IjoiMSJ9.dxxUgg0YV5PJjnSYXA_vEJS_utv3FeAcxhlu5vF-gTeY4bZD5eHX37YJnVuSeEDjZtXE3LDyQhVxX_WMObn2aQ.-N8vTFqDw1XvMTkiXWcZDgjrlEjEyDqdDqkcT24ZTSU%26dib_tag%3Dse%26keywords%3DGuitar%26pd_rd_i%3DB072MFK4L6%26pd_rd_r%3Dc8456d33-d965-4964-a888-ac32ab026546%26pd_rd_w%3D413qO%26pd_rd_wg%3DpvKuC%26pf_rd_p%3Da83da621-77e7-4296-a3f4-89ab1b9d499e%26pf_rd_r%3DCQ7347WMV73Y0S2XGJQH%26qid%3D1711584681%26sbo%3DRZvfv%252F%252FHxDF%252BO5021pAnSA%253D%253D%26sprefix%3Dguit%252Caps%252C281%26sr%3D1-4-2907eac4-8056-42c7-8014-fdf7bd4c5395-spons%26sp_csd%3Dd2lkZ2V0TmFtZT1zcF9zZWFyY2hfdGhlbWF0aWM%26psc%3D1',\n",
       " 'https://www.amazon.in/sspa/click?ie=UTF8&spc=MToxMjY2NjM4NzM3ODE1MDg3OjE3MTE1ODQ2ODE6c3Bfc2VhcmNoX3RoZW1hdGljOjMwMDEyODA0MjM1NTUzMjo6NDo6&url=%2FBLUEBERRY-B-38C-Acoustic-Guitar-Strings%2Fdp%2FB0C8V9BWK7%2Fref%3Dsxbs_pa_sp_search_thematic_sspa%3Fcontent-id%3Damzn1.sym.a83da621-77e7-4296-a3f4-89ab1b9d499e%253Aamzn1.sym.a83da621-77e7-4296-a3f4-89ab1b9d499e%26crid%3D1570UROUGX04%26cv_ct_cx%3DGuitar%26dib%3DeyJ2IjoiMSJ9.dxxUgg0YV5PJjnSYXA_vEJS_utv3FeAcxhlu5vF-gTeY4bZD5eHX37YJnVuSeEDjZtXE3LDyQhVxX_WMObn2aQ.-N8vTFqDw1XvMTkiXWcZDgjrlEjEyDqdDqkcT24ZTSU%26dib_tag%3Dse%26keywords%3DGuitar%26pd_rd_i%3DB0C8V9BWK7%26pd_rd_r%3Dc8456d33-d965-4964-a888-ac32ab026546%26pd_rd_w%3D413qO%26pd_rd_wg%3DpvKuC%26pf_rd_p%3Da83da621-77e7-4296-a3f4-89ab1b9d499e%26pf_rd_r%3DCQ7347WMV73Y0S2XGJQH%26qid%3D1711584681%26sbo%3DRZvfv%252F%252FHxDF%252BO5021pAnSA%253D%253D%26sprefix%3Dguit%252Caps%252C281%26sr%3D1-5-2907eac4-8056-42c7-8014-fdf7bd4c5395-spons%26sp_csd%3Dd2lkZ2V0TmFtZT1zcF9zZWFyY2hfdGhlbWF0aWM%26psc%3D1']"
      ]
     },
     "execution_count": 11,
     "metadata": {},
     "output_type": "execute_result"
    }
   ],
   "source": [
    "Brand_url"
   ]
  },
  {
   "cell_type": "code",
   "execution_count": 12,
   "id": "ca362047",
   "metadata": {},
   "outputs": [],
   "source": [
    "\n",
    "        \n",
    "Brand=[]\n",
    "Product_name=[]\n",
    "Price=[]\n",
    "Return=[]\n",
    "Expected_delivery=[]\n",
    "Availability=[]\n",
    "\n",
    "\n",
    "for url in Brand_url:\n",
    "    driver.get(url)\n",
    "    time.sleep(2)\n",
    "    \n",
    "    try:\n",
    "        brand=driver.find_element(By.XPATH,'//span[@class=\"a-size-base po-break-word\"]')    \n",
    "        Brand.append(brand.text)\n",
    "    except NoSuchElementException:\n",
    "        Brand.append('-')\n",
    "    \n",
    "    try:\n",
    "        product=driver.find_element(By.XPATH,'//span[@class=\"a-size-large product-title-word-break\"]')\n",
    "        Product_name.append(product.text)\n",
    "    except NoSuchElementException:\n",
    "        Product_name.append('-')\n",
    "       \n",
    "    \n",
    "    try:\n",
    "        price=driver.find_element(By.XPATH,'//span[@class=\"a-price-whole\"]')\n",
    "        Price.append(price.text) \n",
    "    except NoSuchElementException:\n",
    "        Price.append('-')\n",
    "    try:\n",
    "        exchange=driver.find_element(By.XPATH,'//span[@class=\"a-size-small a-color-link a-text-normal\"]')\n",
    "        Return.append(exchange.text)\n",
    "    except NoSuchElementException:\n",
    "        Return.append('-')\n",
    "        \n",
    "    try:\n",
    "        delivery=driver.find_element(By.XPATH,'//span[@class=\"a-text-bold\"]')\n",
    "        Expected_delivery.append(delivery.text)\n",
    "    except NoSuchElementException:\n",
    "        Expected_delivery.append('-')\n",
    "        \n",
    "    try:\n",
    "        available=driver.find_element(By.XPATH,'//span[@class=\"a-size-medium a-color-success\"]')\n",
    "        Availability.append(available.text)\n",
    "    except NoSuchElementException:\n",
    "        Availability.append('-')"
   ]
  },
  {
   "cell_type": "code",
   "execution_count": 13,
   "id": "8adc737b",
   "metadata": {},
   "outputs": [
    {
     "data": {
      "text/html": [
       "<div>\n",
       "<style scoped>\n",
       "    .dataframe tbody tr th:only-of-type {\n",
       "        vertical-align: middle;\n",
       "    }\n",
       "\n",
       "    .dataframe tbody tr th {\n",
       "        vertical-align: top;\n",
       "    }\n",
       "\n",
       "    .dataframe thead th {\n",
       "        text-align: right;\n",
       "    }\n",
       "</style>\n",
       "<table border=\"1\" class=\"dataframe\">\n",
       "  <thead>\n",
       "    <tr style=\"text-align: right;\">\n",
       "      <th></th>\n",
       "      <th>Brand</th>\n",
       "      <th>Product</th>\n",
       "      <th>Price</th>\n",
       "      <th>Return</th>\n",
       "      <th>Delivery</th>\n",
       "      <th>Availability</th>\n",
       "    </tr>\n",
       "  </thead>\n",
       "  <tbody>\n",
       "    <tr>\n",
       "      <th>0</th>\n",
       "      <td>Kadence</td>\n",
       "      <td>Kadence Frontier guitar with Online Guitar lea...</td>\n",
       "      <td>4,499</td>\n",
       "      <td>Free Delivery</td>\n",
       "      <td>Tuesday, 2 April</td>\n",
       "      <td>In stock</td>\n",
       "    </tr>\n",
       "    <tr>\n",
       "      <th>1</th>\n",
       "      <td>Kadence</td>\n",
       "      <td>Kadence rosewood Guitar Frontier Series, Elect...</td>\n",
       "      <td>5,499</td>\n",
       "      <td>Free Delivery</td>\n",
       "      <td>Sunday, 31 March</td>\n",
       "      <td>In stock</td>\n",
       "    </tr>\n",
       "    <tr>\n",
       "      <th>2</th>\n",
       "      <td>Henrix</td>\n",
       "      <td>Henrix 38C 38 Inch Cutaway Acoustic Guitar Wit...</td>\n",
       "      <td>3,099</td>\n",
       "      <td>Free Delivery</td>\n",
       "      <td>Sunday, 31 March</td>\n",
       "      <td>In stock</td>\n",
       "    </tr>\n",
       "    <tr>\n",
       "      <th>3</th>\n",
       "      <td>MOCKING BIRD</td>\n",
       "      <td>MOCKING BIRD 38 inch Acoustic Guitar for Begin...</td>\n",
       "      <td>3,179</td>\n",
       "      <td>Free Delivery</td>\n",
       "      <td>Wednesday, 3 April</td>\n",
       "      <td>In stock</td>\n",
       "    </tr>\n",
       "    <tr>\n",
       "      <th>4</th>\n",
       "      <td>JUAREZ</td>\n",
       "      <td>Juârez Acoustic Guitar Kit, 38 Inch Cutaway, 0...</td>\n",
       "      <td>1,949</td>\n",
       "      <td>Free Delivery</td>\n",
       "      <td>Tuesday, 2 April</td>\n",
       "      <td>In stock</td>\n",
       "    </tr>\n",
       "    <tr>\n",
       "      <th>...</th>\n",
       "      <td>...</td>\n",
       "      <td>...</td>\n",
       "      <td>...</td>\n",
       "      <td>...</td>\n",
       "      <td>...</td>\n",
       "      <td>...</td>\n",
       "    </tr>\n",
       "    <tr>\n",
       "      <th>208</th>\n",
       "      <td>Kadence</td>\n",
       "      <td>Kadence Frontier guitar with Online Guitar lea...</td>\n",
       "      <td>4,499</td>\n",
       "      <td>Free Delivery</td>\n",
       "      <td>Tuesday, 2 April</td>\n",
       "      <td>In stock</td>\n",
       "    </tr>\n",
       "    <tr>\n",
       "      <th>209</th>\n",
       "      <td>Kadence</td>\n",
       "      <td>Kadence rosewood Guitar Frontier Series, Elect...</td>\n",
       "      <td>5,499</td>\n",
       "      <td>Free Delivery</td>\n",
       "      <td>Sunday, 31 March</td>\n",
       "      <td>In stock</td>\n",
       "    </tr>\n",
       "    <tr>\n",
       "      <th>210</th>\n",
       "      <td>Kadence</td>\n",
       "      <td>Kadence Slowhand Premium Jumbo Semi Acoustic G...</td>\n",
       "      <td>9,999</td>\n",
       "      <td>Free Delivery</td>\n",
       "      <td>Sunday, 31 March</td>\n",
       "      <td>In stock</td>\n",
       "    </tr>\n",
       "    <tr>\n",
       "      <th>211</th>\n",
       "      <td>JUAREZ</td>\n",
       "      <td>Juârez JRZ38C/WH 6 Strings Acoustic Guitar 38 ...</td>\n",
       "      <td>1,739</td>\n",
       "      <td>Free Delivery</td>\n",
       "      <td>Tuesday, 2 April</td>\n",
       "      <td>In stock</td>\n",
       "    </tr>\n",
       "    <tr>\n",
       "      <th>212</th>\n",
       "      <td>blueberry</td>\n",
       "      <td>BLUEBERRY, B-38C Acoustic Guitar Kit with Bag,...</td>\n",
       "      <td>2,370</td>\n",
       "      <td>Free Delivery</td>\n",
       "      <td>Tuesday, 2 April</td>\n",
       "      <td>In stock</td>\n",
       "    </tr>\n",
       "  </tbody>\n",
       "</table>\n",
       "<p>213 rows × 6 columns</p>\n",
       "</div>"
      ],
      "text/plain": [
       "            Brand                                            Product  Price  \\\n",
       "0         Kadence  Kadence Frontier guitar with Online Guitar lea...  4,499   \n",
       "1         Kadence  Kadence rosewood Guitar Frontier Series, Elect...  5,499   \n",
       "2          Henrix  Henrix 38C 38 Inch Cutaway Acoustic Guitar Wit...  3,099   \n",
       "3    MOCKING BIRD  MOCKING BIRD 38 inch Acoustic Guitar for Begin...  3,179   \n",
       "4          JUAREZ  Juârez Acoustic Guitar Kit, 38 Inch Cutaway, 0...  1,949   \n",
       "..            ...                                                ...    ...   \n",
       "208       Kadence  Kadence Frontier guitar with Online Guitar lea...  4,499   \n",
       "209       Kadence  Kadence rosewood Guitar Frontier Series, Elect...  5,499   \n",
       "210       Kadence  Kadence Slowhand Premium Jumbo Semi Acoustic G...  9,999   \n",
       "211        JUAREZ  Juârez JRZ38C/WH 6 Strings Acoustic Guitar 38 ...  1,739   \n",
       "212     blueberry  BLUEBERRY, B-38C Acoustic Guitar Kit with Bag,...  2,370   \n",
       "\n",
       "            Return            Delivery Availability  \n",
       "0    Free Delivery    Tuesday, 2 April     In stock  \n",
       "1    Free Delivery    Sunday, 31 March     In stock  \n",
       "2    Free Delivery    Sunday, 31 March     In stock  \n",
       "3    Free Delivery  Wednesday, 3 April     In stock  \n",
       "4    Free Delivery    Tuesday, 2 April     In stock  \n",
       "..             ...                 ...          ...  \n",
       "208  Free Delivery    Tuesday, 2 April     In stock  \n",
       "209  Free Delivery    Sunday, 31 March     In stock  \n",
       "210  Free Delivery    Sunday, 31 March     In stock  \n",
       "211  Free Delivery    Tuesday, 2 April     In stock  \n",
       "212  Free Delivery    Tuesday, 2 April     In stock  \n",
       "\n",
       "[213 rows x 6 columns]"
      ]
     },
     "execution_count": 13,
     "metadata": {},
     "output_type": "execute_result"
    }
   ],
   "source": [
    "guitar=pd.DataFrame({'Brand':Brand,'Product':Product_name,'Price':Price,'Return':Return,'Delivery':Expected_delivery,'Availability':Availability})\n",
    "guitar\n"
   ]
  },
  {
   "cell_type": "code",
   "execution_count": 14,
   "id": "41b658dc",
   "metadata": {},
   "outputs": [
    {
     "name": "stdout",
     "output_type": "stream",
     "text": [
      "            Brand                                            Product  Price  \\\n",
      "0         Kadence  Kadence Frontier guitar with Online Guitar lea...  4,499   \n",
      "1         Kadence  Kadence rosewood Guitar Frontier Series, Elect...  5,499   \n",
      "2          Henrix  Henrix 38C 38 Inch Cutaway Acoustic Guitar Wit...  3,099   \n",
      "3    MOCKING BIRD  MOCKING BIRD 38 inch Acoustic Guitar for Begin...  3,179   \n",
      "4          JUAREZ  Juârez Acoustic Guitar Kit, 38 Inch Cutaway, 0...  1,949   \n",
      "..            ...                                                ...    ...   \n",
      "208       Kadence  Kadence Frontier guitar with Online Guitar lea...  4,499   \n",
      "209       Kadence  Kadence rosewood Guitar Frontier Series, Elect...  5,499   \n",
      "210       Kadence  Kadence Slowhand Premium Jumbo Semi Acoustic G...  9,999   \n",
      "211        JUAREZ  Juârez JRZ38C/WH 6 Strings Acoustic Guitar 38 ...  1,739   \n",
      "212     blueberry  BLUEBERRY, B-38C Acoustic Guitar Kit with Bag,...  2,370   \n",
      "\n",
      "            Return            Delivery Availability  \n",
      "0    Free Delivery    Tuesday, 2 April     In stock  \n",
      "1    Free Delivery    Sunday, 31 March     In stock  \n",
      "2    Free Delivery    Sunday, 31 March     In stock  \n",
      "3    Free Delivery  Wednesday, 3 April     In stock  \n",
      "4    Free Delivery    Tuesday, 2 April     In stock  \n",
      "..             ...                 ...          ...  \n",
      "208  Free Delivery    Tuesday, 2 April     In stock  \n",
      "209  Free Delivery    Sunday, 31 March     In stock  \n",
      "210  Free Delivery    Sunday, 31 March     In stock  \n",
      "211  Free Delivery    Tuesday, 2 April     In stock  \n",
      "212  Free Delivery    Tuesday, 2 April     In stock  \n",
      "\n",
      "[213 rows x 6 columns]\n"
     ]
    }
   ],
   "source": [
    "guitar.to_csv('guitar.csv')\n",
    "print(guitar)"
   ]
  },
  {
   "cell_type": "code",
   "execution_count": 15,
   "id": "d5ef354f",
   "metadata": {},
   "outputs": [],
   "source": [
    "#question no3\n",
    "driver.get('https://images.google.com/')"
   ]
  },
  {
   "cell_type": "code",
   "execution_count": 16,
   "id": "e845adcd",
   "metadata": {},
   "outputs": [],
   "source": [
    "item=driver.find_element(By.CLASS_NAME,\"gLFyf\")\n",
    "item.send_keys('Cake')"
   ]
  },
  {
   "cell_type": "code",
   "execution_count": 19,
   "id": "11a1f945",
   "metadata": {},
   "outputs": [],
   "source": [
    "search_bar=driver.find_element(By.CLASS_NAME,'zgAlFc')\n",
    "search_bar.click()"
   ]
  },
  {
   "cell_type": "code",
   "execution_count": 21,
   "id": "b2f6be63",
   "metadata": {},
   "outputs": [
    {
     "name": "stdout",
     "output_type": "stream",
     "text": [
      "downloading 0 of 10 images\n"
     ]
    },
    {
     "ename": "FileNotFoundError",
     "evalue": "[Errno 2] No such file or directory: 'c:\\\\Desktop\\\\users0.jpg'",
     "output_type": "error",
     "traceback": [
      "\u001b[1;31m---------------------------------------------------------------------------\u001b[0m",
      "\u001b[1;31mFileNotFoundError\u001b[0m                         Traceback (most recent call last)",
      "Cell \u001b[1;32mIn[21], line 18\u001b[0m\n\u001b[0;32m     16\u001b[0m \u001b[38;5;28mprint\u001b[39m (\u001b[38;5;124m'\u001b[39m\u001b[38;5;124mdownloading \u001b[39m\u001b[38;5;132;01m{0}\u001b[39;00m\u001b[38;5;124m of \u001b[39m\u001b[38;5;132;01m{1}\u001b[39;00m\u001b[38;5;124m images\u001b[39m\u001b[38;5;124m'\u001b[39m\u001b[38;5;241m.\u001b[39mformat (i,\u001b[38;5;241m10\u001b[39m))\n\u001b[0;32m     17\u001b[0m response\u001b[38;5;241m=\u001b[39m requests\u001b[38;5;241m.\u001b[39mget(img_urls[i])\n\u001b[1;32m---> 18\u001b[0m file\u001b[38;5;241m=\u001b[39m\u001b[38;5;28mopen\u001b[39m(\u001b[38;5;124mr\u001b[39m\u001b[38;5;124m'\u001b[39m\u001b[38;5;124mc:\u001b[39m\u001b[38;5;124m\\\u001b[39m\u001b[38;5;124mDesktop\u001b[39m\u001b[38;5;124m\\\u001b[39m\u001b[38;5;124musers\u001b[39m\u001b[38;5;124m'\u001b[39m\u001b[38;5;241m+\u001b[39m\u001b[38;5;28mstr\u001b[39m (i) \u001b[38;5;241m+\u001b[39m\u001b[38;5;124m'\u001b[39m\u001b[38;5;124m.jpg\u001b[39m\u001b[38;5;124m'\u001b[39m,\u001b[38;5;124m'\u001b[39m\u001b[38;5;124mwb\u001b[39m\u001b[38;5;124m'\u001b[39m)\n\u001b[0;32m     19\u001b[0m file\u001b[38;5;241m.\u001b[39mwrite(response\u001b[38;5;241m.\u001b[39mcontent)\n",
      "File \u001b[1;32m~\\anaconda3\\Lib\\site-packages\\IPython\\core\\interactiveshell.py:284\u001b[0m, in \u001b[0;36m_modified_open\u001b[1;34m(file, *args, **kwargs)\u001b[0m\n\u001b[0;32m    277\u001b[0m \u001b[38;5;28;01mif\u001b[39;00m file \u001b[38;5;129;01min\u001b[39;00m {\u001b[38;5;241m0\u001b[39m, \u001b[38;5;241m1\u001b[39m, \u001b[38;5;241m2\u001b[39m}:\n\u001b[0;32m    278\u001b[0m     \u001b[38;5;28;01mraise\u001b[39;00m \u001b[38;5;167;01mValueError\u001b[39;00m(\n\u001b[0;32m    279\u001b[0m         \u001b[38;5;124mf\u001b[39m\u001b[38;5;124m\"\u001b[39m\u001b[38;5;124mIPython won\u001b[39m\u001b[38;5;124m'\u001b[39m\u001b[38;5;124mt let you open fd=\u001b[39m\u001b[38;5;132;01m{\u001b[39;00mfile\u001b[38;5;132;01m}\u001b[39;00m\u001b[38;5;124m by default \u001b[39m\u001b[38;5;124m\"\u001b[39m\n\u001b[0;32m    280\u001b[0m         \u001b[38;5;124m\"\u001b[39m\u001b[38;5;124mas it is likely to crash IPython. If you know what you are doing, \u001b[39m\u001b[38;5;124m\"\u001b[39m\n\u001b[0;32m    281\u001b[0m         \u001b[38;5;124m\"\u001b[39m\u001b[38;5;124myou can use builtins\u001b[39m\u001b[38;5;124m'\u001b[39m\u001b[38;5;124m open.\u001b[39m\u001b[38;5;124m\"\u001b[39m\n\u001b[0;32m    282\u001b[0m     )\n\u001b[1;32m--> 284\u001b[0m \u001b[38;5;28;01mreturn\u001b[39;00m io_open(file, \u001b[38;5;241m*\u001b[39margs, \u001b[38;5;241m*\u001b[39m\u001b[38;5;241m*\u001b[39mkwargs)\n",
      "\u001b[1;31mFileNotFoundError\u001b[0m: [Errno 2] No such file or directory: 'c:\\\\Desktop\\\\users0.jpg'"
     ]
    }
   ],
   "source": [
    "for _ in range(20):\n",
    "    driver.execute_script(\"window.scrollBy(0,500)\")\n",
    "    \n",
    "img_urls=[]\n",
    "images=driver.find_elements(By.XPATH,'//img[@class=\"rg_i Q4LuWd\"]')\n",
    "for image in images:\n",
    "    source=image.get_attribute('src')\n",
    "    if source is not None:\n",
    "        if(source[0:4]==\"http\"):\n",
    "            img_urls.append(source)\n",
    "                \n",
    "                \n",
    "for i in range(len(img_urls)):\n",
    "    if i > 10:\n",
    "        breakBy.XPATH,\n",
    "    print ('downloading {0} of {1} images'.format (i,10))\n",
    "    response= requests.get(img_urls[i])\n",
    "    file=open(r'c:\\Desktop\\users'+str (i) +'.jpg','wb')\n",
    "    file.write(response.content)"
   ]
  },
  {
   "cell_type": "code",
   "execution_count": 22,
   "id": "10e488b3",
   "metadata": {},
   "outputs": [],
   "source": [
    "#question no 4\n",
    "driver.get('https://www.flipkart.com/')\n"
   ]
  },
  {
   "cell_type": "code",
   "execution_count": 24,
   "id": "338698de",
   "metadata": {},
   "outputs": [],
   "source": [
    "smartphone=driver.find_element(By.CLASS_NAME,'Pke_EE')\n",
    "smartphone.send_keys('Smart phone')"
   ]
  },
  {
   "cell_type": "code",
   "execution_count": 25,
   "id": "8e02d575",
   "metadata": {},
   "outputs": [],
   "source": [
    "search=driver.find_element(By.CLASS_NAME,'_2iLD__')\n",
    "search.click()"
   ]
  },
  {
   "cell_type": "code",
   "execution_count": 29,
   "id": "d5acc80f",
   "metadata": {},
   "outputs": [],
   "source": [
    "product_urls=[]\n",
    "url=driver.find_elements(By.XPATH,'//a[@class=\"_1fQZEK\"]')\n",
    "for i in url:\n",
    "    product_urls.append(i.get_attribute('href'))\n",
    "time.sleep(2)                       \n",
    "\n",
    "Brand_name=[]\n",
    "Smart_phone=[]\n",
    "Colour=[]\n",
    "Ram=[]\n",
    "Primary_camera=[]\n",
    "Rom=[]\n",
    "Display_size=[]\n",
    "Battery_capacity=[]\n",
    "Price=[]\n",
    "\n",
    "for url in product_urls:\n",
    "    driver.get(url)\n",
    "    time.sleep(2)\n",
    "    try:                    \n",
    "        brand=driver.find_element(By.XPATH,'//span[@class=\"B_NuCI\"]')\n",
    "        Brand_name.append(brand.text)\n",
    "    except NoSuchElementException:                    \n",
    "        Brand_name.append('-')\n",
    "        \n",
    "    try:\n",
    "        phone=driver.find_element(By.XPATH,'//li[@class=\"_21lJbe\"]tr[1]/tr[2]')\n",
    "        Smart_phone.append(phone.text)\n",
    "    except NoSuchElementException:\n",
    "        Smart_phone.append('-')\n",
    "    \n",
    "    try:\n",
    "        colour=driver.find_element(By.XPATH,'//li[@class=\"_21lJbe\"]/tr[1]/tr[2]/tr[3]')\n",
    "        Colour.append(colour.text)\n",
    "    except NoSuchElementException:\n",
    "        Colour.append('-')\n",
    "        \n",
    "    try:\n",
    "        ram=driver.find_element(By.XPATH,'//li[@class=\"_21Ahn-\"]')\n",
    "        Ram.append(ram.text)\n",
    "    except NoSuchElementException:\n",
    "        Ram.append('-')\n",
    "        \n",
    "    try:\n",
    "        camera=driver.find_element(By.XPATH,'//li[@class=\"_21Ahn-\"]/li[1]/li[2]')\n",
    "        Primary_camera.append(camera.text)\n",
    "    except NoSuchElementException:\n",
    "        Primary_camera.append('-')\n",
    "        \n",
    "    try:\n",
    "        rom=driver.find_element(By.XPATH,'//li[@class=\"_21Ahn-\"]')\n",
    "        Rom.append(rom.text)\n",
    "    except NoSuchElementException:\n",
    "        Rom.append('-')\n",
    "        \n",
    "    try:\n",
    "        display=driver.find_element(By.XPATH,'//li[@class=\"_21Ahn-\"]/li')\n",
    "        Display_size.append(display.text)\n",
    "    except NoSuchElementException:\n",
    "        Display_size.append('-')\n",
    "        \n",
    "    try:\n",
    "        battery=driver.find_element(By.XPATH,'//li[@class=\"_21Ahn-\"]/li[1]/li[2]/li[3]')\n",
    "        Battery_capacity.append(battery.text)\n",
    "    except NoSuchElementException:\n",
    "        Battery_capacity.append('-')\n",
    "        \n",
    "    try:\n",
    "        price=driver.find_element(By.XPATH,'//div[@class=\"_25b18c\"]')\n",
    "        Price.append(price.text)\n",
    "    except NoSuchElementException:\n",
    "        Price.append('-')\n",
    "    "
   ]
  },
  {
   "cell_type": "code",
   "execution_count": 30,
   "id": "ce709b25",
   "metadata": {},
   "outputs": [
    {
     "data": {
      "text/html": [
       "<div>\n",
       "<style scoped>\n",
       "    .dataframe tbody tr th:only-of-type {\n",
       "        vertical-align: middle;\n",
       "    }\n",
       "\n",
       "    .dataframe tbody tr th {\n",
       "        vertical-align: top;\n",
       "    }\n",
       "\n",
       "    .dataframe thead th {\n",
       "        text-align: right;\n",
       "    }\n",
       "</style>\n",
       "<table border=\"1\" class=\"dataframe\">\n",
       "  <thead>\n",
       "    <tr style=\"text-align: right;\">\n",
       "      <th></th>\n",
       "      <th>Brand</th>\n",
       "      <th>Phone</th>\n",
       "      <th>Colour</th>\n",
       "      <th>RAM</th>\n",
       "      <th>P.camera</th>\n",
       "      <th>ROM</th>\n",
       "      <th>Display</th>\n",
       "      <th>Battery</th>\n",
       "      <th>Price</th>\n",
       "    </tr>\n",
       "  </thead>\n",
       "  <tbody>\n",
       "  </tbody>\n",
       "</table>\n",
       "</div>"
      ],
      "text/plain": [
       "Empty DataFrame\n",
       "Columns: [Brand, Phone, Colour, RAM, P.camera, ROM, Display, Battery, Price]\n",
       "Index: []"
      ]
     },
     "execution_count": 30,
     "metadata": {},
     "output_type": "execute_result"
    }
   ],
   "source": [
    "sp=pd.DataFrame({'Brand':Brand_name,'Phone':Smart_phone,'Colour':Colour,'RAM':Ram,'P.camera':Primary_camera,'ROM':Rom,'Display':Display_size,'Battery':Battery_capacity,'Price':Price})\n",
    "sp"
   ]
  },
  {
   "cell_type": "code",
   "execution_count": 31,
   "id": "ca59a63a",
   "metadata": {},
   "outputs": [],
   "source": [
    "sp.to_csv('sp.csv')"
   ]
  },
  {
   "cell_type": "code",
   "execution_count": 32,
   "id": "657f4ad2",
   "metadata": {},
   "outputs": [
    {
     "data": {
      "text/html": [
       "<div>\n",
       "<style scoped>\n",
       "    .dataframe tbody tr th:only-of-type {\n",
       "        vertical-align: middle;\n",
       "    }\n",
       "\n",
       "    .dataframe tbody tr th {\n",
       "        vertical-align: top;\n",
       "    }\n",
       "\n",
       "    .dataframe thead th {\n",
       "        text-align: right;\n",
       "    }\n",
       "</style>\n",
       "<table border=\"1\" class=\"dataframe\">\n",
       "  <thead>\n",
       "    <tr style=\"text-align: right;\">\n",
       "      <th></th>\n",
       "      <th>Brand</th>\n",
       "      <th>Phone</th>\n",
       "      <th>Colour</th>\n",
       "      <th>RAM</th>\n",
       "      <th>P.camera</th>\n",
       "      <th>ROM</th>\n",
       "      <th>Display</th>\n",
       "      <th>Battery</th>\n",
       "      <th>Price</th>\n",
       "    </tr>\n",
       "  </thead>\n",
       "  <tbody>\n",
       "  </tbody>\n",
       "</table>\n",
       "</div>"
      ],
      "text/plain": [
       "Empty DataFrame\n",
       "Columns: [Brand, Phone, Colour, RAM, P.camera, ROM, Display, Battery, Price]\n",
       "Index: []"
      ]
     },
     "execution_count": 32,
     "metadata": {},
     "output_type": "execute_result"
    }
   ],
   "source": [
    "sp"
   ]
  },
  {
   "cell_type": "code",
   "execution_count": 131,
   "id": "20e0af60",
   "metadata": {},
   "outputs": [],
   "source": [
    "import re"
   ]
  },
  {
   "cell_type": "code",
   "execution_count": 132,
   "id": "381d46c0",
   "metadata": {},
   "outputs": [],
   "source": [
    "#question no 5\n",
    "driver.get('https://www.google.com/maps/@1.314,103.84425,11z?entry=ttu')"
   ]
  },
  {
   "cell_type": "code",
   "execution_count": 133,
   "id": "346271b8",
   "metadata": {},
   "outputs": [],
   "source": [
    "place=driver.find_element(By.XPATH,'/html/body/div[1]/div[3]/div[8]/div[3]/div[1]/div[1]/div/div[2]/form/input')\n",
    "place.send_keys('Delhi')"
   ]
  },
  {
   "cell_type": "code",
   "execution_count": 134,
   "id": "32fe7441",
   "metadata": {},
   "outputs": [],
   "source": [
    "search=driver.find_element(By.CLASS_NAME,'google-symbols')\n",
    "search.click()"
   ]
  },
  {
   "cell_type": "code",
   "execution_count": 135,
   "id": "b2844db9",
   "metadata": {},
   "outputs": [
    {
     "name": "stdout",
     "output_type": "stream",
     "text": [
      "URL Extracted: https://www.google.com/maps/place/Delhi/@28.6436846,76.7635666,10z/data=!3m1!4b1!4m6!3m5!1s0x390cfd5b347eb62d:0x37205b715389640!8m2!3d28.7040592!4d77.1024902!16zL20vMDlmMDc?entry=ttu\n"
     ]
    }
   ],
   "source": [
    "try:\n",
    "    url_string= driver.current_url\n",
    "    print(\"URL Extracted:\",url_string)\n",
    "    lat_lng= re.findall(r'@(.*)data',url_string)\n",
    "except NoSuchElementException:\n",
    "    x=(re.sub('[,.]',':',lat_lng))\n",
    "    print(x)\n",
    "    "
   ]
  },
  {
   "cell_type": "code",
   "execution_count": 136,
   "id": "4c860286",
   "metadata": {},
   "outputs": [],
   "source": [
    "#question no 6\n",
    "driver.get('https://www.digit.in/')"
   ]
  },
  {
   "cell_type": "code",
   "execution_count": 151,
   "id": "4936201d",
   "metadata": {},
   "outputs": [],
   "source": [
    "Top_laptop=[]\n",
    "\n",
    "laptop=driver.find_elements(By.XPATH,'/html/body/div[1]/div[3]/div/div/article/div[5]/div/div[2]/div[1]/div/div/div/div[2]/div[2]/h3/a')\n",
    "for i in laptop:\n",
    "    Top_laptop.append(i.get_attribute('href'))\n",
    "\n",
    "Operating_system=[]\n",
    "Display_size=[]\n",
    "Resolution=[]\n",
    "Processor=[]\n",
    "    \n",
    "for laptop in Top_laptop:\n",
    "    driver.get(laptop)\n",
    "    time.sleep(2)\n",
    "try:\n",
    "    operating=driver.find_element(By.XPATH,'//div[@class=\"rh-flex-center-align\"]')\n",
    "    Operating_system.append(operating.text)\n",
    "except NoSuchElementException:\n",
    "    Operating_system.append('-')\n",
    "    \n",
    "try:\n",
    "    display=driver.find_element(By.XPATH,'//div[@class=\"rh-flex-center-align\"]/i/div[1]')\n",
    "    Display_size.append(display.text)\n",
    "except NoSuchElementException:\n",
    "    Display_size.append('-')\n",
    "    \n",
    "try:\n",
    "    resolution=driver.find_element(By.XPATH,'//div[@class=\"rh-flex-center-align\"]/i[1]/div[1]/div[2]/i[2]')\n",
    "    Resolution.append(resolution.text)\n",
    "except NoSuchElementException:\n",
    "    Resolution.append('-')\n",
    "    \n",
    "try:\n",
    "    pro=driver.find_element(By.XPATH,'//span[@class=\"meta_v_value\"]/div[1]/div[2]/i[1]/div[3]/div[4]/i[2]/div[5]')\n",
    "    Procrssor.append(pro.text)\n",
    "except NoSuchElementException:\n",
    "    Processor.append('-')\n",
    "    "
   ]
  },
  {
   "cell_type": "code",
   "execution_count": 154,
   "id": "c1e6a20f",
   "metadata": {},
   "outputs": [
    {
     "data": {
      "text/plain": [
       "['-']"
      ]
     },
     "execution_count": 154,
     "metadata": {},
     "output_type": "execute_result"
    }
   ],
   "source": [
    "Resolution"
   ]
  },
  {
   "cell_type": "code",
   "execution_count": 153,
   "id": "7a805c41",
   "metadata": {},
   "outputs": [
    {
     "data": {
      "text/plain": [
       "0"
      ]
     },
     "execution_count": 153,
     "metadata": {},
     "output_type": "execute_result"
    }
   ],
   "source": [
    "len(Top_laptop)"
   ]
  },
  {
   "cell_type": "code",
   "execution_count": 75,
   "id": "2f7a9300",
   "metadata": {},
   "outputs": [],
   "source": [
    "top_laptop=[]\n",
    "laptop=driver.find_elements(By.XPATH,'//div[@class=\"woo_code_zone_loop clearbox\"]')\n",
    "for i in laptop:\n",
    "    top_laptop.append(i.text)"
   ]
  },
  {
   "cell_type": "code",
   "execution_count": 76,
   "id": "8db95015",
   "metadata": {},
   "outputs": [
    {
     "data": {
      "text/plain": [
       "['',\n",
       " '',\n",
       " '',\n",
       " '',\n",
       " 'Operating System:\\nWindows 11 Home\\nDisplay Size :\\n13.3\\nResolution :\\n2560 x 1600\\nProcessor :\\n12th Gen Intel Core I7-1260P',\n",
       " 'Operating System:\\nMac Monterey\\nDisplay Size :\\n13.3\\nResolution :\\n2560 x 1600\\nProcessor :\\nApple M2',\n",
       " '',\n",
       " 'Operating System:\\nMacOS\\nDisplay Size :\\n16\\nProcessor :\\nApple M1 Pro']"
      ]
     },
     "execution_count": 76,
     "metadata": {},
     "output_type": "execute_result"
    }
   ],
   "source": [
    "top_laptop"
   ]
  },
  {
   "cell_type": "code",
   "execution_count": 155,
   "id": "8a4745f0",
   "metadata": {},
   "outputs": [],
   "source": [
    "#question no 7\n",
    "driver.get('https://www.forbes.com/?sh=662e21b72254')"
   ]
  },
  {
   "cell_type": "code",
   "execution_count": 175,
   "id": "557c7a00",
   "metadata": {},
   "outputs": [],
   "source": [
    "Billionaires=[]\n",
    "bill=driver.find_elements(By.XPATH,'//div[@class=\"TableRow_rowContainer__IC1Tv\"]')\n",
    "for i in bill:\n",
    "    Billinaires.append(i.get_attribute('href'))\n",
    "    time.sleep(2)\n",
    "    \n",
    "Rank=[]\n",
    "Name=[]\n",
    "Net_worth=[]\n",
    "Age=[]\n",
    "Citizenship=[]\n",
    "Source=[]\n",
    "Industry=[]\n",
    "\n",
    "for bill in Billionaires:\n",
    "    driver.get(bill)\n",
    "    time.sleep(2)    \n",
    "    try:\n",
    "        rank=driver.find_element(By.XPATH,'//div[@class=\"Table_rank___YBhk Table_dataCell__2QCve\"]')\n",
    "        Rank.append(rank.text)\n",
    "    except NoSuchElementException:\n",
    "        Rank.append('-')\n",
    "        \n",
    "        \n",
    "    try:\n",
    "        name=driver.find_element(By.XPATH,'//div[@class=\"Table_dataCell__2QCve\"]')\n",
    "        Name.append(name.text)\n",
    "    except NoSuchElemenrException:\n",
    "        Name.append('-')\n",
    "        \n",
    "    try:\n",
    "        worth=driver.find_element(By.XPATH,'//div[@class=\"Table_netWorth___L4R5 Table_dataCell__2QCve\"]')\n",
    "        Net_worth.append(worth.text)\n",
    "    except NosuchElementException:\n",
    "        Net_worth.append('-')\n",
    "        \n",
    "    try:\n",
    "        age=driver.find_element(By.XPATH,'/html/body/div[1]/div[2]/div[3]/div[2]/div[2]/div[2]/div[1]/div[1]/div[1]/div[2]/div[1]/div[1]/div[4]/div')\n",
    "        Age.append(age.text)\n",
    "    except NoSuchElementException:\n",
    "        Age.append('-')\n",
    "        \n",
    "    try:\n",
    "        citizen=driver.find_element(By.XPATH,'//div[@class=\"TableRow_cell__db-hv Table_cell__houv9\"]/div[1]/div[2]/div[3]/div[4]/div[5]/div[6]/div[7]')\n",
    "        Citizenship.append(citizen.text)\n",
    "    except NoSuchElementException:\n",
    "        Citizenship.append('-')\n",
    "        \n",
    "    try:\n",
    "        source=driver.find_element(By.XPATH,'//div[@class=\"Table_dataCell__2QCve\"]')\n",
    "        Source.append(source.text)\n",
    "    except NoSuchElementException:\n",
    "        Source.append('-')\n",
    "        \n",
    "    try:\n",
    "        industry=driver.find_element(By.XPATH,'//div[@class=\"Table_dataCell__2QCve\"]/div[1]/div[2]/div[3]/div[4]/div[5]/div[6]')\n",
    "        Industry.append(industry.text)\n",
    "    except NoSuchElementException:\n",
    "        Industry.append('-')\n"
   ]
  },
  {
   "cell_type": "code",
   "execution_count": 182,
   "id": "768fe3f0",
   "metadata": {},
   "outputs": [],
   "source": [
    "#question no 8\n",
    "driver.get('https://www.youtube.com/')"
   ]
  },
  {
   "cell_type": "code",
   "execution_count": 183,
   "id": "7aea40fc",
   "metadata": {},
   "outputs": [],
   "source": [
    "channel=driver.find_element(By.CLASS_NAME,'style-scope ytd-searchbox')\n",
    "channel.send_keys('Cake')"
   ]
  },
  {
   "cell_type": "code",
   "execution_count": 187,
   "id": "37566e69",
   "metadata": {},
   "outputs": [],
   "source": [
    "search=driver.find_element(By.CLASS_NAME,'style-scope ytd-searchbox')\n",
    "search.click()"
   ]
  },
  {
   "cell_type": "code",
   "execution_count": 190,
   "id": "2ada7747",
   "metadata": {},
   "outputs": [],
   "source": [
    "for _ in range(1000):\n",
    "    driver.execute_script(\"window.scrollBy(0,1000)\")\n",
    "    \n",
    "    \n",
    "comment_url=[]\n",
    "comments=driver.find_elements(By.XPATH,'//div[@class=\"style-scope ytd-expander\"]')\n",
    "upvotes=driver.find_elements(By.XPATH,'//div[@class=\"yt-spec-touch-feedback-shape yt-spec-touch-feedback-shape--touch-response\"]')\n",
    "time=driver.find_elements(By.XPATH,'//a[@class=\"yt-simple-endpoint style-scope ytd-comment-view-model\"]/yt/div[1]/div[2]')\n",
    "\n",
    "for comments,upvotes,time in zip (comments,upvotes,time):\n",
    "    extracted_data.append({'comment':comments.text,'upvote':upvotes.text,'time':time.text})\n",
    "    comment_url.append(comments.get_attribute(\"href\"))\n",
    "    time.sleep(2)\n",
    "    "
   ]
  },
  {
   "cell_type": "code",
   "execution_count": 191,
   "id": "5d91ab22",
   "metadata": {},
   "outputs": [],
   "source": [
    "#question no 9\n",
    "driver.get('https://www.hostelworld.com/')"
   ]
  },
  {
   "cell_type": "code",
   "execution_count": 204,
   "id": "36373087",
   "metadata": {},
   "outputs": [],
   "source": [
    "hostel=driver.find_element(By.XPATH,\"/html/body/div[3]/div/div/div[2]/div[2]/div[2]/div/div/div/div[1]/div[1]/div/div[2]/input\")\n",
    "hostel.send_keys('London')"
   ]
  },
  {
   "cell_type": "code",
   "execution_count": 205,
   "id": "c7410b9a",
   "metadata": {},
   "outputs": [],
   "source": [
    "search=driver.find_element(By.XPATH,'/html/body/div[3]/div/div/div[2]/div[2]/div[2]/div/div/div/div[5]/button[2]')\n",
    "search.click()"
   ]
  },
  {
   "cell_type": "code",
   "execution_count": 209,
   "id": "040a9a23",
   "metadata": {},
   "outputs": [],
   "source": [
    "host_url=[]\n",
    "\n",
    "url=driver.find_elements(By.XPATH,'//a[@class=\"property-card-container horizontal\"]')\n",
    "for i in url:\n",
    "    host_url.append(i.get_attribute('href'))\n"
   ]
  },
  {
   "cell_type": "code",
   "execution_count": 214,
   "id": "5ac72755",
   "metadata": {},
   "outputs": [],
   "source": [
    "hostel_name=[]\n",
    "distance=[]\n",
    "ratings=[]\n",
    "total_review=[]\n",
    "overall_review=[]\n",
    "private_price=[]\n",
    "dorm_price=[]\n",
    "facility=[]\n",
    "property_description=[]\n",
    "\n",
    "for url in host_url:\n",
    "    driver.get(url)\n",
    "    time.sleep(2)\n",
    "    \n",
    "    try:\n",
    "        hostel=driver.find_element(By.XPATH,'//div[@class=\"title-2\"]')    \n",
    "        hostel_name.append(hostel.text)\n",
    "    except NoSuchElementException:\n",
    "        hostel_name.append('-')\n",
    "    \n",
    "    try:\n",
    "        dis=driver.find_element(By.XPATH,'//div[@class=\"body-3\"]')\n",
    "        distance.append(dis.text)\n",
    "    except NoSuchElementException:\n",
    "        distance.append('-')\n",
    "       \n",
    "    \n",
    "    try:\n",
    "        rating=driver.find_element(By.XPATH,'//div[@class=\"rating rating-summary-container big clickable\"]')\n",
    "        ratings.append(rating.text) \n",
    "    except NoSuchElementException:\n",
    "        ratings.append('-')\n",
    "    try:\n",
    "        review=driver.find_element(By.XPATH,'//div[@class=\"page-inner latest-reviews\"]')\n",
    "        total_review.append(review.text)\n",
    "    except NoSuchElementException:\n",
    "        total_review.append('-')\n",
    "        \n",
    "    try:\n",
    "        olr=driver.find_element(By.XPATH,'//ul[@class=\"rating-breakdown rating-grid\"]')\n",
    "        overall_review.append(olr.text)\n",
    "    except NoSuchElementException:\n",
    "        overall_review.append('-')\n",
    "        \n",
    "    try:\n",
    "        price=driver.find_element(By.XPATH,'//div[@class=\"availability-table\"]')\n",
    "        private_price.append(price.text)\n",
    "    except NoSuchElementException:\n",
    "        private_price.append('-')\n",
    "        \n",
    "    try:\n",
    "        dorm=driver.find_element(By.XPATH,'//div[@class=\"rate-list\"]/div[1]/div[2]/div[3]/div[4]')\n",
    "        dorm_price.append(dorm.text)\n",
    "    except NoSuchElementException:\n",
    "        dorm_price.append('-')\n",
    "        \n",
    "    try:\n",
    "        fac=driver.find_element(By.XPATH,'//div[@class=\"facilities-container\"]')\n",
    "        facility.append(fac.text)\n",
    "    except NoSuchElementException:\n",
    "        facility.append('-')  \n",
    "        \n",
    "    try:\n",
    "        pro=driver.find_element(By.XPATH,'//div[@class=\"collapsible\"]')\n",
    "        property_description.append(pro.text)\n",
    "    except NoSuchElementException:\n",
    "        property_description.append('-')"
   ]
  },
  {
   "cell_type": "code",
   "execution_count": null,
   "id": "d7fdf95d",
   "metadata": {},
   "outputs": [],
   "source": []
  }
 ],
 "metadata": {
  "kernelspec": {
   "display_name": "Python 3 (ipykernel)",
   "language": "python",
   "name": "python3"
  },
  "language_info": {
   "codemirror_mode": {
    "name": "ipython",
    "version": 3
   },
   "file_extension": ".py",
   "mimetype": "text/x-python",
   "name": "python",
   "nbconvert_exporter": "python",
   "pygments_lexer": "ipython3",
   "version": "3.11.4"
  }
 },
 "nbformat": 4,
 "nbformat_minor": 5
}
